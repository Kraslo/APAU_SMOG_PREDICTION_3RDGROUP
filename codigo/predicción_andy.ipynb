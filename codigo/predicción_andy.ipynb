{
 "cells": [
  {
   "cell_type": "markdown",
   "metadata": {},
   "source": [
    "## Import Libraries"
   ]
  },
  {
   "cell_type": "code",
   "execution_count": null,
   "metadata": {},
   "outputs": [],
   "source": [
    "import pandas as pd\n",
    "import os\n",
    "\n",
    "from sklearn.preprocessing import OneHotEncoder\n",
    "from sklearn.preprocessing import StandardScaler\n",
    "from sklearn.preprocessing import Normalizer\n",
    "\n",
    "\n",
    "from sklearn.svm import LinearSVC\n",
    "\n",
    "from sklearn.model_selection import train_test_split\n",
    "from sklearn.model_selection import GridSearchCV\n",
    "\n",
    "from sklearn.metrics import accuracy_score\n",
    "from sklearn.metrics import f1_score\n",
    "from sklearn.metrics import confusion_matrix\n",
    "from sklearn.metrics import classification_report\n",
    "\n",
    "from sklearn.pipeline import Pipeline\n",
    "from sklearn.compose import ColumnTransformer\n",
    "\n",
    "from sklearn.linear_model import LogisticRegression\n",
    "\n",
    "from sklearn.naive_bayes import GaussianNB\n",
    "\n",
    "from sklearn.ensemble import StackingClassifier\n",
    "from sklearn.ensemble import RandomForestRegressor\n",
    "from sklearn.ensemble import RandomForestClassifier\n",
    "from sklearn.ensemble import GradientBoostingClassifier\n",
    "from sklearn.ensemble import ExtraTreesClassifier\n",
    "\n",
    "from sklearn.svm import SVC\n",
    "\n",
    "from sklearn.model_selection import GridSearchCV\n",
    "from sklearn.model_selection import cross_val_score\n",
    "\n",
    "from imblearn.over_sampling import SMOTENC\n",
    "import numpy as np\n",
    "\n",
    "import seaborn as sns\n",
    "import matplotlib.pyplot as plt\n",
    "\n",
    "def csv(predicciones,nombre,df_test):\n",
    "    y_pred = pd.DataFrame({'id':df_test['id'],'Predicted':predicciones})\n",
    "    y_pred['Predicted'] = y_pred['Predicted'].astype(int)\n",
    "    y_pred.to_csv(nombre,index=False)\n",
    "\n",
    "def standard_scale(df):\n",
    "    '''Devuelve un dataframe con las columnas escaladas'''\n",
    "    scaler = StandardScaler()\n",
    "    string = df.select_dtypes(include=['object']).columns #solo vamos a escalar las columnas que no son string\n",
    "    df_no_string = df.drop(string,axis=1)\n",
    "    df_no_string = scaler.fit_transform(df_no_string)\n",
    "    df_no_string = pd.DataFrame(df_no_string,columns=df.drop(string,axis=1).columns)\n",
    "    df_escaled = df.copy()\n",
    "    df_escaled[df_no_string.columns] = df_no_string\n",
    "    return df_escaled\n",
    "\n",
    "\n",
    "\n"
   ]
  },
  {
   "cell_type": "markdown",
   "metadata": {},
   "source": [
    "## Load Data"
   ]
  },
  {
   "cell_type": "code",
   "execution_count": 2375,
   "metadata": {},
   "outputs": [],
   "source": [
    "directorio = '../apau-smog-prediction/'\n",
    "lista = os.listdir(directorio)\n",
    "for i in lista:\n",
    "    exec(i.split('.')[0] + ' = pd.read_csv(directorio + i)')"
   ]
  },
  {
   "cell_type": "markdown",
   "metadata": {},
   "source": [
    "Eliminamos todas las columnas que hemos explicado en el apartado de preparación de datos."
   ]
  },
  {
   "cell_type": "code",
   "execution_count": 2376,
   "metadata": {},
   "outputs": [],
   "source": [
    "smog = train['Smog']\n",
    "train = train.drop(['id','Comb (L/100 km)','Comb (mpg)','Model','Model Year','Smog'], axis=1)\n",
    "id =test_nolabel['id']\n",
    "test_nolabel = test_nolabel.drop(['id','Comb (L/100 km)','Comb (mpg)','Model','Model Year'], axis=1)"
   ]
  },
  {
   "cell_type": "code",
   "execution_count": 2377,
   "metadata": {},
   "outputs": [
    {
     "name": "stdout",
     "output_type": "stream",
     "text": [
      "<class 'pandas.core.frame.DataFrame'>\n",
      "RangeIndex: 586 entries, 0 to 585\n",
      "Data columns (total 9 columns):\n",
      " #   Column                            Non-Null Count  Dtype  \n",
      "---  ------                            --------------  -----  \n",
      " 0   Make                              586 non-null    object \n",
      " 1   Vehicle Class                     586 non-null    object \n",
      " 2   Engine Size (L)                   586 non-null    float64\n",
      " 3   Cylinders                         586 non-null    int64  \n",
      " 4   Transmission                      586 non-null    object \n",
      " 5   Fuel Type                         586 non-null    object \n",
      " 6   Fuel Consumption City (L/100 km)  586 non-null    float64\n",
      " 7   Hwy (L/100 km)                    586 non-null    float64\n",
      " 8   CO2 Emissions (g/km)              586 non-null    int64  \n",
      "dtypes: float64(3), int64(2), object(4)\n",
      "memory usage: 41.3+ KB\n"
     ]
    }
   ],
   "source": [
    "train.info()"
   ]
  },
  {
   "cell_type": "markdown",
   "metadata": {},
   "source": [
    "Vamos a resolver el problema de desbalanceo de clases con la técnica de oversampling de SMOTENC con diferentes estrategias de sampling: mayority\n",
    "y not majority."
   ]
  },
  {
   "cell_type": "code",
   "execution_count": 2378,
   "metadata": {},
   "outputs": [],
   "source": [
    "sm = SMOTENC(random_state=42, categorical_features=[0,1,4,5], sampling_strategy='minority', k_neighbors=5)\n",
    "sm_auto = SMOTENC(random_state=42, categorical_features=[0,1,4,5], sampling_strategy='auto', k_neighbors=5)\n",
    "train_mayority, smog_mayority = sm.fit_resample(train, smog)\n",
    "train_auto, smog_auto = sm_auto.fit_resample(train, smog)\n",
    "\n"
   ]
  },
  {
   "cell_type": "markdown",
   "metadata": {},
   "source": [
    "### Train, train_mayority y train_auto"
   ]
  },
  {
   "cell_type": "code",
   "execution_count": 2379,
   "metadata": {},
   "outputs": [
    {
     "data": {
      "text/plain": [
       "Text(0.5, 1.0, 'Smog auto')"
      ]
     },
     "execution_count": 2379,
     "metadata": {},
     "output_type": "execute_result"
    },
    {
     "data": {
      "image/png": "[encoded data removed]",
      "text/plain": [
       "<Figure size 1500x500 with 3 Axes>"
      ]
     },
     "metadata": {},
     "output_type": "display_data"
    }
   ],
   "source": [
    "ax,fig = plt.subplots(1,3,figsize=(15,5))\n",
    "\n",
    "fig[0].hist(smog, bins=100)\n",
    "fig[0].set_title('Smog original')\n",
    "\n",
    "fig[1].hist(smog_mayority, bins=100)\n",
    "fig[1].set_title('Smog mayority')\n",
    "\n",
    "fig[2].hist(smog_auto, bins=100)\n",
    "fig[2].set_title('Smog auto')\n"
   ]
  },
  {
   "cell_type": "markdown",
   "metadata": {},
   "source": [
    "### Pipeline"
   ]
  },
  {
   "cell_type": "markdown",
   "metadata": {},
   "source": [
    "Pipeline nos sirve para encadenar varios pasos en un mismo objeto. En este caso, vamos a encadenar el preprocesado de los datos y el entrenamiento del modelo."
   ]
  },
  {
   "cell_type": "code",
   "execution_count": 2380,
   "metadata": {},
   "outputs": [],
   "source": [
    "cat_cols = train.select_dtypes(include=\"object\").columns.tolist()\n",
    "num_cols = train.select_dtypes(exclude=\"object\").columns.tolist()\n",
    "\n",
    "cat_pipe = Pipeline([\n",
    "    (\"ohe\", OneHotEncoder(handle_unknown=\"ignore\"))\n",
    "])\n",
    "\n",
    "num_pipe = Pipeline([\n",
    "    (\"scaler\", StandardScaler())\n",
    "])\n",
    "\n",
    "\n",
    "preprocessor = ColumnTransformer([\n",
    "    (\"cat\", cat_pipe, cat_cols),#aplicamos onehotencoder a las columnas categóricas\n",
    "    (\"num\", num_pipe, num_cols)#aplicamos standard scaler a las columnas numéricas\n",
    "])"
   ]
  },
  {
   "cell_type": "code",
   "execution_count": 2381,
   "metadata": {},
   "outputs": [],
   "source": [
    "lista_entreno = [train,train_mayority,train_auto]\n",
    "lista_smog = [smog,smog_mayority,smog_auto]\n",
    "lista_nombres = ['original','mayority','auto']"
   ]
  },
  {
   "cell_type": "markdown",
   "metadata": {},
   "source": [
    "#### Árboles de decisión"
   ]
  },
  {
   "cell_type": "markdown",
   "metadata": {},
   "source": [
    "##### Random Forest Classifier"
   ]
  },
  {
   "cell_type": "code",
   "execution_count": 2382,
   "metadata": {},
   "outputs": [],
   "source": [
    "rf = Pipeline([\n",
    "    (\"pre\", preprocessor),\n",
    "    (\"rf\", RandomForestClassifier(random_state=42,class_weight='balanced'))\n",
    "])\n",
    "\n"
   ]
  },
  {
   "cell_type": "code",
   "execution_count": 2383,
   "metadata": {},
   "outputs": [
    {
     "name": "stdout",
     "output_type": "stream",
     "text": [
      "Accuracy:  0.8054469071418223\n",
      "F1:  [0.83353374 0.84384208 0.83249153 0.87247811 0.75548732]\n",
      "F1_mean:  0.8275665554665693\n",
      "train: original\n",
      "--------------------------------------------------\n",
      "Accuracy:  0.8346666666666668\n",
      "F1:  [0.80777125 0.85567245 0.85191127 0.8397077  0.77452148]\n",
      "F1_mean:  0.8259168301364491\n",
      "train: mayority\n",
      "--------------------------------------------------\n",
      "Accuracy:  0.8670050761421321\n",
      "F1:  [0.81385255 0.85324192 0.83980167 0.94243232 0.88057746]\n",
      "F1_mean:  0.8659811836208459\n",
      "train: auto\n",
      "--------------------------------------------------\n"
     ]
    }
   ],
   "source": [
    "\n",
    "from sklearn.model_selection import cross_validate\n",
    "for i in np.arange(0,3):\n",
    "    scores = cross_validate(rf, lista_entreno[i], lista_smog[i], cv=5, scoring=['accuracy','f1_macro'])\n",
    "    print('Accuracy: ', scores['test_accuracy'].mean())\n",
    "    print('F1: ', scores['test_f1_macro'])\n",
    "    print('F1_mean: ', scores['test_f1_macro'].mean())\n",
    "    print('train:',lista_nombres[i])\n",
    "    print('-'*50)\n",
    "\n"
   ]
  },
  {
   "cell_type": "code",
   "execution_count": 2384,
   "metadata": {},
   "outputs": [],
   "source": [
    "extra_trees = Pipeline([\n",
    "    (\"pre\", preprocessor),\n",
    "    (\"rf\", ExtraTreesClassifier(random_state=42,class_weight='balanced'))\n",
    "])"
   ]
  },
  {
   "cell_type": "code",
   "execution_count": 2385,
   "metadata": {},
   "outputs": [
    {
     "name": "stdout",
     "output_type": "stream",
     "text": [
      "Accuracy:  0.8070983630305666\n",
      "F1:  [0.85802722 0.82432323 0.81824018 0.85965794 0.76976557]\n",
      "F1_mean:  0.826002828303141\n",
      "train: original\n",
      "--------------------------------------------------\n",
      "Accuracy:  0.8346666666666666\n",
      "F1:  [0.8135092  0.84691426 0.84221276 0.86237683 0.75404057]\n",
      "F1_mean:  0.8238107246595844\n",
      "train: mayority\n",
      "--------------------------------------------------\n",
      "Accuracy:  0.8619289340101524\n",
      "F1:  [0.80557958 0.8379849  0.85793696 0.9383839  0.86415972]\n",
      "F1_mean:  0.8608090133681608\n",
      "train: auto\n",
      "--------------------------------------------------\n"
     ]
    }
   ],
   "source": [
    "for i in np.arange(0,3):\n",
    "    scores = cross_validate(extra_trees, lista_entreno[i], lista_smog[i], cv=5, scoring=['accuracy','f1_macro'])\n",
    "    print('Accuracy: ', scores['test_accuracy'].mean())\n",
    "    print('F1: ', scores['test_f1_macro'])\n",
    "    print('F1_mean: ', scores['test_f1_macro'].mean())\n",
    "    print('train:',lista_nombres[i])\n",
    "    print('-'*50)"
   ]
  },
  {
   "cell_type": "code",
   "execution_count": 2386,
   "metadata": {},
   "outputs": [],
   "source": [
    "gd = Pipeline([\n",
    "    (\"pre\", preprocessor),\n",
    "    (\"gd\", GradientBoostingClassifier(random_state=42))\n",
    "])\n"
   ]
  },
  {
   "cell_type": "code",
   "execution_count": 2353,
   "metadata": {},
   "outputs": [
    {
     "name": "stdout",
     "output_type": "stream",
     "text": [
      "Accuracy:  0.7832536578299291\n",
      "F1:  [0.79327592 0.84292929 0.78695509 0.84675439 0.76114653]\n",
      "F1_mean:  0.8062122437414532\n",
      "train: original\n",
      "--------------------------------------------------\n",
      "Accuracy:  0.8160000000000001\n",
      "F1:  [0.79769038 0.84427128 0.78754518 0.86038367 0.74390699]\n",
      "F1_mean:  0.8067594993259494\n",
      "train: mayority\n",
      "--------------------------------------------------\n",
      "Accuracy:  0.8324873096446701\n",
      "F1:  [0.7575627  0.85260044 0.81017926 0.9129731  0.82822709]\n",
      "F1_mean:  0.8323085168956925\n",
      "train: auto\n",
      "--------------------------------------------------\n"
     ]
    }
   ],
   "source": [
    "for i in np.arange(0,3):\n",
    "    scores = cross_validate(gd, lista_entreno[i], lista_smog[i], cv=5, scoring=['accuracy','f1_macro'])\n",
    "    print('Accuracy: ', scores['test_accuracy'].mean())\n",
    "    print('F1: ', scores['test_f1_macro'])\n",
    "    print('F1_mean: ', scores['test_f1_macro'].mean())\n",
    "    print('train:',lista_nombres[i])\n",
    "    print('-'*50)"
   ]
  },
  {
   "cell_type": "markdown",
   "metadata": {},
   "source": [
    "#### Algoritmo geométrico"
   ]
  },
  {
   "cell_type": "code",
   "execution_count": 2349,
   "metadata": {},
   "outputs": [],
   "source": [
    "svc = Pipeline([\n",
    "    (\"pre\", preprocessor),\n",
    "    (\"svc\", SVC(random_state=42,class_weight='balanced'))\n",
    "])"
   ]
  },
  {
   "cell_type": "code",
   "execution_count": 2354,
   "metadata": {},
   "outputs": [
    {
     "name": "stdout",
     "output_type": "stream",
     "text": [
      "Accuracy:  0.7320295523685354\n",
      "F1:  [0.80492647 0.78454282 0.76628533 0.78812121 0.69028908]\n",
      "F1_mean:  0.7668329818914901\n",
      "train: original\n",
      "--------------------------------------------------\n",
      "Accuracy:  0.7933333333333333\n",
      "F1:  [0.75384667 0.78419657 0.79534362 0.82026836 0.76547076]\n",
      "F1_mean:  0.7838251929096675\n",
      "train: mayority\n",
      "--------------------------------------------------\n",
      "Accuracy:  0.8243654822335026\n",
      "F1:  [0.76434643 0.82101127 0.81440927 0.87280504 0.84389207]\n",
      "F1_mean:  0.8232928138986353\n",
      "train: auto\n",
      "--------------------------------------------------\n"
     ]
    }
   ],
   "source": [
    "for i in np.arange(0,3):\n",
    "    scores = cross_validate(svc, lista_entreno[i], lista_smog[i], cv=5, scoring=['accuracy','f1_macro'])\n",
    "    print('Accuracy: ', scores['test_accuracy'].mean())\n",
    "    print('F1: ', scores['test_f1_macro'])\n",
    "    print('F1_mean: ', scores['test_f1_macro'].mean())\n",
    "    print('train:',lista_nombres[i])\n",
    "    print('-'*50)"
   ]
  },
  {
   "cell_type": "markdown",
   "metadata": {},
   "source": [
    "##### Gaussian Naive Bayes"
   ]
  },
  {
   "cell_type": "markdown",
   "metadata": {},
   "source": [
    "Hemos encontrado problemas a la hora de entrenar con Gaussian Naive Bayes:\n",
    "-  A sparse matrix was passed, but dense data is required. Use X.toarray() to convert to a dense numpy array.\n",
    "No hemos sabido emplear Pipeline para resolver este problema, por lo que el preprocesado será manual.\n",
    "-  Para Gaussian Naive Bayes, las variables deben seguir una distribución gaussiana"
   ]
  },
  {
   "cell_type": "code",
   "execution_count": 2361,
   "metadata": {},
   "outputs": [],
   "source": [
    "train_scale = standard_scale(train)\n",
    "train_dummies = pd.get_dummies(train_scale)\n",
    "\n",
    "\n",
    "train_mayority_scale =standard_scale(train_mayority)\n",
    "train_mayority_dummies = pd.get_dummies(train_mayority_scale)\n",
    "\n",
    "train_auto_scale = standard_scale(train_auto)\n",
    "train_auto_dummies = pd.get_dummies(train_auto_scale)"
   ]
  },
  {
   "cell_type": "code",
   "execution_count": 2363,
   "metadata": {},
   "outputs": [],
   "source": [
    "gnb = GaussianNB()"
   ]
  },
  {
   "cell_type": "code",
   "execution_count": 2364,
   "metadata": {},
   "outputs": [],
   "source": [
    "lista_entreno_1 = [train_dummies,train_mayority_dummies,train_auto_dummies]"
   ]
  },
  {
   "cell_type": "code",
   "execution_count": 2365,
   "metadata": {},
   "outputs": [
    {
     "name": "stdout",
     "output_type": "stream",
     "text": [
      "Accuracy:  0.5204838476024916\n",
      "F1:  [0.50749236 0.54385803 0.50811263 0.53020068 0.58234134]\n",
      "F1_mean:  0.5344010078642193\n",
      "train: original\n",
      "--------------------------------------------------\n",
      "Accuracy:  0.6173333333333333\n",
      "F1:  [0.54789329 0.60270012 0.53974542 0.58474613 0.60246329]\n",
      "F1_mean:  0.5755096508059493\n",
      "train: mayority\n",
      "--------------------------------------------------\n",
      "Accuracy:  0.6761421319796954\n",
      "F1:  [0.57324754 0.60798348 0.64912238 0.73028172 0.66566655]\n",
      "F1_mean:  0.645260336391304\n",
      "train: auto\n",
      "--------------------------------------------------\n"
     ]
    }
   ],
   "source": [
    "for i in np.arange(0,3):\n",
    "    scores = cross_validate(gnb, lista_entreno_1[i], lista_smog[i], cv=5, scoring=['accuracy','f1_macro'])\n",
    "    print('Accuracy: ', scores['test_accuracy'].mean())\n",
    "    print('F1: ', scores['test_f1_macro'])\n",
    "    print('F1_mean: ', scores['test_f1_macro'].mean())\n",
    "    print('train:',lista_nombres[i])\n",
    "    print('-'*50)"
   ]
  },
  {
   "cell_type": "markdown",
   "metadata": {},
   "source": [
    "### Stacking"
   ]
  },
  {
   "cell_type": "markdown",
   "metadata": {},
   "source": [
    "Stacking es una técnica de ensamblaje de modelos que consiste en entrenar varios modelos y combinar sus predicciones para obtener una predicción final.\n",
    "En este caso vamos a combinar los modelos rf, extra_trees y svc con un modelo de regresión logística."
   ]
  },
  {
   "cell_type": "code",
   "execution_count": 2371,
   "metadata": {},
   "outputs": [],
   "source": [
    "estimators = [\n",
    "    ('rf',rf),\n",
    "    ('extra_trees',extra_trees),\n",
    "    ('svc',svc),\n",
    "]\n",
    "\n",
    "stacking = StackingClassifier(estimators=estimators, final_estimator=LogisticRegression(solver='saga',class_weight='balanced',max_iter=1000))\n",
    "\n",
    "# con lbfgs falla al converger"
   ]
  },
  {
   "cell_type": "code",
   "execution_count": 2372,
   "metadata": {},
   "outputs": [
    {
     "data": {
      "text/html": [
       "<style>#sk-container-id-294 {color: black;background-color: white;}#sk-container-id-294 pre{padding: 0;}#sk-container-id-294 div.sk-toggleable {background-color: white;}#sk-container-id-294 label.sk-toggleable__label {cursor: pointer;display: block;width: 100%;margin-bottom: 0;padding: 0.3em;box-sizing: border-box;text-align: center;}#sk-container-id-294 label.sk-toggleable__label-arrow:before {content: \"▸\";float: left;margin-right: 0.25em;color: #696969;}#sk-container-id-294 label.sk-toggleable__label-arrow:hover:before {color: black;}#sk-container-id-294 div.sk-estimator:hover label.sk-toggleable__label-arrow:before {color: black;}#sk-container-id-294 div.sk-toggleable__content {max-height: 0;max-width: 0;overflow: hidden;text-align: left;background-color: #f0f8ff;}#sk-container-id-294 div.sk-toggleable__content pre {margin: 0.2em;color: black;border-radius: 0.25em;background-color: #f0f8ff;}#sk-container-id-294 input.sk-toggleable__control:checked~div.sk-toggleable__content {max-height: 200px;max-width: 100%;overflow: auto;}#sk-container-id-294 input.sk-toggleable__control:checked~label.sk-toggleable__label-arrow:before {content: \"▾\";}#sk-container-id-294 div.sk-estimator input.sk-toggleable__control:checked~label.sk-toggleable__label {background-color: #d4ebff;}#sk-container-id-294 div.sk-label input.sk-toggleable__control:checked~label.sk-toggleable__label {background-color: #d4ebff;}#sk-container-id-294 input.sk-hidden--visually {border: 0;clip: rect(1px 1px 1px 1px);clip: rect(1px, 1px, 1px, 1px);height: 1px;margin: -1px;overflow: hidden;padding: 0;position: absolute;width: 1px;}#sk-container-id-294 div.sk-estimator {font-family: monospace;background-color: #f0f8ff;border: 1px dotted black;border-radius: 0.25em;box-sizing: border-box;margin-bottom: 0.5em;}#sk-container-id-294 div.sk-estimator:hover {background-color: #d4ebff;}#sk-container-id-294 div.sk-parallel-item::after {content: \"\";width: 100%;border-bottom: 1px solid gray;flex-grow: 1;}#sk-container-id-294 div.sk-label:hover label.sk-toggleable__label {background-color: #d4ebff;}#sk-container-id-294 div.sk-serial::before {content: \"\";position: absolute;border-left: 1px solid gray;box-sizing: border-box;top: 0;bottom: 0;left: 50%;z-index: 0;}#sk-container-id-294 div.sk-serial {display: flex;flex-direction: column;align-items: center;background-color: white;padding-right: 0.2em;padding-left: 0.2em;position: relative;}#sk-container-id-294 div.sk-item {position: relative;z-index: 1;}#sk-container-id-294 div.sk-parallel {display: flex;align-items: stretch;justify-content: center;background-color: white;position: relative;}#sk-container-id-294 div.sk-item::before, #sk-container-id-294 div.sk-parallel-item::before {content: \"\";position: absolute;border-left: 1px solid gray;box-sizing: border-box;top: 0;bottom: 0;left: 50%;z-index: -1;}#sk-container-id-294 div.sk-parallel-item {display: flex;flex-direction: column;z-index: 1;position: relative;background-color: white;}#sk-container-id-294 div.sk-parallel-item:first-child::after {align-self: flex-end;width: 50%;}#sk-container-id-294 div.sk-parallel-item:last-child::after {align-self: flex-start;width: 50%;}#sk-container-id-294 div.sk-parallel-item:only-child::after {width: 0;}#sk-container-id-294 div.sk-dashed-wrapped {border: 1px dashed gray;margin: 0 0.4em 0.5em 0.4em;box-sizing: border-box;padding-bottom: 0.4em;background-color: white;}#sk-container-id-294 div.sk-label label {font-family: monospace;font-weight: bold;display: inline-block;line-height: 1.2em;}#sk-container-id-294 div.sk-label-container {text-align: center;}#sk-container-id-294 div.sk-container {/* jupyter's `normalize.less` sets `[hidden] { display: none; }` but bootstrap.min.css set `[hidden] { display: none !important; }` so we also need the `!important` here to be able to override the default hidden behavior on the sphinx rendered scikit-learn.org. See: https://github.com/scikit-learn/scikit-learn/issues/21755 */display: inline-block !important;position: relative;}#sk-container-id-294 div.sk-text-repr-fallback {display: none;}</style><div id=\"sk-container-id-294\" class=\"sk-top-container\"><div class=\"sk-text-repr-fallback\"><pre>StackingClassifier(estimators=[(&#x27;rf&#x27;,\n",
       "                                Pipeline(steps=[(&#x27;pre&#x27;,\n",
       "                                                 ColumnTransformer(transformers=[(&#x27;cat&#x27;,\n",
       "                                                                                  Pipeline(steps=[(&#x27;ohe&#x27;,\n",
       "                                                                                                   OneHotEncoder(handle_unknown=&#x27;ignore&#x27;))]),\n",
       "                                                                                  [&#x27;Make&#x27;,\n",
       "                                                                                   &#x27;Vehicle &#x27;\n",
       "                                                                                   &#x27;Class&#x27;,\n",
       "                                                                                   &#x27;Transmission&#x27;,\n",
       "                                                                                   &#x27;Fuel &#x27;\n",
       "                                                                                   &#x27;Type&#x27;]),\n",
       "                                                                                 (&#x27;num&#x27;,\n",
       "                                                                                  Pipeline(steps=[(&#x27;scaler&#x27;,\n",
       "                                                                                                   StandardScaler())]),\n",
       "                                                                                  [&#x27;Engine &#x27;\n",
       "                                                                                   &#x27;Size &#x27;\n",
       "                                                                                   &#x27;(L)&#x27;,\n",
       "                                                                                   &#x27;Cylinders&#x27;,\n",
       "                                                                                   &#x27;Fuel &#x27;\n",
       "                                                                                   &#x27;Consumption &#x27;\n",
       "                                                                                   &#x27;City &#x27;\n",
       "                                                                                   &#x27;(L/100 &#x27;\n",
       "                                                                                   &#x27;km)&#x27;,\n",
       "                                                                                   &#x27;Hwy &#x27;\n",
       "                                                                                   &#x27;...\n",
       "                                                                                   &#x27;Class&#x27;,\n",
       "                                                                                   &#x27;Transmission&#x27;,\n",
       "                                                                                   &#x27;Fuel &#x27;\n",
       "                                                                                   &#x27;Type&#x27;]),\n",
       "                                                                                 (&#x27;num&#x27;,\n",
       "                                                                                  Pipeline(steps=[(&#x27;scaler&#x27;,\n",
       "                                                                                                   StandardScaler())]),\n",
       "                                                                                  [&#x27;Engine &#x27;\n",
       "                                                                                   &#x27;Size &#x27;\n",
       "                                                                                   &#x27;(L)&#x27;,\n",
       "                                                                                   &#x27;Cylinders&#x27;,\n",
       "                                                                                   &#x27;Fuel &#x27;\n",
       "                                                                                   &#x27;Consumption &#x27;\n",
       "                                                                                   &#x27;City &#x27;\n",
       "                                                                                   &#x27;(L/100 &#x27;\n",
       "                                                                                   &#x27;km)&#x27;,\n",
       "                                                                                   &#x27;Hwy &#x27;\n",
       "                                                                                   &#x27;(L/100 &#x27;\n",
       "                                                                                   &#x27;km)&#x27;,\n",
       "                                                                                   &#x27;CO2 &#x27;\n",
       "                                                                                   &#x27;Emissions &#x27;\n",
       "                                                                                   &#x27;(g/km)&#x27;])])),\n",
       "                                                (&#x27;svc&#x27;,\n",
       "                                                 SVC(class_weight=&#x27;balanced&#x27;,\n",
       "                                                     random_state=42))]))],\n",
       "                   final_estimator=LogisticRegression(class_weight=&#x27;balanced&#x27;,\n",
       "                                                      max_iter=1000,\n",
       "                                                      solver=&#x27;saga&#x27;))</pre><b>In a Jupyter environment, please rerun this cell to show the HTML representation or trust the notebook. <br />On GitHub, the HTML representation is unable to render, please try loading this page with nbviewer.org.</b></div><div class=\"sk-container\" hidden><div class=\"sk-item sk-dashed-wrapped\"><div class=\"sk-label-container\"><div class=\"sk-label sk-toggleable\"><input class=\"sk-toggleable__control sk-hidden--visually\" id=\"sk-estimator-id-4952\" type=\"checkbox\" ><label for=\"sk-estimator-id-4952\" class=\"sk-toggleable__label sk-toggleable__label-arrow\">StackingClassifier</label><div class=\"sk-toggleable__content\"><pre>StackingClassifier(estimators=[(&#x27;rf&#x27;,\n",
       "                                Pipeline(steps=[(&#x27;pre&#x27;,\n",
       "                                                 ColumnTransformer(transformers=[(&#x27;cat&#x27;,\n",
       "                                                                                  Pipeline(steps=[(&#x27;ohe&#x27;,\n",
       "                                                                                                   OneHotEncoder(handle_unknown=&#x27;ignore&#x27;))]),\n",
       "                                                                                  [&#x27;Make&#x27;,\n",
       "                                                                                   &#x27;Vehicle &#x27;\n",
       "                                                                                   &#x27;Class&#x27;,\n",
       "                                                                                   &#x27;Transmission&#x27;,\n",
       "                                                                                   &#x27;Fuel &#x27;\n",
       "                                                                                   &#x27;Type&#x27;]),\n",
       "                                                                                 (&#x27;num&#x27;,\n",
       "                                                                                  Pipeline(steps=[(&#x27;scaler&#x27;,\n",
       "                                                                                                   StandardScaler())]),\n",
       "                                                                                  [&#x27;Engine &#x27;\n",
       "                                                                                   &#x27;Size &#x27;\n",
       "                                                                                   &#x27;(L)&#x27;,\n",
       "                                                                                   &#x27;Cylinders&#x27;,\n",
       "                                                                                   &#x27;Fuel &#x27;\n",
       "                                                                                   &#x27;Consumption &#x27;\n",
       "                                                                                   &#x27;City &#x27;\n",
       "                                                                                   &#x27;(L/100 &#x27;\n",
       "                                                                                   &#x27;km)&#x27;,\n",
       "                                                                                   &#x27;Hwy &#x27;\n",
       "                                                                                   &#x27;...\n",
       "                                                                                   &#x27;Class&#x27;,\n",
       "                                                                                   &#x27;Transmission&#x27;,\n",
       "                                                                                   &#x27;Fuel &#x27;\n",
       "                                                                                   &#x27;Type&#x27;]),\n",
       "                                                                                 (&#x27;num&#x27;,\n",
       "                                                                                  Pipeline(steps=[(&#x27;scaler&#x27;,\n",
       "                                                                                                   StandardScaler())]),\n",
       "                                                                                  [&#x27;Engine &#x27;\n",
       "                                                                                   &#x27;Size &#x27;\n",
       "                                                                                   &#x27;(L)&#x27;,\n",
       "                                                                                   &#x27;Cylinders&#x27;,\n",
       "                                                                                   &#x27;Fuel &#x27;\n",
       "                                                                                   &#x27;Consumption &#x27;\n",
       "                                                                                   &#x27;City &#x27;\n",
       "                                                                                   &#x27;(L/100 &#x27;\n",
       "                                                                                   &#x27;km)&#x27;,\n",
       "                                                                                   &#x27;Hwy &#x27;\n",
       "                                                                                   &#x27;(L/100 &#x27;\n",
       "                                                                                   &#x27;km)&#x27;,\n",
       "                                                                                   &#x27;CO2 &#x27;\n",
       "                                                                                   &#x27;Emissions &#x27;\n",
       "                                                                                   &#x27;(g/km)&#x27;])])),\n",
       "                                                (&#x27;svc&#x27;,\n",
       "                                                 SVC(class_weight=&#x27;balanced&#x27;,\n",
       "                                                     random_state=42))]))],\n",
       "                   final_estimator=LogisticRegression(class_weight=&#x27;balanced&#x27;,\n",
       "                                                      max_iter=1000,\n",
       "                                                      solver=&#x27;saga&#x27;))</pre></div></div></div><div class=\"sk-serial\"><div class=\"sk-item\"><div class=\"sk-parallel\"><div class=\"sk-parallel-item\"><div class=\"sk-item\"><div class=\"sk-label-container\"><div class=\"sk-label sk-toggleable\"><label>rf</label></div></div><div class=\"sk-serial\"><div class=\"sk-item\"><div class=\"sk-serial\"><div class=\"sk-item sk-dashed-wrapped\"><div class=\"sk-label-container\"><div class=\"sk-label sk-toggleable\"><input class=\"sk-toggleable__control sk-hidden--visually\" id=\"sk-estimator-id-4953\" type=\"checkbox\" ><label for=\"sk-estimator-id-4953\" class=\"sk-toggleable__label sk-toggleable__label-arrow\">pre: ColumnTransformer</label><div class=\"sk-toggleable__content\"><pre>ColumnTransformer(transformers=[(&#x27;cat&#x27;,\n",
       "                                 Pipeline(steps=[(&#x27;ohe&#x27;,\n",
       "                                                  OneHotEncoder(handle_unknown=&#x27;ignore&#x27;))]),\n",
       "                                 [&#x27;Make&#x27;, &#x27;Vehicle Class&#x27;, &#x27;Transmission&#x27;,\n",
       "                                  &#x27;Fuel Type&#x27;]),\n",
       "                                (&#x27;num&#x27;,\n",
       "                                 Pipeline(steps=[(&#x27;scaler&#x27;, StandardScaler())]),\n",
       "                                 [&#x27;Engine Size (L)&#x27;, &#x27;Cylinders&#x27;,\n",
       "                                  &#x27;Fuel Consumption City (L/100 km)&#x27;,\n",
       "                                  &#x27;Hwy (L/100 km)&#x27;, &#x27;CO2 Emissions (g/km)&#x27;])])</pre></div></div></div><div class=\"sk-parallel\"><div class=\"sk-parallel-item\"><div class=\"sk-item\"><div class=\"sk-label-container\"><div class=\"sk-label sk-toggleable\"><input class=\"sk-toggleable__control sk-hidden--visually\" id=\"sk-estimator-id-4954\" type=\"checkbox\" ><label for=\"sk-estimator-id-4954\" class=\"sk-toggleable__label sk-toggleable__label-arrow\">cat</label><div class=\"sk-toggleable__content\"><pre>[&#x27;Make&#x27;, &#x27;Vehicle Class&#x27;, &#x27;Transmission&#x27;, &#x27;Fuel Type&#x27;]</pre></div></div></div><div class=\"sk-serial\"><div class=\"sk-item\"><div class=\"sk-serial\"><div class=\"sk-item\"><div class=\"sk-estimator sk-toggleable\"><input class=\"sk-toggleable__control sk-hidden--visually\" id=\"sk-estimator-id-4955\" type=\"checkbox\" ><label for=\"sk-estimator-id-4955\" class=\"sk-toggleable__label sk-toggleable__label-arrow\">OneHotEncoder</label><div class=\"sk-toggleable__content\"><pre>OneHotEncoder(handle_unknown=&#x27;ignore&#x27;)</pre></div></div></div></div></div></div></div></div><div class=\"sk-parallel-item\"><div class=\"sk-item\"><div class=\"sk-label-container\"><div class=\"sk-label sk-toggleable\"><input class=\"sk-toggleable__control sk-hidden--visually\" id=\"sk-estimator-id-4956\" type=\"checkbox\" ><label for=\"sk-estimator-id-4956\" class=\"sk-toggleable__label sk-toggleable__label-arrow\">num</label><div class=\"sk-toggleable__content\"><pre>[&#x27;Engine Size (L)&#x27;, &#x27;Cylinders&#x27;, &#x27;Fuel Consumption City (L/100 km)&#x27;, &#x27;Hwy (L/100 km)&#x27;, &#x27;CO2 Emissions (g/km)&#x27;]</pre></div></div></div><div class=\"sk-serial\"><div class=\"sk-item\"><div class=\"sk-serial\"><div class=\"sk-item\"><div class=\"sk-estimator sk-toggleable\"><input class=\"sk-toggleable__control sk-hidden--visually\" id=\"sk-estimator-id-4957\" type=\"checkbox\" ><label for=\"sk-estimator-id-4957\" class=\"sk-toggleable__label sk-toggleable__label-arrow\">StandardScaler</label><div class=\"sk-toggleable__content\"><pre>StandardScaler()</pre></div></div></div></div></div></div></div></div></div></div><div class=\"sk-item\"><div class=\"sk-estimator sk-toggleable\"><input class=\"sk-toggleable__control sk-hidden--visually\" id=\"sk-estimator-id-4958\" type=\"checkbox\" ><label for=\"sk-estimator-id-4958\" class=\"sk-toggleable__label sk-toggleable__label-arrow\">RandomForestClassifier</label><div class=\"sk-toggleable__content\"><pre>RandomForestClassifier(class_weight=&#x27;balanced&#x27;, random_state=42)</pre></div></div></div></div></div></div></div></div><div class=\"sk-parallel-item\"><div class=\"sk-item\"><div class=\"sk-label-container\"><div class=\"sk-label sk-toggleable\"><label>extra_trees</label></div></div><div class=\"sk-serial\"><div class=\"sk-item\"><div class=\"sk-serial\"><div class=\"sk-item sk-dashed-wrapped\"><div class=\"sk-label-container\"><div class=\"sk-label sk-toggleable\"><input class=\"sk-toggleable__control sk-hidden--visually\" id=\"sk-estimator-id-4959\" type=\"checkbox\" ><label for=\"sk-estimator-id-4959\" class=\"sk-toggleable__label sk-toggleable__label-arrow\">pre: ColumnTransformer</label><div class=\"sk-toggleable__content\"><pre>ColumnTransformer(transformers=[(&#x27;cat&#x27;,\n",
       "                                 Pipeline(steps=[(&#x27;ohe&#x27;,\n",
       "                                                  OneHotEncoder(handle_unknown=&#x27;ignore&#x27;))]),\n",
       "                                 [&#x27;Make&#x27;, &#x27;Vehicle Class&#x27;, &#x27;Transmission&#x27;,\n",
       "                                  &#x27;Fuel Type&#x27;]),\n",
       "                                (&#x27;num&#x27;,\n",
       "                                 Pipeline(steps=[(&#x27;scaler&#x27;, StandardScaler())]),\n",
       "                                 [&#x27;Engine Size (L)&#x27;, &#x27;Cylinders&#x27;,\n",
       "                                  &#x27;Fuel Consumption City (L/100 km)&#x27;,\n",
       "                                  &#x27;Hwy (L/100 km)&#x27;, &#x27;CO2 Emissions (g/km)&#x27;])])</pre></div></div></div><div class=\"sk-parallel\"><div class=\"sk-parallel-item\"><div class=\"sk-item\"><div class=\"sk-label-container\"><div class=\"sk-label sk-toggleable\"><input class=\"sk-toggleable__control sk-hidden--visually\" id=\"sk-estimator-id-4960\" type=\"checkbox\" ><label for=\"sk-estimator-id-4960\" class=\"sk-toggleable__label sk-toggleable__label-arrow\">cat</label><div class=\"sk-toggleable__content\"><pre>[&#x27;Make&#x27;, &#x27;Vehicle Class&#x27;, &#x27;Transmission&#x27;, &#x27;Fuel Type&#x27;]</pre></div></div></div><div class=\"sk-serial\"><div class=\"sk-item\"><div class=\"sk-serial\"><div class=\"sk-item\"><div class=\"sk-estimator sk-toggleable\"><input class=\"sk-toggleable__control sk-hidden--visually\" id=\"sk-estimator-id-4961\" type=\"checkbox\" ><label for=\"sk-estimator-id-4961\" class=\"sk-toggleable__label sk-toggleable__label-arrow\">OneHotEncoder</label><div class=\"sk-toggleable__content\"><pre>OneHotEncoder(handle_unknown=&#x27;ignore&#x27;)</pre></div></div></div></div></div></div></div></div><div class=\"sk-parallel-item\"><div class=\"sk-item\"><div class=\"sk-label-container\"><div class=\"sk-label sk-toggleable\"><input class=\"sk-toggleable__control sk-hidden--visually\" id=\"sk-estimator-id-4962\" type=\"checkbox\" ><label for=\"sk-estimator-id-4962\" class=\"sk-toggleable__label sk-toggleable__label-arrow\">num</label><div class=\"sk-toggleable__content\"><pre>[&#x27;Engine Size (L)&#x27;, &#x27;Cylinders&#x27;, &#x27;Fuel Consumption City (L/100 km)&#x27;, &#x27;Hwy (L/100 km)&#x27;, &#x27;CO2 Emissions (g/km)&#x27;]</pre></div></div></div><div class=\"sk-serial\"><div class=\"sk-item\"><div class=\"sk-serial\"><div class=\"sk-item\"><div class=\"sk-estimator sk-toggleable\"><input class=\"sk-toggleable__control sk-hidden--visually\" id=\"sk-estimator-id-4963\" type=\"checkbox\" ><label for=\"sk-estimator-id-4963\" class=\"sk-toggleable__label sk-toggleable__label-arrow\">StandardScaler</label><div class=\"sk-toggleable__content\"><pre>StandardScaler()</pre></div></div></div></div></div></div></div></div></div></div><div class=\"sk-item\"><div class=\"sk-estimator sk-toggleable\"><input class=\"sk-toggleable__control sk-hidden--visually\" id=\"sk-estimator-id-4964\" type=\"checkbox\" ><label for=\"sk-estimator-id-4964\" class=\"sk-toggleable__label sk-toggleable__label-arrow\">ExtraTreesClassifier</label><div class=\"sk-toggleable__content\"><pre>ExtraTreesClassifier(class_weight=&#x27;balanced&#x27;, random_state=42)</pre></div></div></div></div></div></div></div></div><div class=\"sk-parallel-item\"><div class=\"sk-item\"><div class=\"sk-label-container\"><div class=\"sk-label sk-toggleable\"><label>svc</label></div></div><div class=\"sk-serial\"><div class=\"sk-item\"><div class=\"sk-serial\"><div class=\"sk-item sk-dashed-wrapped\"><div class=\"sk-label-container\"><div class=\"sk-label sk-toggleable\"><input class=\"sk-toggleable__control sk-hidden--visually\" id=\"sk-estimator-id-4965\" type=\"checkbox\" ><label for=\"sk-estimator-id-4965\" class=\"sk-toggleable__label sk-toggleable__label-arrow\">pre: ColumnTransformer</label><div class=\"sk-toggleable__content\"><pre>ColumnTransformer(transformers=[(&#x27;cat&#x27;,\n",
       "                                 Pipeline(steps=[(&#x27;ohe&#x27;,\n",
       "                                                  OneHotEncoder(handle_unknown=&#x27;ignore&#x27;))]),\n",
       "                                 [&#x27;Make&#x27;, &#x27;Vehicle Class&#x27;, &#x27;Transmission&#x27;,\n",
       "                                  &#x27;Fuel Type&#x27;]),\n",
       "                                (&#x27;num&#x27;,\n",
       "                                 Pipeline(steps=[(&#x27;scaler&#x27;, StandardScaler())]),\n",
       "                                 [&#x27;Engine Size (L)&#x27;, &#x27;Cylinders&#x27;,\n",
       "                                  &#x27;Fuel Consumption City (L/100 km)&#x27;,\n",
       "                                  &#x27;Hwy (L/100 km)&#x27;, &#x27;CO2 Emissions (g/km)&#x27;])])</pre></div></div></div><div class=\"sk-parallel\"><div class=\"sk-parallel-item\"><div class=\"sk-item\"><div class=\"sk-label-container\"><div class=\"sk-label sk-toggleable\"><input class=\"sk-toggleable__control sk-hidden--visually\" id=\"sk-estimator-id-4966\" type=\"checkbox\" ><label for=\"sk-estimator-id-4966\" class=\"sk-toggleable__label sk-toggleable__label-arrow\">cat</label><div class=\"sk-toggleable__content\"><pre>[&#x27;Make&#x27;, &#x27;Vehicle Class&#x27;, &#x27;Transmission&#x27;, &#x27;Fuel Type&#x27;]</pre></div></div></div><div class=\"sk-serial\"><div class=\"sk-item\"><div class=\"sk-serial\"><div class=\"sk-item\"><div class=\"sk-estimator sk-toggleable\"><input class=\"sk-toggleable__control sk-hidden--visually\" id=\"sk-estimator-id-4967\" type=\"checkbox\" ><label for=\"sk-estimator-id-4967\" class=\"sk-toggleable__label sk-toggleable__label-arrow\">OneHotEncoder</label><div class=\"sk-toggleable__content\"><pre>OneHotEncoder(handle_unknown=&#x27;ignore&#x27;)</pre></div></div></div></div></div></div></div></div><div class=\"sk-parallel-item\"><div class=\"sk-item\"><div class=\"sk-label-container\"><div class=\"sk-label sk-toggleable\"><input class=\"sk-toggleable__control sk-hidden--visually\" id=\"sk-estimator-id-4968\" type=\"checkbox\" ><label for=\"sk-estimator-id-4968\" class=\"sk-toggleable__label sk-toggleable__label-arrow\">num</label><div class=\"sk-toggleable__content\"><pre>[&#x27;Engine Size (L)&#x27;, &#x27;Cylinders&#x27;, &#x27;Fuel Consumption City (L/100 km)&#x27;, &#x27;Hwy (L/100 km)&#x27;, &#x27;CO2 Emissions (g/km)&#x27;]</pre></div></div></div><div class=\"sk-serial\"><div class=\"sk-item\"><div class=\"sk-serial\"><div class=\"sk-item\"><div class=\"sk-estimator sk-toggleable\"><input class=\"sk-toggleable__control sk-hidden--visually\" id=\"sk-estimator-id-4969\" type=\"checkbox\" ><label for=\"sk-estimator-id-4969\" class=\"sk-toggleable__label sk-toggleable__label-arrow\">StandardScaler</label><div class=\"sk-toggleable__content\"><pre>StandardScaler()</pre></div></div></div></div></div></div></div></div></div></div><div class=\"sk-item\"><div class=\"sk-estimator sk-toggleable\"><input class=\"sk-toggleable__control sk-hidden--visually\" id=\"sk-estimator-id-4970\" type=\"checkbox\" ><label for=\"sk-estimator-id-4970\" class=\"sk-toggleable__label sk-toggleable__label-arrow\">SVC</label><div class=\"sk-toggleable__content\"><pre>SVC(class_weight=&#x27;balanced&#x27;, random_state=42)</pre></div></div></div></div></div></div></div></div></div></div><div class=\"sk-item\"><div class=\"sk-parallel\"><div class=\"sk-parallel-item\"><div class=\"sk-item\"><div class=\"sk-label-container\"><div class=\"sk-label sk-toggleable\"><label>final_estimator</label></div></div><div class=\"sk-serial\"><div class=\"sk-item\"><div class=\"sk-estimator sk-toggleable\"><input class=\"sk-toggleable__control sk-hidden--visually\" id=\"sk-estimator-id-4971\" type=\"checkbox\" ><label for=\"sk-estimator-id-4971\" class=\"sk-toggleable__label sk-toggleable__label-arrow\">LogisticRegression</label><div class=\"sk-toggleable__content\"><pre>LogisticRegression(class_weight=&#x27;balanced&#x27;, max_iter=1000, solver=&#x27;saga&#x27;)</pre></div></div></div></div></div></div></div></div></div></div></div></div>"
      ],
      "text/plain": [
       "StackingClassifier(estimators=[('rf',\n",
       "                                Pipeline(steps=[('pre',\n",
       "                                                 ColumnTransformer(transformers=[('cat',\n",
       "                                                                                  Pipeline(steps=[('ohe',\n",
       "                                                                                                   OneHotEncoder(handle_unknown='ignore'))]),\n",
       "                                                                                  ['Make',\n",
       "                                                                                   'Vehicle '\n",
       "                                                                                   'Class',\n",
       "                                                                                   'Transmission',\n",
       "                                                                                   'Fuel '\n",
       "                                                                                   'Type']),\n",
       "                                                                                 ('num',\n",
       "                                                                                  Pipeline(steps=[('scaler',\n",
       "                                                                                                   StandardScaler())]),\n",
       "                                                                                  ['Engine '\n",
       "                                                                                   'Size '\n",
       "                                                                                   '(L)',\n",
       "                                                                                   'Cylinders',\n",
       "                                                                                   'Fuel '\n",
       "                                                                                   'Consumption '\n",
       "                                                                                   'City '\n",
       "                                                                                   '(L/100 '\n",
       "                                                                                   'km)',\n",
       "                                                                                   'Hwy '\n",
       "                                                                                   '...\n",
       "                                                                                   'Class',\n",
       "                                                                                   'Transmission',\n",
       "                                                                                   'Fuel '\n",
       "                                                                                   'Type']),\n",
       "                                                                                 ('num',\n",
       "                                                                                  Pipeline(steps=[('scaler',\n",
       "                                                                                                   StandardScaler())]),\n",
       "                                                                                  ['Engine '\n",
       "                                                                                   'Size '\n",
       "                                                                                   '(L)',\n",
       "                                                                                   'Cylinders',\n",
       "                                                                                   'Fuel '\n",
       "                                                                                   'Consumption '\n",
       "                                                                                   'City '\n",
       "                                                                                   '(L/100 '\n",
       "                                                                                   'km)',\n",
       "                                                                                   'Hwy '\n",
       "                                                                                   '(L/100 '\n",
       "                                                                                   'km)',\n",
       "                                                                                   'CO2 '\n",
       "                                                                                   'Emissions '\n",
       "                                                                                   '(g/km)'])])),\n",
       "                                                ('svc',\n",
       "                                                 SVC(class_weight='balanced',\n",
       "                                                     random_state=42))]))],\n",
       "                   final_estimator=LogisticRegression(class_weight='balanced',\n",
       "                                                      max_iter=1000,\n",
       "                                                      solver='saga'))"
      ]
     },
     "execution_count": 2372,
     "metadata": {},
     "output_type": "execute_result"
    }
   ],
   "source": [
    "stacking.fit(lista_entreno[0],lista_smog[0])"
   ]
  },
  {
   "cell_type": "code",
   "execution_count": 2373,
   "metadata": {},
   "outputs": [
    {
     "data": {
      "text/plain": [
       "{'fit_time': array([4.00143647, 4.31947184, 5.5003736 , 4.64689612, 5.69449997]),\n",
       " 'score_time': array([0.0295651 , 0.08453131, 0.04824948, 0.06256533, 0.03424239]),\n",
       " 'test_accuracy': array([0.8220339 , 0.78632479, 0.82905983, 0.84615385, 0.72649573]),\n",
       " 'test_f1_macro': array([0.83386871, 0.82286967, 0.85433154, 0.86386869, 0.75480836])}"
      ]
     },
     "execution_count": 2373,
     "metadata": {},
     "output_type": "execute_result"
    }
   ],
   "source": [
    "scores = cross_validate(stacking, lista_entreno[0], lista_smog[0], cv=5, scoring=['accuracy','f1_macro'])\n",
    "scores"
   ]
  },
  {
   "cell_type": "code",
   "execution_count": 2387,
   "metadata": {},
   "outputs": [
    {
     "data": {
      "text/html": [
       "<style>#sk-container-id-295 {color: black;background-color: white;}#sk-container-id-295 pre{padding: 0;}#sk-container-id-295 div.sk-toggleable {background-color: white;}#sk-container-id-295 label.sk-toggleable__label {cursor: pointer;display: block;width: 100%;margin-bottom: 0;padding: 0.3em;box-sizing: border-box;text-align: center;}#sk-container-id-295 label.sk-toggleable__label-arrow:before {content: \"▸\";float: left;margin-right: 0.25em;color: #696969;}#sk-container-id-295 label.sk-toggleable__label-arrow:hover:before {color: black;}#sk-container-id-295 div.sk-estimator:hover label.sk-toggleable__label-arrow:before {color: black;}#sk-container-id-295 div.sk-toggleable__content {max-height: 0;max-width: 0;overflow: hidden;text-align: left;background-color: #f0f8ff;}#sk-container-id-295 div.sk-toggleable__content pre {margin: 0.2em;color: black;border-radius: 0.25em;background-color: #f0f8ff;}#sk-container-id-295 input.sk-toggleable__control:checked~div.sk-toggleable__content {max-height: 200px;max-width: 100%;overflow: auto;}#sk-container-id-295 input.sk-toggleable__control:checked~label.sk-toggleable__label-arrow:before {content: \"▾\";}#sk-container-id-295 div.sk-estimator input.sk-toggleable__control:checked~label.sk-toggleable__label {background-color: #d4ebff;}#sk-container-id-295 div.sk-label input.sk-toggleable__control:checked~label.sk-toggleable__label {background-color: #d4ebff;}#sk-container-id-295 input.sk-hidden--visually {border: 0;clip: rect(1px 1px 1px 1px);clip: rect(1px, 1px, 1px, 1px);height: 1px;margin: -1px;overflow: hidden;padding: 0;position: absolute;width: 1px;}#sk-container-id-295 div.sk-estimator {font-family: monospace;background-color: #f0f8ff;border: 1px dotted black;border-radius: 0.25em;box-sizing: border-box;margin-bottom: 0.5em;}#sk-container-id-295 div.sk-estimator:hover {background-color: #d4ebff;}#sk-container-id-295 div.sk-parallel-item::after {content: \"\";width: 100%;border-bottom: 1px solid gray;flex-grow: 1;}#sk-container-id-295 div.sk-label:hover label.sk-toggleable__label {background-color: #d4ebff;}#sk-container-id-295 div.sk-serial::before {content: \"\";position: absolute;border-left: 1px solid gray;box-sizing: border-box;top: 0;bottom: 0;left: 50%;z-index: 0;}#sk-container-id-295 div.sk-serial {display: flex;flex-direction: column;align-items: center;background-color: white;padding-right: 0.2em;padding-left: 0.2em;position: relative;}#sk-container-id-295 div.sk-item {position: relative;z-index: 1;}#sk-container-id-295 div.sk-parallel {display: flex;align-items: stretch;justify-content: center;background-color: white;position: relative;}#sk-container-id-295 div.sk-item::before, #sk-container-id-295 div.sk-parallel-item::before {content: \"\";position: absolute;border-left: 1px solid gray;box-sizing: border-box;top: 0;bottom: 0;left: 50%;z-index: -1;}#sk-container-id-295 div.sk-parallel-item {display: flex;flex-direction: column;z-index: 1;position: relative;background-color: white;}#sk-container-id-295 div.sk-parallel-item:first-child::after {align-self: flex-end;width: 50%;}#sk-container-id-295 div.sk-parallel-item:last-child::after {align-self: flex-start;width: 50%;}#sk-container-id-295 div.sk-parallel-item:only-child::after {width: 0;}#sk-container-id-295 div.sk-dashed-wrapped {border: 1px dashed gray;margin: 0 0.4em 0.5em 0.4em;box-sizing: border-box;padding-bottom: 0.4em;background-color: white;}#sk-container-id-295 div.sk-label label {font-family: monospace;font-weight: bold;display: inline-block;line-height: 1.2em;}#sk-container-id-295 div.sk-label-container {text-align: center;}#sk-container-id-295 div.sk-container {/* jupyter's `normalize.less` sets `[hidden] { display: none; }` but bootstrap.min.css set `[hidden] { display: none !important; }` so we also need the `!important` here to be able to override the default hidden behavior on the sphinx rendered scikit-learn.org. See: https://github.com/scikit-learn/scikit-learn/issues/21755 */display: inline-block !important;position: relative;}#sk-container-id-295 div.sk-text-repr-fallback {display: none;}</style><div id=\"sk-container-id-295\" class=\"sk-top-container\"><div class=\"sk-text-repr-fallback\"><pre>StackingClassifier(estimators=[(&#x27;rf&#x27;,\n",
       "                                Pipeline(steps=[(&#x27;pre&#x27;,\n",
       "                                                 ColumnTransformer(transformers=[(&#x27;cat&#x27;,\n",
       "                                                                                  Pipeline(steps=[(&#x27;ohe&#x27;,\n",
       "                                                                                                   OneHotEncoder(handle_unknown=&#x27;ignore&#x27;))]),\n",
       "                                                                                  [&#x27;Make&#x27;,\n",
       "                                                                                   &#x27;Vehicle &#x27;\n",
       "                                                                                   &#x27;Class&#x27;,\n",
       "                                                                                   &#x27;Transmission&#x27;,\n",
       "                                                                                   &#x27;Fuel &#x27;\n",
       "                                                                                   &#x27;Type&#x27;]),\n",
       "                                                                                 (&#x27;num&#x27;,\n",
       "                                                                                  Pipeline(steps=[(&#x27;scaler&#x27;,\n",
       "                                                                                                   StandardScaler())]),\n",
       "                                                                                  [&#x27;Engine &#x27;\n",
       "                                                                                   &#x27;Size &#x27;\n",
       "                                                                                   &#x27;(L)&#x27;,\n",
       "                                                                                   &#x27;Cylinders&#x27;,\n",
       "                                                                                   &#x27;Fuel &#x27;\n",
       "                                                                                   &#x27;Consumption &#x27;\n",
       "                                                                                   &#x27;City &#x27;\n",
       "                                                                                   &#x27;(L/100 &#x27;\n",
       "                                                                                   &#x27;km)&#x27;,\n",
       "                                                                                   &#x27;Hwy &#x27;\n",
       "                                                                                   &#x27;...\n",
       "                                                                                   &#x27;Class&#x27;,\n",
       "                                                                                   &#x27;Transmission&#x27;,\n",
       "                                                                                   &#x27;Fuel &#x27;\n",
       "                                                                                   &#x27;Type&#x27;]),\n",
       "                                                                                 (&#x27;num&#x27;,\n",
       "                                                                                  Pipeline(steps=[(&#x27;scaler&#x27;,\n",
       "                                                                                                   StandardScaler())]),\n",
       "                                                                                  [&#x27;Engine &#x27;\n",
       "                                                                                   &#x27;Size &#x27;\n",
       "                                                                                   &#x27;(L)&#x27;,\n",
       "                                                                                   &#x27;Cylinders&#x27;,\n",
       "                                                                                   &#x27;Fuel &#x27;\n",
       "                                                                                   &#x27;Consumption &#x27;\n",
       "                                                                                   &#x27;City &#x27;\n",
       "                                                                                   &#x27;(L/100 &#x27;\n",
       "                                                                                   &#x27;km)&#x27;,\n",
       "                                                                                   &#x27;Hwy &#x27;\n",
       "                                                                                   &#x27;(L/100 &#x27;\n",
       "                                                                                   &#x27;km)&#x27;,\n",
       "                                                                                   &#x27;CO2 &#x27;\n",
       "                                                                                   &#x27;Emissions &#x27;\n",
       "                                                                                   &#x27;(g/km)&#x27;])])),\n",
       "                                                (&#x27;svc&#x27;,\n",
       "                                                 SVC(class_weight=&#x27;balanced&#x27;,\n",
       "                                                     random_state=42))]))],\n",
       "                   final_estimator=LogisticRegression(class_weight=&#x27;balanced&#x27;,\n",
       "                                                      max_iter=1000,\n",
       "                                                      solver=&#x27;saga&#x27;))</pre><b>In a Jupyter environment, please rerun this cell to show the HTML representation or trust the notebook. <br />On GitHub, the HTML representation is unable to render, please try loading this page with nbviewer.org.</b></div><div class=\"sk-container\" hidden><div class=\"sk-item sk-dashed-wrapped\"><div class=\"sk-label-container\"><div class=\"sk-label sk-toggleable\"><input class=\"sk-toggleable__control sk-hidden--visually\" id=\"sk-estimator-id-4972\" type=\"checkbox\" ><label for=\"sk-estimator-id-4972\" class=\"sk-toggleable__label sk-toggleable__label-arrow\">StackingClassifier</label><div class=\"sk-toggleable__content\"><pre>StackingClassifier(estimators=[(&#x27;rf&#x27;,\n",
       "                                Pipeline(steps=[(&#x27;pre&#x27;,\n",
       "                                                 ColumnTransformer(transformers=[(&#x27;cat&#x27;,\n",
       "                                                                                  Pipeline(steps=[(&#x27;ohe&#x27;,\n",
       "                                                                                                   OneHotEncoder(handle_unknown=&#x27;ignore&#x27;))]),\n",
       "                                                                                  [&#x27;Make&#x27;,\n",
       "                                                                                   &#x27;Vehicle &#x27;\n",
       "                                                                                   &#x27;Class&#x27;,\n",
       "                                                                                   &#x27;Transmission&#x27;,\n",
       "                                                                                   &#x27;Fuel &#x27;\n",
       "                                                                                   &#x27;Type&#x27;]),\n",
       "                                                                                 (&#x27;num&#x27;,\n",
       "                                                                                  Pipeline(steps=[(&#x27;scaler&#x27;,\n",
       "                                                                                                   StandardScaler())]),\n",
       "                                                                                  [&#x27;Engine &#x27;\n",
       "                                                                                   &#x27;Size &#x27;\n",
       "                                                                                   &#x27;(L)&#x27;,\n",
       "                                                                                   &#x27;Cylinders&#x27;,\n",
       "                                                                                   &#x27;Fuel &#x27;\n",
       "                                                                                   &#x27;Consumption &#x27;\n",
       "                                                                                   &#x27;City &#x27;\n",
       "                                                                                   &#x27;(L/100 &#x27;\n",
       "                                                                                   &#x27;km)&#x27;,\n",
       "                                                                                   &#x27;Hwy &#x27;\n",
       "                                                                                   &#x27;...\n",
       "                                                                                   &#x27;Class&#x27;,\n",
       "                                                                                   &#x27;Transmission&#x27;,\n",
       "                                                                                   &#x27;Fuel &#x27;\n",
       "                                                                                   &#x27;Type&#x27;]),\n",
       "                                                                                 (&#x27;num&#x27;,\n",
       "                                                                                  Pipeline(steps=[(&#x27;scaler&#x27;,\n",
       "                                                                                                   StandardScaler())]),\n",
       "                                                                                  [&#x27;Engine &#x27;\n",
       "                                                                                   &#x27;Size &#x27;\n",
       "                                                                                   &#x27;(L)&#x27;,\n",
       "                                                                                   &#x27;Cylinders&#x27;,\n",
       "                                                                                   &#x27;Fuel &#x27;\n",
       "                                                                                   &#x27;Consumption &#x27;\n",
       "                                                                                   &#x27;City &#x27;\n",
       "                                                                                   &#x27;(L/100 &#x27;\n",
       "                                                                                   &#x27;km)&#x27;,\n",
       "                                                                                   &#x27;Hwy &#x27;\n",
       "                                                                                   &#x27;(L/100 &#x27;\n",
       "                                                                                   &#x27;km)&#x27;,\n",
       "                                                                                   &#x27;CO2 &#x27;\n",
       "                                                                                   &#x27;Emissions &#x27;\n",
       "                                                                                   &#x27;(g/km)&#x27;])])),\n",
       "                                                (&#x27;svc&#x27;,\n",
       "                                                 SVC(class_weight=&#x27;balanced&#x27;,\n",
       "                                                     random_state=42))]))],\n",
       "                   final_estimator=LogisticRegression(class_weight=&#x27;balanced&#x27;,\n",
       "                                                      max_iter=1000,\n",
       "                                                      solver=&#x27;saga&#x27;))</pre></div></div></div><div class=\"sk-serial\"><div class=\"sk-item\"><div class=\"sk-parallel\"><div class=\"sk-parallel-item\"><div class=\"sk-item\"><div class=\"sk-label-container\"><div class=\"sk-label sk-toggleable\"><label>rf</label></div></div><div class=\"sk-serial\"><div class=\"sk-item\"><div class=\"sk-serial\"><div class=\"sk-item sk-dashed-wrapped\"><div class=\"sk-label-container\"><div class=\"sk-label sk-toggleable\"><input class=\"sk-toggleable__control sk-hidden--visually\" id=\"sk-estimator-id-4973\" type=\"checkbox\" ><label for=\"sk-estimator-id-4973\" class=\"sk-toggleable__label sk-toggleable__label-arrow\">pre: ColumnTransformer</label><div class=\"sk-toggleable__content\"><pre>ColumnTransformer(transformers=[(&#x27;cat&#x27;,\n",
       "                                 Pipeline(steps=[(&#x27;ohe&#x27;,\n",
       "                                                  OneHotEncoder(handle_unknown=&#x27;ignore&#x27;))]),\n",
       "                                 [&#x27;Make&#x27;, &#x27;Vehicle Class&#x27;, &#x27;Transmission&#x27;,\n",
       "                                  &#x27;Fuel Type&#x27;]),\n",
       "                                (&#x27;num&#x27;,\n",
       "                                 Pipeline(steps=[(&#x27;scaler&#x27;, StandardScaler())]),\n",
       "                                 [&#x27;Engine Size (L)&#x27;, &#x27;Cylinders&#x27;,\n",
       "                                  &#x27;Fuel Consumption City (L/100 km)&#x27;,\n",
       "                                  &#x27;Hwy (L/100 km)&#x27;, &#x27;CO2 Emissions (g/km)&#x27;])])</pre></div></div></div><div class=\"sk-parallel\"><div class=\"sk-parallel-item\"><div class=\"sk-item\"><div class=\"sk-label-container\"><div class=\"sk-label sk-toggleable\"><input class=\"sk-toggleable__control sk-hidden--visually\" id=\"sk-estimator-id-4974\" type=\"checkbox\" ><label for=\"sk-estimator-id-4974\" class=\"sk-toggleable__label sk-toggleable__label-arrow\">cat</label><div class=\"sk-toggleable__content\"><pre>[&#x27;Make&#x27;, &#x27;Vehicle Class&#x27;, &#x27;Transmission&#x27;, &#x27;Fuel Type&#x27;]</pre></div></div></div><div class=\"sk-serial\"><div class=\"sk-item\"><div class=\"sk-serial\"><div class=\"sk-item\"><div class=\"sk-estimator sk-toggleable\"><input class=\"sk-toggleable__control sk-hidden--visually\" id=\"sk-estimator-id-4975\" type=\"checkbox\" ><label for=\"sk-estimator-id-4975\" class=\"sk-toggleable__label sk-toggleable__label-arrow\">OneHotEncoder</label><div class=\"sk-toggleable__content\"><pre>OneHotEncoder(handle_unknown=&#x27;ignore&#x27;)</pre></div></div></div></div></div></div></div></div><div class=\"sk-parallel-item\"><div class=\"sk-item\"><div class=\"sk-label-container\"><div class=\"sk-label sk-toggleable\"><input class=\"sk-toggleable__control sk-hidden--visually\" id=\"sk-estimator-id-4976\" type=\"checkbox\" ><label for=\"sk-estimator-id-4976\" class=\"sk-toggleable__label sk-toggleable__label-arrow\">num</label><div class=\"sk-toggleable__content\"><pre>[&#x27;Engine Size (L)&#x27;, &#x27;Cylinders&#x27;, &#x27;Fuel Consumption City (L/100 km)&#x27;, &#x27;Hwy (L/100 km)&#x27;, &#x27;CO2 Emissions (g/km)&#x27;]</pre></div></div></div><div class=\"sk-serial\"><div class=\"sk-item\"><div class=\"sk-serial\"><div class=\"sk-item\"><div class=\"sk-estimator sk-toggleable\"><input class=\"sk-toggleable__control sk-hidden--visually\" id=\"sk-estimator-id-4977\" type=\"checkbox\" ><label for=\"sk-estimator-id-4977\" class=\"sk-toggleable__label sk-toggleable__label-arrow\">StandardScaler</label><div class=\"sk-toggleable__content\"><pre>StandardScaler()</pre></div></div></div></div></div></div></div></div></div></div><div class=\"sk-item\"><div class=\"sk-estimator sk-toggleable\"><input class=\"sk-toggleable__control sk-hidden--visually\" id=\"sk-estimator-id-4978\" type=\"checkbox\" ><label for=\"sk-estimator-id-4978\" class=\"sk-toggleable__label sk-toggleable__label-arrow\">RandomForestClassifier</label><div class=\"sk-toggleable__content\"><pre>RandomForestClassifier(class_weight=&#x27;balanced&#x27;, random_state=42)</pre></div></div></div></div></div></div></div></div><div class=\"sk-parallel-item\"><div class=\"sk-item\"><div class=\"sk-label-container\"><div class=\"sk-label sk-toggleable\"><label>extra_trees</label></div></div><div class=\"sk-serial\"><div class=\"sk-item\"><div class=\"sk-serial\"><div class=\"sk-item sk-dashed-wrapped\"><div class=\"sk-label-container\"><div class=\"sk-label sk-toggleable\"><input class=\"sk-toggleable__control sk-hidden--visually\" id=\"sk-estimator-id-4979\" type=\"checkbox\" ><label for=\"sk-estimator-id-4979\" class=\"sk-toggleable__label sk-toggleable__label-arrow\">pre: ColumnTransformer</label><div class=\"sk-toggleable__content\"><pre>ColumnTransformer(transformers=[(&#x27;cat&#x27;,\n",
       "                                 Pipeline(steps=[(&#x27;ohe&#x27;,\n",
       "                                                  OneHotEncoder(handle_unknown=&#x27;ignore&#x27;))]),\n",
       "                                 [&#x27;Make&#x27;, &#x27;Vehicle Class&#x27;, &#x27;Transmission&#x27;,\n",
       "                                  &#x27;Fuel Type&#x27;]),\n",
       "                                (&#x27;num&#x27;,\n",
       "                                 Pipeline(steps=[(&#x27;scaler&#x27;, StandardScaler())]),\n",
       "                                 [&#x27;Engine Size (L)&#x27;, &#x27;Cylinders&#x27;,\n",
       "                                  &#x27;Fuel Consumption City (L/100 km)&#x27;,\n",
       "                                  &#x27;Hwy (L/100 km)&#x27;, &#x27;CO2 Emissions (g/km)&#x27;])])</pre></div></div></div><div class=\"sk-parallel\"><div class=\"sk-parallel-item\"><div class=\"sk-item\"><div class=\"sk-label-container\"><div class=\"sk-label sk-toggleable\"><input class=\"sk-toggleable__control sk-hidden--visually\" id=\"sk-estimator-id-4980\" type=\"checkbox\" ><label for=\"sk-estimator-id-4980\" class=\"sk-toggleable__label sk-toggleable__label-arrow\">cat</label><div class=\"sk-toggleable__content\"><pre>[&#x27;Make&#x27;, &#x27;Vehicle Class&#x27;, &#x27;Transmission&#x27;, &#x27;Fuel Type&#x27;]</pre></div></div></div><div class=\"sk-serial\"><div class=\"sk-item\"><div class=\"sk-serial\"><div class=\"sk-item\"><div class=\"sk-estimator sk-toggleable\"><input class=\"sk-toggleable__control sk-hidden--visually\" id=\"sk-estimator-id-4981\" type=\"checkbox\" ><label for=\"sk-estimator-id-4981\" class=\"sk-toggleable__label sk-toggleable__label-arrow\">OneHotEncoder</label><div class=\"sk-toggleable__content\"><pre>OneHotEncoder(handle_unknown=&#x27;ignore&#x27;)</pre></div></div></div></div></div></div></div></div><div class=\"sk-parallel-item\"><div class=\"sk-item\"><div class=\"sk-label-container\"><div class=\"sk-label sk-toggleable\"><input class=\"sk-toggleable__control sk-hidden--visually\" id=\"sk-estimator-id-4982\" type=\"checkbox\" ><label for=\"sk-estimator-id-4982\" class=\"sk-toggleable__label sk-toggleable__label-arrow\">num</label><div class=\"sk-toggleable__content\"><pre>[&#x27;Engine Size (L)&#x27;, &#x27;Cylinders&#x27;, &#x27;Fuel Consumption City (L/100 km)&#x27;, &#x27;Hwy (L/100 km)&#x27;, &#x27;CO2 Emissions (g/km)&#x27;]</pre></div></div></div><div class=\"sk-serial\"><div class=\"sk-item\"><div class=\"sk-serial\"><div class=\"sk-item\"><div class=\"sk-estimator sk-toggleable\"><input class=\"sk-toggleable__control sk-hidden--visually\" id=\"sk-estimator-id-4983\" type=\"checkbox\" ><label for=\"sk-estimator-id-4983\" class=\"sk-toggleable__label sk-toggleable__label-arrow\">StandardScaler</label><div class=\"sk-toggleable__content\"><pre>StandardScaler()</pre></div></div></div></div></div></div></div></div></div></div><div class=\"sk-item\"><div class=\"sk-estimator sk-toggleable\"><input class=\"sk-toggleable__control sk-hidden--visually\" id=\"sk-estimator-id-4984\" type=\"checkbox\" ><label for=\"sk-estimator-id-4984\" class=\"sk-toggleable__label sk-toggleable__label-arrow\">ExtraTreesClassifier</label><div class=\"sk-toggleable__content\"><pre>ExtraTreesClassifier(class_weight=&#x27;balanced&#x27;, random_state=42)</pre></div></div></div></div></div></div></div></div><div class=\"sk-parallel-item\"><div class=\"sk-item\"><div class=\"sk-label-container\"><div class=\"sk-label sk-toggleable\"><label>svc</label></div></div><div class=\"sk-serial\"><div class=\"sk-item\"><div class=\"sk-serial\"><div class=\"sk-item sk-dashed-wrapped\"><div class=\"sk-label-container\"><div class=\"sk-label sk-toggleable\"><input class=\"sk-toggleable__control sk-hidden--visually\" id=\"sk-estimator-id-4985\" type=\"checkbox\" ><label for=\"sk-estimator-id-4985\" class=\"sk-toggleable__label sk-toggleable__label-arrow\">pre: ColumnTransformer</label><div class=\"sk-toggleable__content\"><pre>ColumnTransformer(transformers=[(&#x27;cat&#x27;,\n",
       "                                 Pipeline(steps=[(&#x27;ohe&#x27;,\n",
       "                                                  OneHotEncoder(handle_unknown=&#x27;ignore&#x27;))]),\n",
       "                                 [&#x27;Make&#x27;, &#x27;Vehicle Class&#x27;, &#x27;Transmission&#x27;,\n",
       "                                  &#x27;Fuel Type&#x27;]),\n",
       "                                (&#x27;num&#x27;,\n",
       "                                 Pipeline(steps=[(&#x27;scaler&#x27;, StandardScaler())]),\n",
       "                                 [&#x27;Engine Size (L)&#x27;, &#x27;Cylinders&#x27;,\n",
       "                                  &#x27;Fuel Consumption City (L/100 km)&#x27;,\n",
       "                                  &#x27;Hwy (L/100 km)&#x27;, &#x27;CO2 Emissions (g/km)&#x27;])])</pre></div></div></div><div class=\"sk-parallel\"><div class=\"sk-parallel-item\"><div class=\"sk-item\"><div class=\"sk-label-container\"><div class=\"sk-label sk-toggleable\"><input class=\"sk-toggleable__control sk-hidden--visually\" id=\"sk-estimator-id-4986\" type=\"checkbox\" ><label for=\"sk-estimator-id-4986\" class=\"sk-toggleable__label sk-toggleable__label-arrow\">cat</label><div class=\"sk-toggleable__content\"><pre>[&#x27;Make&#x27;, &#x27;Vehicle Class&#x27;, &#x27;Transmission&#x27;, &#x27;Fuel Type&#x27;]</pre></div></div></div><div class=\"sk-serial\"><div class=\"sk-item\"><div class=\"sk-serial\"><div class=\"sk-item\"><div class=\"sk-estimator sk-toggleable\"><input class=\"sk-toggleable__control sk-hidden--visually\" id=\"sk-estimator-id-4987\" type=\"checkbox\" ><label for=\"sk-estimator-id-4987\" class=\"sk-toggleable__label sk-toggleable__label-arrow\">OneHotEncoder</label><div class=\"sk-toggleable__content\"><pre>OneHotEncoder(handle_unknown=&#x27;ignore&#x27;)</pre></div></div></div></div></div></div></div></div><div class=\"sk-parallel-item\"><div class=\"sk-item\"><div class=\"sk-label-container\"><div class=\"sk-label sk-toggleable\"><input class=\"sk-toggleable__control sk-hidden--visually\" id=\"sk-estimator-id-4988\" type=\"checkbox\" ><label for=\"sk-estimator-id-4988\" class=\"sk-toggleable__label sk-toggleable__label-arrow\">num</label><div class=\"sk-toggleable__content\"><pre>[&#x27;Engine Size (L)&#x27;, &#x27;Cylinders&#x27;, &#x27;Fuel Consumption City (L/100 km)&#x27;, &#x27;Hwy (L/100 km)&#x27;, &#x27;CO2 Emissions (g/km)&#x27;]</pre></div></div></div><div class=\"sk-serial\"><div class=\"sk-item\"><div class=\"sk-serial\"><div class=\"sk-item\"><div class=\"sk-estimator sk-toggleable\"><input class=\"sk-toggleable__control sk-hidden--visually\" id=\"sk-estimator-id-4989\" type=\"checkbox\" ><label for=\"sk-estimator-id-4989\" class=\"sk-toggleable__label sk-toggleable__label-arrow\">StandardScaler</label><div class=\"sk-toggleable__content\"><pre>StandardScaler()</pre></div></div></div></div></div></div></div></div></div></div><div class=\"sk-item\"><div class=\"sk-estimator sk-toggleable\"><input class=\"sk-toggleable__control sk-hidden--visually\" id=\"sk-estimator-id-4990\" type=\"checkbox\" ><label for=\"sk-estimator-id-4990\" class=\"sk-toggleable__label sk-toggleable__label-arrow\">SVC</label><div class=\"sk-toggleable__content\"><pre>SVC(class_weight=&#x27;balanced&#x27;, random_state=42)</pre></div></div></div></div></div></div></div></div></div></div><div class=\"sk-item\"><div class=\"sk-parallel\"><div class=\"sk-parallel-item\"><div class=\"sk-item\"><div class=\"sk-label-container\"><div class=\"sk-label sk-toggleable\"><label>final_estimator</label></div></div><div class=\"sk-serial\"><div class=\"sk-item\"><div class=\"sk-estimator sk-toggleable\"><input class=\"sk-toggleable__control sk-hidden--visually\" id=\"sk-estimator-id-4991\" type=\"checkbox\" ><label for=\"sk-estimator-id-4991\" class=\"sk-toggleable__label sk-toggleable__label-arrow\">LogisticRegression</label><div class=\"sk-toggleable__content\"><pre>LogisticRegression(class_weight=&#x27;balanced&#x27;, max_iter=1000, solver=&#x27;saga&#x27;)</pre></div></div></div></div></div></div></div></div></div></div></div></div>"
      ],
      "text/plain": [
       "StackingClassifier(estimators=[('rf',\n",
       "                                Pipeline(steps=[('pre',\n",
       "                                                 ColumnTransformer(transformers=[('cat',\n",
       "                                                                                  Pipeline(steps=[('ohe',\n",
       "                                                                                                   OneHotEncoder(handle_unknown='ignore'))]),\n",
       "                                                                                  ['Make',\n",
       "                                                                                   'Vehicle '\n",
       "                                                                                   'Class',\n",
       "                                                                                   'Transmission',\n",
       "                                                                                   'Fuel '\n",
       "                                                                                   'Type']),\n",
       "                                                                                 ('num',\n",
       "                                                                                  Pipeline(steps=[('scaler',\n",
       "                                                                                                   StandardScaler())]),\n",
       "                                                                                  ['Engine '\n",
       "                                                                                   'Size '\n",
       "                                                                                   '(L)',\n",
       "                                                                                   'Cylinders',\n",
       "                                                                                   'Fuel '\n",
       "                                                                                   'Consumption '\n",
       "                                                                                   'City '\n",
       "                                                                                   '(L/100 '\n",
       "                                                                                   'km)',\n",
       "                                                                                   'Hwy '\n",
       "                                                                                   '...\n",
       "                                                                                   'Class',\n",
       "                                                                                   'Transmission',\n",
       "                                                                                   'Fuel '\n",
       "                                                                                   'Type']),\n",
       "                                                                                 ('num',\n",
       "                                                                                  Pipeline(steps=[('scaler',\n",
       "                                                                                                   StandardScaler())]),\n",
       "                                                                                  ['Engine '\n",
       "                                                                                   'Size '\n",
       "                                                                                   '(L)',\n",
       "                                                                                   'Cylinders',\n",
       "                                                                                   'Fuel '\n",
       "                                                                                   'Consumption '\n",
       "                                                                                   'City '\n",
       "                                                                                   '(L/100 '\n",
       "                                                                                   'km)',\n",
       "                                                                                   'Hwy '\n",
       "                                                                                   '(L/100 '\n",
       "                                                                                   'km)',\n",
       "                                                                                   'CO2 '\n",
       "                                                                                   'Emissions '\n",
       "                                                                                   '(g/km)'])])),\n",
       "                                                ('svc',\n",
       "                                                 SVC(class_weight='balanced',\n",
       "                                                     random_state=42))]))],\n",
       "                   final_estimator=LogisticRegression(class_weight='balanced',\n",
       "                                                      max_iter=1000,\n",
       "                                                      solver='saga'))"
      ]
     },
     "execution_count": 2387,
     "metadata": {},
     "output_type": "execute_result"
    }
   ],
   "source": [
    "stacking.fit(lista_entreno[1],lista_smog[1])"
   ]
  },
  {
   "cell_type": "code",
   "execution_count": null,
   "metadata": {},
   "outputs": [
    {
     "data": {
      "text/plain": [
       "{'fit_time': array([4.32774234, 4.50204825, 4.79816079, 4.61881518, 4.67699194]),\n",
       " 'score_time': array([0.03163195, 0.0373888 , 0.03887367, 0.03580928, 0.04759908]),\n",
       " 'test_accuracy': array([0.82      , 0.84666667, 0.86      , 0.88666667, 0.78666667]),\n",
       " 'test_f1_macro': array([0.81925125, 0.83531134, 0.84795796, 0.87808783, 0.77604868])}"
      ]
     },
     "execution_count": 2388,
     "metadata": {},
     "output_type": "execute_result"
    }
   ],
   "source": [
    "scores = cross_validate(stacking, lista_entreno[1], lista_smog[1], cv=5, scoring=['accuracy','f1_macro'])\n",
    "scores"
   ]
  },
  {
   "cell_type": "code",
   "execution_count": null,
   "metadata": {},
   "outputs": [],
   "source": [
    "stacking.fit(lista_entreno[2],lista_smog[2])"
   ]
  },
  {
   "cell_type": "code",
   "execution_count": null,
   "metadata": {},
   "outputs": [],
   "source": [
    "scores = cross_validate(stacking, lista_entreno[2], lista_smog[2], cv=5, scoring=['accuracy','f1_macro'])\n",
    "scores"
   ]
  }
 ],
 "metadata": {
  "kernelspec": {
   "display_name": "Python 3",
   "language": "python",
   "name": "python3"
  },
  "language_info": {
   "codemirror_mode": {
    "name": "ipython",
    "version": 3
   },
   "file_extension": ".py",
   "mimetype": "text/x-python",
   "name": "python",
   "nbconvert_exporter": "python",
   "pygments_lexer": "ipython3",
   "version": "3.9.7"
  }
 },
 "nbformat": 4,
 "nbformat_minor": 2
}
