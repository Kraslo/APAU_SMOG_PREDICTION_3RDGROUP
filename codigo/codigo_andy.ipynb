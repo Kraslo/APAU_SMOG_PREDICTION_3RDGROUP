{
 "cells": [
  {
   "cell_type": "markdown",
   "metadata": {},
   "source": [
    "# Conocimiento de código"
   ]
  },
  {
   "cell_type": "markdown",
   "metadata": {},
   "source": [
    "## Librerías y funciones"
   ]
  },
  {
   "cell_type": "code",
   "execution_count": 244,
   "metadata": {},
   "outputs": [],
   "source": [
    "import pandas as pd\n",
    "import numpy as np\n",
    "import os\n",
    "from IPython.display import clear_output\n",
    "import matplotlib.pyplot as plt\n",
    "\n",
    "\n",
    "\n",
    "def ver_Nan(df,columns):\n",
    "    for column in columns:\n",
    "        text = f'NaN? - {column.upper()} '\n",
    "        \n",
    "        isNa = df[column].isna().any()\n",
    "        print(f'{text.ljust(50)} {isNa}')\n",
    "\n"
   ]
  },
  {
   "cell_type": "code",
   "execution_count": null,
   "metadata": {},
   "outputs": [],
   "source": []
  },
  {
   "cell_type": "markdown",
   "metadata": {},
   "source": [
    "## Lectura de datos"
   ]
  },
  {
   "cell_type": "markdown",
   "metadata": {},
   "source": [
    "Vamos a primero comprender los disntintos datasets que nos han facilitado el concurso. Para ello, vamos a cargar los datos y a ver qué información contienen."
   ]
  },
  {
   "cell_type": "code",
   "execution_count": 318,
   "metadata": {},
   "outputs": [],
   "source": [
    "directorio = '../apau-smog-prediction/'\n",
    "lista = os.listdir(directorio)\n",
    "for i in lista:\n",
    "    exec(i.split('.')[0] + ' = pd.read_csv(directorio + i)')"
   ]
  },
  {
   "cell_type": "markdown",
   "metadata": {},
   "source": [
    "\n",
    "- sample_subsimmision, ejemplo de cómo debe ser el fichero de salida (la predicción)\n",
    "- test_nolabel, datos de test sin etiquetar (podemos observar que no tenemos la columna de la etiqueta -Smog-)\n",
    "- train, datos de entrenamiento \n",
    "\n"
   ]
  },
  {
   "cell_type": "code",
   "execution_count": 246,
   "metadata": {},
   "outputs": [
    {
     "data": {
      "text/html": [
       "<div>\n",
       "<style scoped>\n",
       "    .dataframe tbody tr th:only-of-type {\n",
       "        vertical-align: middle;\n",
       "    }\n",
       "\n",
       "    .dataframe tbody tr th {\n",
       "        vertical-align: top;\n",
       "    }\n",
       "\n",
       "    .dataframe thead th {\n",
       "        text-align: right;\n",
       "    }\n",
       "</style>\n",
       "<table border=\"1\" class=\"dataframe\">\n",
       "  <thead>\n",
       "    <tr style=\"text-align: right;\">\n",
       "      <th></th>\n",
       "      <th>id</th>\n",
       "      <th>Predicted</th>\n",
       "    </tr>\n",
       "  </thead>\n",
       "  <tbody>\n",
       "    <tr>\n",
       "      <th>0</th>\n",
       "      <td>2be023f9102</td>\n",
       "      <td>2</td>\n",
       "    </tr>\n",
       "    <tr>\n",
       "      <th>1</th>\n",
       "      <td>a320ba7de7b</td>\n",
       "      <td>3</td>\n",
       "    </tr>\n",
       "    <tr>\n",
       "      <th>2</th>\n",
       "      <td>2879e8fa078</td>\n",
       "      <td>0</td>\n",
       "    </tr>\n",
       "    <tr>\n",
       "      <th>3</th>\n",
       "      <td>a561b6ee65b</td>\n",
       "      <td>2</td>\n",
       "    </tr>\n",
       "    <tr>\n",
       "      <th>4</th>\n",
       "      <td>94c225dd8e9</td>\n",
       "      <td>1</td>\n",
       "    </tr>\n",
       "  </tbody>\n",
       "</table>\n",
       "</div>"
      ],
      "text/plain": [
       "            id  Predicted\n",
       "0  2be023f9102          2\n",
       "1  a320ba7de7b          3\n",
       "2  2879e8fa078          0\n",
       "3  a561b6ee65b          2\n",
       "4  94c225dd8e9          1"
      ]
     },
     "execution_count": 246,
     "metadata": {},
     "output_type": "execute_result"
    }
   ],
   "source": [
    "sample_submission.head()"
   ]
  },
  {
   "cell_type": "code",
   "execution_count": 247,
   "metadata": {},
   "outputs": [
    {
     "data": {
      "text/html": [
       "<div>\n",
       "<style scoped>\n",
       "    .dataframe tbody tr th:only-of-type {\n",
       "        vertical-align: middle;\n",
       "    }\n",
       "\n",
       "    .dataframe tbody tr th {\n",
       "        vertical-align: top;\n",
       "    }\n",
       "\n",
       "    .dataframe thead th {\n",
       "        text-align: right;\n",
       "    }\n",
       "</style>\n",
       "<table border=\"1\" class=\"dataframe\">\n",
       "  <thead>\n",
       "    <tr style=\"text-align: right;\">\n",
       "      <th></th>\n",
       "      <th>id</th>\n",
       "      <th>Model Year</th>\n",
       "      <th>Make</th>\n",
       "      <th>Model</th>\n",
       "      <th>Vehicle Class</th>\n",
       "      <th>Engine Size (L)</th>\n",
       "      <th>Cylinders</th>\n",
       "      <th>Transmission</th>\n",
       "      <th>Fuel Type</th>\n",
       "      <th>Fuel Consumption City (L/100 km)</th>\n",
       "      <th>Hwy (L/100 km)</th>\n",
       "      <th>Comb (L/100 km)</th>\n",
       "      <th>Comb (mpg)</th>\n",
       "      <th>CO2 Emissions (g/km)</th>\n",
       "    </tr>\n",
       "  </thead>\n",
       "  <tbody>\n",
       "    <tr>\n",
       "      <th>0</th>\n",
       "      <td>2be023f9102</td>\n",
       "      <td>2022</td>\n",
       "      <td>Jeep</td>\n",
       "      <td>Wagoneer 4X4</td>\n",
       "      <td>SUV: Standard</td>\n",
       "      <td>5.7</td>\n",
       "      <td>8</td>\n",
       "      <td>A8</td>\n",
       "      <td>X</td>\n",
       "      <td>15.6</td>\n",
       "      <td>11.7</td>\n",
       "      <td>13.8</td>\n",
       "      <td>20</td>\n",
       "      <td>323</td>\n",
       "    </tr>\n",
       "    <tr>\n",
       "      <th>1</th>\n",
       "      <td>a320ba7de7b</td>\n",
       "      <td>2022</td>\n",
       "      <td>Porsche</td>\n",
       "      <td>718 Boxster</td>\n",
       "      <td>Two-seater</td>\n",
       "      <td>2.0</td>\n",
       "      <td>4</td>\n",
       "      <td>M6</td>\n",
       "      <td>Z</td>\n",
       "      <td>11.7</td>\n",
       "      <td>8.9</td>\n",
       "      <td>10.5</td>\n",
       "      <td>27</td>\n",
       "      <td>245</td>\n",
       "    </tr>\n",
       "    <tr>\n",
       "      <th>2</th>\n",
       "      <td>2879e8fa078</td>\n",
       "      <td>2022</td>\n",
       "      <td>Chrysler</td>\n",
       "      <td>Grand Caravan</td>\n",
       "      <td>Minivan</td>\n",
       "      <td>3.6</td>\n",
       "      <td>6</td>\n",
       "      <td>A9</td>\n",
       "      <td>X</td>\n",
       "      <td>12.4</td>\n",
       "      <td>8.4</td>\n",
       "      <td>10.6</td>\n",
       "      <td>27</td>\n",
       "      <td>249</td>\n",
       "    </tr>\n",
       "    <tr>\n",
       "      <th>3</th>\n",
       "      <td>a561b6ee65b</td>\n",
       "      <td>2022</td>\n",
       "      <td>Kia</td>\n",
       "      <td>Sorento AWD</td>\n",
       "      <td>SUV: Small</td>\n",
       "      <td>2.5</td>\n",
       "      <td>4</td>\n",
       "      <td>AM8</td>\n",
       "      <td>X</td>\n",
       "      <td>10.9</td>\n",
       "      <td>8.7</td>\n",
       "      <td>9.9</td>\n",
       "      <td>29</td>\n",
       "      <td>234</td>\n",
       "    </tr>\n",
       "    <tr>\n",
       "      <th>4</th>\n",
       "      <td>94c225dd8e9</td>\n",
       "      <td>2022</td>\n",
       "      <td>Bentley</td>\n",
       "      <td>Continental GT</td>\n",
       "      <td>Subcompact</td>\n",
       "      <td>4.0</td>\n",
       "      <td>8</td>\n",
       "      <td>AM8</td>\n",
       "      <td>Z</td>\n",
       "      <td>14.9</td>\n",
       "      <td>9.0</td>\n",
       "      <td>12.2</td>\n",
       "      <td>23</td>\n",
       "      <td>287</td>\n",
       "    </tr>\n",
       "  </tbody>\n",
       "</table>\n",
       "</div>"
      ],
      "text/plain": [
       "            id  Model Year      Make           Model  Vehicle Class  \\\n",
       "0  2be023f9102        2022      Jeep    Wagoneer 4X4  SUV: Standard   \n",
       "1  a320ba7de7b        2022   Porsche     718 Boxster     Two-seater   \n",
       "2  2879e8fa078        2022  Chrysler   Grand Caravan        Minivan   \n",
       "3  a561b6ee65b        2022       Kia     Sorento AWD     SUV: Small   \n",
       "4  94c225dd8e9        2022   Bentley  Continental GT     Subcompact   \n",
       "\n",
       "   Engine Size (L)  Cylinders Transmission Fuel Type  \\\n",
       "0              5.7          8           A8         X   \n",
       "1              2.0          4           M6         Z   \n",
       "2              3.6          6           A9         X   \n",
       "3              2.5          4          AM8         X   \n",
       "4              4.0          8          AM8         Z   \n",
       "\n",
       "   Fuel Consumption City (L/100 km)  Hwy (L/100 km)  Comb (L/100 km)  \\\n",
       "0                              15.6            11.7             13.8   \n",
       "1                              11.7             8.9             10.5   \n",
       "2                              12.4             8.4             10.6   \n",
       "3                              10.9             8.7              9.9   \n",
       "4                              14.9             9.0             12.2   \n",
       "\n",
       "   Comb (mpg)  CO2 Emissions (g/km)  \n",
       "0          20                   323  \n",
       "1          27                   245  \n",
       "2          27                   249  \n",
       "3          29                   234  \n",
       "4          23                   287  "
      ]
     },
     "execution_count": 247,
     "metadata": {},
     "output_type": "execute_result"
    }
   ],
   "source": [
    "test_nolabel.head()"
   ]
  },
  {
   "cell_type": "code",
   "execution_count": 248,
   "metadata": {},
   "outputs": [
    {
     "data": {
      "text/html": [
       "<div>\n",
       "<style scoped>\n",
       "    .dataframe tbody tr th:only-of-type {\n",
       "        vertical-align: middle;\n",
       "    }\n",
       "\n",
       "    .dataframe tbody tr th {\n",
       "        vertical-align: top;\n",
       "    }\n",
       "\n",
       "    .dataframe thead th {\n",
       "        text-align: right;\n",
       "    }\n",
       "</style>\n",
       "<table border=\"1\" class=\"dataframe\">\n",
       "  <thead>\n",
       "    <tr style=\"text-align: right;\">\n",
       "      <th></th>\n",
       "      <th>id</th>\n",
       "      <th>Model Year</th>\n",
       "      <th>Make</th>\n",
       "      <th>Model</th>\n",
       "      <th>Vehicle Class</th>\n",
       "      <th>Engine Size (L)</th>\n",
       "      <th>Cylinders</th>\n",
       "      <th>Transmission</th>\n",
       "      <th>Fuel Type</th>\n",
       "      <th>Fuel Consumption City (L/100 km)</th>\n",
       "      <th>Hwy (L/100 km)</th>\n",
       "      <th>Comb (L/100 km)</th>\n",
       "      <th>Comb (mpg)</th>\n",
       "      <th>CO2 Emissions (g/km)</th>\n",
       "      <th>Smog</th>\n",
       "    </tr>\n",
       "  </thead>\n",
       "  <tbody>\n",
       "    <tr>\n",
       "      <th>0</th>\n",
       "      <td>ab44e9bec15</td>\n",
       "      <td>2022</td>\n",
       "      <td>Mercedes-Benz</td>\n",
       "      <td>A 250 4MATIC Hatch</td>\n",
       "      <td>Station wagon: Small</td>\n",
       "      <td>2.0</td>\n",
       "      <td>4</td>\n",
       "      <td>AM7</td>\n",
       "      <td>Z</td>\n",
       "      <td>10.0</td>\n",
       "      <td>7.0</td>\n",
       "      <td>8.7</td>\n",
       "      <td>32</td>\n",
       "      <td>202</td>\n",
       "      <td>2</td>\n",
       "    </tr>\n",
       "    <tr>\n",
       "      <th>1</th>\n",
       "      <td>45926762371</td>\n",
       "      <td>2022</td>\n",
       "      <td>Mazda</td>\n",
       "      <td>Mazda3 5-Door</td>\n",
       "      <td>Mid-size</td>\n",
       "      <td>2.0</td>\n",
       "      <td>4</td>\n",
       "      <td>AS6</td>\n",
       "      <td>X</td>\n",
       "      <td>8.6</td>\n",
       "      <td>6.7</td>\n",
       "      <td>7.7</td>\n",
       "      <td>37</td>\n",
       "      <td>181</td>\n",
       "      <td>4</td>\n",
       "    </tr>\n",
       "    <tr>\n",
       "      <th>2</th>\n",
       "      <td>e9be56e153f</td>\n",
       "      <td>2022</td>\n",
       "      <td>Porsche</td>\n",
       "      <td>Panamera 4 ST</td>\n",
       "      <td>Full-size</td>\n",
       "      <td>2.9</td>\n",
       "      <td>6</td>\n",
       "      <td>AM8</td>\n",
       "      <td>Z</td>\n",
       "      <td>12.8</td>\n",
       "      <td>10.2</td>\n",
       "      <td>11.7</td>\n",
       "      <td>24</td>\n",
       "      <td>274</td>\n",
       "      <td>2</td>\n",
       "    </tr>\n",
       "    <tr>\n",
       "      <th>3</th>\n",
       "      <td>077092760df</td>\n",
       "      <td>2022</td>\n",
       "      <td>Mazda</td>\n",
       "      <td>CX-3 4WD</td>\n",
       "      <td>Compact</td>\n",
       "      <td>2.0</td>\n",
       "      <td>4</td>\n",
       "      <td>AS6</td>\n",
       "      <td>X</td>\n",
       "      <td>8.6</td>\n",
       "      <td>7.4</td>\n",
       "      <td>8.1</td>\n",
       "      <td>35</td>\n",
       "      <td>189</td>\n",
       "      <td>1</td>\n",
       "    </tr>\n",
       "    <tr>\n",
       "      <th>4</th>\n",
       "      <td>c1c2579b795</td>\n",
       "      <td>2022</td>\n",
       "      <td>Aston Martin</td>\n",
       "      <td>DBS V12</td>\n",
       "      <td>Minicompact</td>\n",
       "      <td>5.2</td>\n",
       "      <td>12</td>\n",
       "      <td>A8</td>\n",
       "      <td>Z</td>\n",
       "      <td>16.4</td>\n",
       "      <td>10.7</td>\n",
       "      <td>13.8</td>\n",
       "      <td>20</td>\n",
       "      <td>324</td>\n",
       "      <td>1</td>\n",
       "    </tr>\n",
       "  </tbody>\n",
       "</table>\n",
       "</div>"
      ],
      "text/plain": [
       "            id  Model Year           Make               Model  \\\n",
       "0  ab44e9bec15        2022  Mercedes-Benz  A 250 4MATIC Hatch   \n",
       "1  45926762371        2022          Mazda       Mazda3 5-Door   \n",
       "2  e9be56e153f        2022        Porsche       Panamera 4 ST   \n",
       "3  077092760df        2022          Mazda            CX-3 4WD   \n",
       "4  c1c2579b795        2022   Aston Martin             DBS V12   \n",
       "\n",
       "          Vehicle Class  Engine Size (L)  Cylinders Transmission Fuel Type  \\\n",
       "0  Station wagon: Small              2.0          4          AM7         Z   \n",
       "1              Mid-size              2.0          4          AS6         X   \n",
       "2             Full-size              2.9          6          AM8         Z   \n",
       "3               Compact              2.0          4          AS6         X   \n",
       "4           Minicompact              5.2         12           A8         Z   \n",
       "\n",
       "   Fuel Consumption City (L/100 km)  Hwy (L/100 km)  Comb (L/100 km)  \\\n",
       "0                              10.0             7.0              8.7   \n",
       "1                               8.6             6.7              7.7   \n",
       "2                              12.8            10.2             11.7   \n",
       "3                               8.6             7.4              8.1   \n",
       "4                              16.4            10.7             13.8   \n",
       "\n",
       "   Comb (mpg)  CO2 Emissions (g/km)  Smog  \n",
       "0          32                   202     2  \n",
       "1          37                   181     4  \n",
       "2          24                   274     2  \n",
       "3          35                   189     1  \n",
       "4          20                   324     1  "
      ]
     },
     "execution_count": 248,
     "metadata": {},
     "output_type": "execute_result"
    }
   ],
   "source": [
    "train.head()"
   ]
  },
  {
   "cell_type": "markdown",
   "metadata": {},
   "source": [
    "## Limpieza de datos"
   ]
  },
  {
   "cell_type": "markdown",
   "metadata": {},
   "source": [
    "La limpieza de datos se va a llevar a cabo sobre dataset de entrenamiento y de test. Dicha limpieza consiste en:\n",
    "1. Encontrar valores nulos y estudiar si se pueden eliminar o rellenar con algún valor\n",
    "2. Estudio de las distintas variables\n",
    "3. Estudio de variables que puedan ser buenos predictores\n",
    "\n",
    "\n",
    "\n",
    "\n"
   ]
  },
  {
   "cell_type": "markdown",
   "metadata": {},
   "source": [
    "### 1. Encontrar valores nulos y estudiar si se pueden eliminar o rellenar con algún valor"
   ]
  },
  {
   "cell_type": "code",
   "execution_count": 249,
   "metadata": {},
   "outputs": [
    {
     "name": "stdout",
     "output_type": "stream",
     "text": [
      "NaN? - ID                                          False\n",
      "NaN? - MODEL YEAR                                  False\n",
      "NaN? - MAKE                                        False\n",
      "NaN? - MODEL                                       False\n",
      "NaN? - VEHICLE CLASS                               False\n",
      "NaN? - ENGINE SIZE (L)                             False\n",
      "NaN? - CYLINDERS                                   False\n",
      "NaN? - TRANSMISSION                                False\n",
      "NaN? - FUEL TYPE                                   False\n",
      "NaN? - FUEL CONSUMPTION CITY (L/100 KM)            False\n",
      "NaN? - HWY (L/100 KM)                              False\n",
      "NaN? - COMB (L/100 KM)                             False\n",
      "NaN? - COMB (MPG)                                  False\n",
      "NaN? - CO2 EMISSIONS (G/KM)                        False\n",
      "NaN? - SMOG                                        False\n"
     ]
    }
   ],
   "source": [
    "ver_Nan(train,train.columns)"
   ]
  },
  {
   "cell_type": "code",
   "execution_count": 250,
   "metadata": {},
   "outputs": [
    {
     "name": "stdout",
     "output_type": "stream",
     "text": [
      "NaN? - ID                                          False\n",
      "NaN? - MODEL YEAR                                  False\n",
      "NaN? - MAKE                                        False\n",
      "NaN? - MODEL                                       False\n",
      "NaN? - VEHICLE CLASS                               False\n",
      "NaN? - ENGINE SIZE (L)                             False\n",
      "NaN? - CYLINDERS                                   False\n",
      "NaN? - TRANSMISSION                                False\n",
      "NaN? - FUEL TYPE                                   False\n",
      "NaN? - FUEL CONSUMPTION CITY (L/100 KM)            False\n",
      "NaN? - HWY (L/100 KM)                              False\n",
      "NaN? - COMB (L/100 KM)                             False\n",
      "NaN? - COMB (MPG)                                  False\n",
      "NaN? - CO2 EMISSIONS (G/KM)                        False\n"
     ]
    },
    {
     "data": {
      "text/plain": [
       "'Comprobamos por si acaso en el dataset de test_nolabel hay valores NaN, para tenerlo en cuenta en el futuro'"
      ]
     },
     "execution_count": 250,
     "metadata": {},
     "output_type": "execute_result"
    }
   ],
   "source": [
    "ver_Nan(test_nolabel,test_nolabel.columns)\n",
    "'''Comprobamos por si acaso en el dataset de test_nolabel hay valores NaN, para tenerlo en cuenta en el futuro'''"
   ]
  },
  {
   "cell_type": "code",
   "execution_count": 251,
   "metadata": {},
   "outputs": [
    {
     "data": {
      "text/html": [
       "<div>\n",
       "<style scoped>\n",
       "    .dataframe tbody tr th:only-of-type {\n",
       "        vertical-align: middle;\n",
       "    }\n",
       "\n",
       "    .dataframe tbody tr th {\n",
       "        vertical-align: top;\n",
       "    }\n",
       "\n",
       "    .dataframe thead th {\n",
       "        text-align: right;\n",
       "    }\n",
       "</style>\n",
       "<table border=\"1\" class=\"dataframe\">\n",
       "  <thead>\n",
       "    <tr style=\"text-align: right;\">\n",
       "      <th></th>\n",
       "      <th>Model Year</th>\n",
       "      <th>Engine Size (L)</th>\n",
       "      <th>Cylinders</th>\n",
       "      <th>Fuel Consumption City (L/100 km)</th>\n",
       "      <th>Hwy (L/100 km)</th>\n",
       "      <th>Comb (L/100 km)</th>\n",
       "      <th>Comb (mpg)</th>\n",
       "      <th>CO2 Emissions (g/km)</th>\n",
       "      <th>Smog</th>\n",
       "    </tr>\n",
       "  </thead>\n",
       "  <tbody>\n",
       "    <tr>\n",
       "      <th>Model Year</th>\n",
       "      <td>NaN</td>\n",
       "      <td>NaN</td>\n",
       "      <td>NaN</td>\n",
       "      <td>NaN</td>\n",
       "      <td>NaN</td>\n",
       "      <td>NaN</td>\n",
       "      <td>NaN</td>\n",
       "      <td>NaN</td>\n",
       "      <td>NaN</td>\n",
       "    </tr>\n",
       "    <tr>\n",
       "      <th>Engine Size (L)</th>\n",
       "      <td>NaN</td>\n",
       "      <td>1.000000</td>\n",
       "      <td>0.916857</td>\n",
       "      <td>0.823824</td>\n",
       "      <td>0.722882</td>\n",
       "      <td>0.802054</td>\n",
       "      <td>-0.713731</td>\n",
       "      <td>0.808957</td>\n",
       "      <td>-0.385252</td>\n",
       "    </tr>\n",
       "    <tr>\n",
       "      <th>Cylinders</th>\n",
       "      <td>NaN</td>\n",
       "      <td>0.916857</td>\n",
       "      <td>1.000000</td>\n",
       "      <td>0.836961</td>\n",
       "      <td>0.716359</td>\n",
       "      <td>0.808126</td>\n",
       "      <td>-0.709976</td>\n",
       "      <td>0.819685</td>\n",
       "      <td>-0.452239</td>\n",
       "    </tr>\n",
       "    <tr>\n",
       "      <th>Fuel Consumption City (L/100 km)</th>\n",
       "      <td>NaN</td>\n",
       "      <td>0.823824</td>\n",
       "      <td>0.836961</td>\n",
       "      <td>1.000000</td>\n",
       "      <td>0.917850</td>\n",
       "      <td>0.989132</td>\n",
       "      <td>-0.925557</td>\n",
       "      <td>0.962071</td>\n",
       "      <td>-0.485874</td>\n",
       "    </tr>\n",
       "    <tr>\n",
       "      <th>Hwy (L/100 km)</th>\n",
       "      <td>NaN</td>\n",
       "      <td>0.722882</td>\n",
       "      <td>0.716359</td>\n",
       "      <td>0.917850</td>\n",
       "      <td>1.000000</td>\n",
       "      <td>0.966028</td>\n",
       "      <td>-0.888538</td>\n",
       "      <td>0.933776</td>\n",
       "      <td>-0.374793</td>\n",
       "    </tr>\n",
       "    <tr>\n",
       "      <th>Comb (L/100 km)</th>\n",
       "      <td>NaN</td>\n",
       "      <td>0.802054</td>\n",
       "      <td>0.808126</td>\n",
       "      <td>0.989132</td>\n",
       "      <td>0.966028</td>\n",
       "      <td>1.000000</td>\n",
       "      <td>-0.930041</td>\n",
       "      <td>0.970278</td>\n",
       "      <td>-0.454922</td>\n",
       "    </tr>\n",
       "    <tr>\n",
       "      <th>Comb (mpg)</th>\n",
       "      <td>NaN</td>\n",
       "      <td>-0.713731</td>\n",
       "      <td>-0.709976</td>\n",
       "      <td>-0.925557</td>\n",
       "      <td>-0.888538</td>\n",
       "      <td>-0.930041</td>\n",
       "      <td>1.000000</td>\n",
       "      <td>-0.926047</td>\n",
       "      <td>0.475578</td>\n",
       "    </tr>\n",
       "    <tr>\n",
       "      <th>CO2 Emissions (g/km)</th>\n",
       "      <td>NaN</td>\n",
       "      <td>0.808957</td>\n",
       "      <td>0.819685</td>\n",
       "      <td>0.962071</td>\n",
       "      <td>0.933776</td>\n",
       "      <td>0.970278</td>\n",
       "      <td>-0.926047</td>\n",
       "      <td>1.000000</td>\n",
       "      <td>-0.481380</td>\n",
       "    </tr>\n",
       "    <tr>\n",
       "      <th>Smog</th>\n",
       "      <td>NaN</td>\n",
       "      <td>-0.385252</td>\n",
       "      <td>-0.452239</td>\n",
       "      <td>-0.485874</td>\n",
       "      <td>-0.374793</td>\n",
       "      <td>-0.454922</td>\n",
       "      <td>0.475578</td>\n",
       "      <td>-0.481380</td>\n",
       "      <td>1.000000</td>\n",
       "    </tr>\n",
       "  </tbody>\n",
       "</table>\n",
       "</div>"
      ],
      "text/plain": [
       "                                  Model Year  Engine Size (L)  Cylinders  \\\n",
       "Model Year                               NaN              NaN        NaN   \n",
       "Engine Size (L)                          NaN         1.000000   0.916857   \n",
       "Cylinders                                NaN         0.916857   1.000000   \n",
       "Fuel Consumption City (L/100 km)         NaN         0.823824   0.836961   \n",
       "Hwy (L/100 km)                           NaN         0.722882   0.716359   \n",
       "Comb (L/100 km)                          NaN         0.802054   0.808126   \n",
       "Comb (mpg)                               NaN        -0.713731  -0.709976   \n",
       "CO2 Emissions (g/km)                     NaN         0.808957   0.819685   \n",
       "Smog                                     NaN        -0.385252  -0.452239   \n",
       "\n",
       "                                  Fuel Consumption City (L/100 km)  \\\n",
       "Model Year                                                     NaN   \n",
       "Engine Size (L)                                           0.823824   \n",
       "Cylinders                                                 0.836961   \n",
       "Fuel Consumption City (L/100 km)                          1.000000   \n",
       "Hwy (L/100 km)                                            0.917850   \n",
       "Comb (L/100 km)                                           0.989132   \n",
       "Comb (mpg)                                               -0.925557   \n",
       "CO2 Emissions (g/km)                                      0.962071   \n",
       "Smog                                                     -0.485874   \n",
       "\n",
       "                                  Hwy (L/100 km)  Comb (L/100 km)  Comb (mpg)  \\\n",
       "Model Year                                   NaN              NaN         NaN   \n",
       "Engine Size (L)                         0.722882         0.802054   -0.713731   \n",
       "Cylinders                               0.716359         0.808126   -0.709976   \n",
       "Fuel Consumption City (L/100 km)        0.917850         0.989132   -0.925557   \n",
       "Hwy (L/100 km)                          1.000000         0.966028   -0.888538   \n",
       "Comb (L/100 km)                         0.966028         1.000000   -0.930041   \n",
       "Comb (mpg)                             -0.888538        -0.930041    1.000000   \n",
       "CO2 Emissions (g/km)                    0.933776         0.970278   -0.926047   \n",
       "Smog                                   -0.374793        -0.454922    0.475578   \n",
       "\n",
       "                                  CO2 Emissions (g/km)      Smog  \n",
       "Model Year                                         NaN       NaN  \n",
       "Engine Size (L)                               0.808957 -0.385252  \n",
       "Cylinders                                     0.819685 -0.452239  \n",
       "Fuel Consumption City (L/100 km)              0.962071 -0.485874  \n",
       "Hwy (L/100 km)                                0.933776 -0.374793  \n",
       "Comb (L/100 km)                               0.970278 -0.454922  \n",
       "Comb (mpg)                                   -0.926047  0.475578  \n",
       "CO2 Emissions (g/km)                          1.000000 -0.481380  \n",
       "Smog                                         -0.481380  1.000000  "
      ]
     },
     "execution_count": 251,
     "metadata": {},
     "output_type": "execute_result"
    }
   ],
   "source": [
    "train.corr()"
   ]
  },
  {
   "cell_type": "markdown",
   "metadata": {},
   "source": [
    "Vemos que no hay un valor NaN en todo el dataset, por lo que no es necesario rellenar ningún dato.\n",
    "\n",
    "Ahora, visualicemos con histogramas todos los datos que sean numéricos:"
   ]
  },
  {
   "cell_type": "markdown",
   "metadata": {},
   "source": [
    "### 2. Estudio de las distintas variables"
   ]
  },
  {
   "cell_type": "code",
   "execution_count": 252,
   "metadata": {},
   "outputs": [
    {
     "data": {
      "text/plain": [
       "Index(['id', 'Model Year', 'Make', 'Model', 'Vehicle Class', 'Engine Size (L)',\n",
       "       'Cylinders', 'Transmission', 'Fuel Type',\n",
       "       'Fuel Consumption City (L/100 km)', 'Hwy (L/100 km)', 'Comb (L/100 km)',\n",
       "       'Comb (mpg)', 'CO2 Emissions (g/km)', 'Smog'],\n",
       "      dtype='object')"
      ]
     },
     "execution_count": 252,
     "metadata": {},
     "output_type": "execute_result"
    }
   ],
   "source": [
    "train.columns"
   ]
  },
  {
   "cell_type": "markdown",
   "metadata": {},
   "source": [
    "Nuestras variables son:\n",
    "- Model Year: año del modelo\n",
    "- Make: marca del coche\n",
    "- Model: modelo del coche\n",
    "- Vehicle Class: clase del vehículo\n",
    "- Engine Size: tamaño del motor\n",
    "- Cylinders: número de cilindros\n",
    "- Transmission: tipo de transmisión\n",
    "- Fuel Type: tipo de combustible\n",
    "- Fuel Consumption City (L/100 km): consumo de combustible en ciudad\n",
    "- Hwy (L/100 km): consumo de combustible en carretera\n",
    "- Comb (L/100 km): consumo de combustible combinado\n",
    "- Fuel Consumption Comb (mpg): consumo de combustible combinado (millas por galón)\n",
    "- CO2 Emissions(g/km): emisiones de CO2\n",
    "\n",
    "Vamos a estudiar cada una de las variables para ver si podemos sacar alguna conclusión sobre ellas.\n"
   ]
  },
  {
   "cell_type": "markdown",
   "metadata": {},
   "source": [
    "#### Model Year: año del modelo"
   ]
  },
  {
   "cell_type": "code",
   "execution_count": 253,
   "metadata": {},
   "outputs": [
    {
     "data": {
      "text/plain": [
       "0    2022\n",
       "1    2022\n",
       "2    2022\n",
       "3    2022\n",
       "4    2022\n",
       "Name: Model Year, dtype: int64"
      ]
     },
     "execution_count": 253,
     "metadata": {},
     "output_type": "execute_result"
    }
   ],
   "source": [
    "train['Model Year'].head()"
   ]
  },
  {
   "cell_type": "code",
   "execution_count": 254,
   "metadata": {},
   "outputs": [
    {
     "data": {
      "text/plain": [
       "array([2022], dtype=int64)"
      ]
     },
     "execution_count": 254,
     "metadata": {},
     "output_type": "execute_result"
    }
   ],
   "source": [
    "train['Model Year'].unique()\n"
   ]
  },
  {
   "cell_type": "code",
   "execution_count": 255,
   "metadata": {},
   "outputs": [],
   "source": [
    "train = train.drop(['Model Year'],axis=1)"
   ]
  },
  {
   "cell_type": "markdown",
   "metadata": {},
   "source": [
    "Observamos que la variable Model Year tiene como valor único el año 2020, por lo que no nos aporta información. Por tanto, la eliminamos."
   ]
  },
  {
   "cell_type": "markdown",
   "metadata": {},
   "source": [
    "#### Make, Model, Vehicle Class: marca, modelo y clase del vehículo"
   ]
  },
  {
   "cell_type": "markdown",
   "metadata": {},
   "source": [
    "Vamos a ver si podemos sacar alguna conclusión sobre estas variables. Para ello, vamos a observar si con alguna de las dos variables podemos saber\n",
    "la otra variable. Por ejemplo, si con la marca y el modelo podemos saber la clase del vehículo, no sería necesario tener las tres variables."
   ]
  },
  {
   "cell_type": "code",
   "execution_count": 256,
   "metadata": {},
   "outputs": [
    {
     "data": {
      "text/html": [
       "<div>\n",
       "<style scoped>\n",
       "    .dataframe tbody tr th:only-of-type {\n",
       "        vertical-align: middle;\n",
       "    }\n",
       "\n",
       "    .dataframe tbody tr th {\n",
       "        vertical-align: top;\n",
       "    }\n",
       "\n",
       "    .dataframe thead th {\n",
       "        text-align: right;\n",
       "    }\n",
       "</style>\n",
       "<table border=\"1\" class=\"dataframe\">\n",
       "  <thead>\n",
       "    <tr style=\"text-align: right;\">\n",
       "      <th></th>\n",
       "      <th>Make</th>\n",
       "      <th>Model</th>\n",
       "      <th>Vehicle Class</th>\n",
       "    </tr>\n",
       "  </thead>\n",
       "  <tbody>\n",
       "    <tr>\n",
       "      <th>0</th>\n",
       "      <td>Mercedes-Benz</td>\n",
       "      <td>A 250 4MATIC Hatch</td>\n",
       "      <td>Station wagon: Small</td>\n",
       "    </tr>\n",
       "    <tr>\n",
       "      <th>1</th>\n",
       "      <td>Mazda</td>\n",
       "      <td>Mazda3 5-Door</td>\n",
       "      <td>Mid-size</td>\n",
       "    </tr>\n",
       "    <tr>\n",
       "      <th>2</th>\n",
       "      <td>Porsche</td>\n",
       "      <td>Panamera 4 ST</td>\n",
       "      <td>Full-size</td>\n",
       "    </tr>\n",
       "    <tr>\n",
       "      <th>3</th>\n",
       "      <td>Mazda</td>\n",
       "      <td>CX-3 4WD</td>\n",
       "      <td>Compact</td>\n",
       "    </tr>\n",
       "    <tr>\n",
       "      <th>4</th>\n",
       "      <td>Aston Martin</td>\n",
       "      <td>DBS V12</td>\n",
       "      <td>Minicompact</td>\n",
       "    </tr>\n",
       "  </tbody>\n",
       "</table>\n",
       "</div>"
      ],
      "text/plain": [
       "            Make               Model         Vehicle Class\n",
       "0  Mercedes-Benz  A 250 4MATIC Hatch  Station wagon: Small\n",
       "1          Mazda       Mazda3 5-Door              Mid-size\n",
       "2        Porsche       Panamera 4 ST             Full-size\n",
       "3          Mazda            CX-3 4WD               Compact\n",
       "4   Aston Martin             DBS V12           Minicompact"
      ]
     },
     "execution_count": 256,
     "metadata": {},
     "output_type": "execute_result"
    }
   ],
   "source": [
    "estudio=train.iloc[:,1:4]\n",
    "estudio.head()"
   ]
  },
  {
   "cell_type": "code",
   "execution_count": 257,
   "metadata": {},
   "outputs": [],
   "source": [
    "assert (estudio[['Model','Vehicle Class']].value_counts()!=1).any()\n",
    "assert (estudio[['Make','Vehicle Class']].value_counts()!=1).any()\n",
    "assert (estudio[['Make','Model']].value_counts()!=1).any()"
   ]
  },
  {
   "cell_type": "code",
   "execution_count": 258,
   "metadata": {},
   "outputs": [],
   "source": [
    "(train.groupby(['Make','Model']).count()==1).any()\n",
    "#encuentra la fila que hace que lo dearriba no sea tru\n",
    "#encuntra si hay dupplicados en make y model\n",
    "train[train.duplicated(subset=['Engine Size (L)','Cylinders'],keep=False)].sort_values(by=['Make','Model'])\n",
    "\n",
    "dumies = pd.get_dummies(train,columns=['Make','Model','Vehicle Class','Transmission'],drop_first=True)"
   ]
  },
  {
   "cell_type": "code",
   "execution_count": 259,
   "metadata": {},
   "outputs": [
    {
     "data": {
      "text/html": [
       "<style type=\"text/css\">\n",
       "#T_a4690_row0_col0, #T_a4690_row1_col1, #T_a4690_row2_col2, #T_a4690_row3_col3, #T_a4690_row4_col4, #T_a4690_row5_col5, #T_a4690_row6_col6, #T_a4690_row7_col7 {\n",
       "  background-color: #b40426;\n",
       "  color: #f1f1f1;\n",
       "}\n",
       "#T_a4690_row0_col1, #T_a4690_row1_col0 {\n",
       "  background-color: #c43032;\n",
       "  color: #f1f1f1;\n",
       "}\n",
       "#T_a4690_row0_col2, #T_a4690_row2_col0 {\n",
       "  background-color: #d44e41;\n",
       "  color: #f1f1f1;\n",
       "}\n",
       "#T_a4690_row0_col3, #T_a4690_row3_col0 {\n",
       "  background-color: #e26952;\n",
       "  color: #f1f1f1;\n",
       "}\n",
       "#T_a4690_row0_col4, #T_a4690_row4_col0 {\n",
       "  background-color: #d75445;\n",
       "  color: #f1f1f1;\n",
       "}\n",
       "#T_a4690_row0_col5, #T_a4690_row5_col0 {\n",
       "  background-color: #5d7ce6;\n",
       "  color: #f1f1f1;\n",
       "}\n",
       "#T_a4690_row0_col6, #T_a4690_row1_col4, #T_a4690_row4_col1, #T_a4690_row6_col0 {\n",
       "  background-color: #d65244;\n",
       "  color: #f1f1f1;\n",
       "}\n",
       "#T_a4690_row0_col7, #T_a4690_row7_col0 {\n",
       "  background-color: #97b8ff;\n",
       "  color: #000000;\n",
       "}\n",
       "#T_a4690_row1_col2, #T_a4690_row2_col1 {\n",
       "  background-color: #d1493f;\n",
       "  color: #f1f1f1;\n",
       "}\n",
       "#T_a4690_row1_col3, #T_a4690_row3_col1 {\n",
       "  background-color: #e36b54;\n",
       "  color: #f1f1f1;\n",
       "}\n",
       "#T_a4690_row1_col5, #T_a4690_row5_col1 {\n",
       "  background-color: #5e7de7;\n",
       "  color: #f1f1f1;\n",
       "}\n",
       "#T_a4690_row1_col6, #T_a4690_row6_col1 {\n",
       "  background-color: #d55042;\n",
       "  color: #f1f1f1;\n",
       "}\n",
       "#T_a4690_row1_col7, #T_a4690_row7_col1 {\n",
       "  background-color: #8caffe;\n",
       "  color: #000000;\n",
       "}\n",
       "#T_a4690_row2_col3, #T_a4690_row3_col2 {\n",
       "  background-color: #c32e31;\n",
       "  color: #f1f1f1;\n",
       "}\n",
       "#T_a4690_row2_col4, #T_a4690_row4_col2 {\n",
       "  background-color: #b50927;\n",
       "  color: #f1f1f1;\n",
       "}\n",
       "#T_a4690_row2_col5, #T_a4690_row4_col5, #T_a4690_row5_col2, #T_a4690_row5_col4, #T_a4690_row5_col6, #T_a4690_row6_col5 {\n",
       "  background-color: #3b4cc0;\n",
       "  color: #f1f1f1;\n",
       "}\n",
       "#T_a4690_row2_col6, #T_a4690_row6_col2 {\n",
       "  background-color: #bb1b2c;\n",
       "  color: #f1f1f1;\n",
       "}\n",
       "#T_a4690_row2_col7, #T_a4690_row7_col2 {\n",
       "  background-color: #85a8fc;\n",
       "  color: #f1f1f1;\n",
       "}\n",
       "#T_a4690_row3_col4, #T_a4690_row4_col3 {\n",
       "  background-color: #ba162b;\n",
       "  color: #f1f1f1;\n",
       "}\n",
       "#T_a4690_row3_col5, #T_a4690_row5_col3 {\n",
       "  background-color: #4055c8;\n",
       "  color: #f1f1f1;\n",
       "}\n",
       "#T_a4690_row3_col6, #T_a4690_row6_col3 {\n",
       "  background-color: #c0282f;\n",
       "  color: #f1f1f1;\n",
       "}\n",
       "#T_a4690_row3_col7, #T_a4690_row7_col3 {\n",
       "  background-color: #9abbff;\n",
       "  color: #000000;\n",
       "}\n",
       "#T_a4690_row4_col6, #T_a4690_row6_col4 {\n",
       "  background-color: #b8122a;\n",
       "  color: #f1f1f1;\n",
       "}\n",
       "#T_a4690_row4_col7, #T_a4690_row7_col4 {\n",
       "  background-color: #8badfd;\n",
       "  color: #000000;\n",
       "}\n",
       "#T_a4690_row5_col7, #T_a4690_row7_col5 {\n",
       "  background-color: #f6a283;\n",
       "  color: #000000;\n",
       "}\n",
       "#T_a4690_row6_col7, #T_a4690_row7_col6 {\n",
       "  background-color: #86a9fc;\n",
       "  color: #f1f1f1;\n",
       "}\n",
       "</style>\n",
       "<table id=\"T_a4690\">\n",
       "  <thead>\n",
       "    <tr>\n",
       "      <th class=\"blank level0\" >&nbsp;</th>\n",
       "      <th id=\"T_a4690_level0_col0\" class=\"col_heading level0 col0\" >Engine Size (L)</th>\n",
       "      <th id=\"T_a4690_level0_col1\" class=\"col_heading level0 col1\" >Cylinders</th>\n",
       "      <th id=\"T_a4690_level0_col2\" class=\"col_heading level0 col2\" >Fuel Consumption City (L/100 km)</th>\n",
       "      <th id=\"T_a4690_level0_col3\" class=\"col_heading level0 col3\" >Hwy (L/100 km)</th>\n",
       "      <th id=\"T_a4690_level0_col4\" class=\"col_heading level0 col4\" >Comb (L/100 km)</th>\n",
       "      <th id=\"T_a4690_level0_col5\" class=\"col_heading level0 col5\" >Comb (mpg)</th>\n",
       "      <th id=\"T_a4690_level0_col6\" class=\"col_heading level0 col6\" >CO2 Emissions (g/km)</th>\n",
       "      <th id=\"T_a4690_level0_col7\" class=\"col_heading level0 col7\" >Smog</th>\n",
       "    </tr>\n",
       "  </thead>\n",
       "  <tbody>\n",
       "    <tr>\n",
       "      <th id=\"T_a4690_level0_row0\" class=\"row_heading level0 row0\" >Engine Size (L)</th>\n",
       "      <td id=\"T_a4690_row0_col0\" class=\"data row0 col0\" >1.000000</td>\n",
       "      <td id=\"T_a4690_row0_col1\" class=\"data row0 col1\" >0.916637</td>\n",
       "      <td id=\"T_a4690_row0_col2\" class=\"data row0 col2\" >0.823131</td>\n",
       "      <td id=\"T_a4690_row0_col3\" class=\"data row0 col3\" >0.721784</td>\n",
       "      <td id=\"T_a4690_row0_col4\" class=\"data row0 col4\" >0.801275</td>\n",
       "      <td id=\"T_a4690_row0_col5\" class=\"data row0 col5\" >-0.712760</td>\n",
       "      <td id=\"T_a4690_row0_col6\" class=\"data row0 col6\" >0.808221</td>\n",
       "      <td id=\"T_a4690_row0_col7\" class=\"data row0 col7\" >-0.387098</td>\n",
       "    </tr>\n",
       "    <tr>\n",
       "      <th id=\"T_a4690_level0_row1\" class=\"row_heading level0 row1\" >Cylinders</th>\n",
       "      <td id=\"T_a4690_row1_col0\" class=\"data row1 col0\" >0.916637</td>\n",
       "      <td id=\"T_a4690_row1_col1\" class=\"data row1 col1\" >1.000000</td>\n",
       "      <td id=\"T_a4690_row1_col2\" class=\"data row1 col2\" >0.836298</td>\n",
       "      <td id=\"T_a4690_row1_col3\" class=\"data row1 col3\" >0.715005</td>\n",
       "      <td id=\"T_a4690_row1_col4\" class=\"data row1 col4\" >0.807255</td>\n",
       "      <td id=\"T_a4690_row1_col5\" class=\"data row1 col5\" >-0.708713</td>\n",
       "      <td id=\"T_a4690_row1_col6\" class=\"data row1 col6\" >0.818873</td>\n",
       "      <td id=\"T_a4690_row1_col7\" class=\"data row1 col7\" >-0.454243</td>\n",
       "    </tr>\n",
       "    <tr>\n",
       "      <th id=\"T_a4690_level0_row2\" class=\"row_heading level0 row2\" >Fuel Consumption City (L/100 km)</th>\n",
       "      <td id=\"T_a4690_row2_col0\" class=\"data row2 col0\" >0.823131</td>\n",
       "      <td id=\"T_a4690_row2_col1\" class=\"data row2 col1\" >0.836298</td>\n",
       "      <td id=\"T_a4690_row2_col2\" class=\"data row2 col2\" >1.000000</td>\n",
       "      <td id=\"T_a4690_row2_col3\" class=\"data row2 col3\" >0.917553</td>\n",
       "      <td id=\"T_a4690_row2_col4\" class=\"data row2 col4\" >0.989096</td>\n",
       "      <td id=\"T_a4690_row2_col5\" class=\"data row2 col5\" >-0.925216</td>\n",
       "      <td id=\"T_a4690_row2_col6\" class=\"data row2 col6\" >0.961866</td>\n",
       "      <td id=\"T_a4690_row2_col7\" class=\"data row2 col7\" >-0.488333</td>\n",
       "    </tr>\n",
       "    <tr>\n",
       "      <th id=\"T_a4690_level0_row3\" class=\"row_heading level0 row3\" >Hwy (L/100 km)</th>\n",
       "      <td id=\"T_a4690_row3_col0\" class=\"data row3 col0\" >0.721784</td>\n",
       "      <td id=\"T_a4690_row3_col1\" class=\"data row3 col1\" >0.715005</td>\n",
       "      <td id=\"T_a4690_row3_col2\" class=\"data row3 col2\" >0.917553</td>\n",
       "      <td id=\"T_a4690_row3_col3\" class=\"data row3 col3\" >1.000000</td>\n",
       "      <td id=\"T_a4690_row3_col4\" class=\"data row3 col4\" >0.965899</td>\n",
       "      <td id=\"T_a4690_row3_col5\" class=\"data row3 col5\" >-0.888011</td>\n",
       "      <td id=\"T_a4690_row3_col6\" class=\"data row3 col6\" >0.933429</td>\n",
       "      <td id=\"T_a4690_row3_col7\" class=\"data row3 col7\" >-0.375993</td>\n",
       "    </tr>\n",
       "    <tr>\n",
       "      <th id=\"T_a4690_level0_row4\" class=\"row_heading level0 row4\" >Comb (L/100 km)</th>\n",
       "      <td id=\"T_a4690_row4_col0\" class=\"data row4 col0\" >0.801275</td>\n",
       "      <td id=\"T_a4690_row4_col1\" class=\"data row4 col1\" >0.807255</td>\n",
       "      <td id=\"T_a4690_row4_col2\" class=\"data row4 col2\" >0.989096</td>\n",
       "      <td id=\"T_a4690_row4_col3\" class=\"data row4 col3\" >0.965899</td>\n",
       "      <td id=\"T_a4690_row4_col4\" class=\"data row4 col4\" >1.000000</td>\n",
       "      <td id=\"T_a4690_row4_col5\" class=\"data row4 col5\" >-0.929672</td>\n",
       "      <td id=\"T_a4690_row4_col6\" class=\"data row4 col6\" >0.970086</td>\n",
       "      <td id=\"T_a4690_row4_col7\" class=\"data row4 col7\" >-0.456908</td>\n",
       "    </tr>\n",
       "    <tr>\n",
       "      <th id=\"T_a4690_level0_row5\" class=\"row_heading level0 row5\" >Comb (mpg)</th>\n",
       "      <td id=\"T_a4690_row5_col0\" class=\"data row5 col0\" >-0.712760</td>\n",
       "      <td id=\"T_a4690_row5_col1\" class=\"data row5 col1\" >-0.708713</td>\n",
       "      <td id=\"T_a4690_row5_col2\" class=\"data row5 col2\" >-0.925216</td>\n",
       "      <td id=\"T_a4690_row5_col3\" class=\"data row5 col3\" >-0.888011</td>\n",
       "      <td id=\"T_a4690_row5_col4\" class=\"data row5 col4\" >-0.929672</td>\n",
       "      <td id=\"T_a4690_row5_col5\" class=\"data row5 col5\" >1.000000</td>\n",
       "      <td id=\"T_a4690_row5_col6\" class=\"data row5 col6\" >-0.925642</td>\n",
       "      <td id=\"T_a4690_row5_col7\" class=\"data row5 col7\" >0.477262</td>\n",
       "    </tr>\n",
       "    <tr>\n",
       "      <th id=\"T_a4690_level0_row6\" class=\"row_heading level0 row6\" >CO2 Emissions (g/km)</th>\n",
       "      <td id=\"T_a4690_row6_col0\" class=\"data row6 col0\" >0.808221</td>\n",
       "      <td id=\"T_a4690_row6_col1\" class=\"data row6 col1\" >0.818873</td>\n",
       "      <td id=\"T_a4690_row6_col2\" class=\"data row6 col2\" >0.961866</td>\n",
       "      <td id=\"T_a4690_row6_col3\" class=\"data row6 col3\" >0.933429</td>\n",
       "      <td id=\"T_a4690_row6_col4\" class=\"data row6 col4\" >0.970086</td>\n",
       "      <td id=\"T_a4690_row6_col5\" class=\"data row6 col5\" >-0.925642</td>\n",
       "      <td id=\"T_a4690_row6_col6\" class=\"data row6 col6\" >1.000000</td>\n",
       "      <td id=\"T_a4690_row6_col7\" class=\"data row6 col7\" >-0.483682</td>\n",
       "    </tr>\n",
       "    <tr>\n",
       "      <th id=\"T_a4690_level0_row7\" class=\"row_heading level0 row7\" >Smog</th>\n",
       "      <td id=\"T_a4690_row7_col0\" class=\"data row7 col0\" >-0.387098</td>\n",
       "      <td id=\"T_a4690_row7_col1\" class=\"data row7 col1\" >-0.454243</td>\n",
       "      <td id=\"T_a4690_row7_col2\" class=\"data row7 col2\" >-0.488333</td>\n",
       "      <td id=\"T_a4690_row7_col3\" class=\"data row7 col3\" >-0.375993</td>\n",
       "      <td id=\"T_a4690_row7_col4\" class=\"data row7 col4\" >-0.456908</td>\n",
       "      <td id=\"T_a4690_row7_col5\" class=\"data row7 col5\" >0.477262</td>\n",
       "      <td id=\"T_a4690_row7_col6\" class=\"data row7 col6\" >-0.483682</td>\n",
       "      <td id=\"T_a4690_row7_col7\" class=\"data row7 col7\" >1.000000</td>\n",
       "    </tr>\n",
       "  </tbody>\n",
       "</table>\n"
      ],
      "text/plain": [
       "<pandas.io.formats.style.Styler at 0x23496fa62e0>"
      ]
     },
     "execution_count": 259,
     "metadata": {},
     "output_type": "execute_result"
    }
   ],
   "source": [
    "corr = train.iloc[4:,:].corr(method='pearson')\n",
    "\n",
    "corr.style.background_gradient(cmap='coolwarm', axis=None)\n",
    "\n",
    "\n",
    "\n"
   ]
  },
  {
   "cell_type": "code",
   "execution_count": 260,
   "metadata": {},
   "outputs": [
    {
     "name": "stdout",
     "output_type": "stream",
     "text": [
      "<class 'pandas.core.frame.DataFrame'>\n",
      "RangeIndex: 586 entries, 0 to 585\n",
      "Data columns (total 14 columns):\n",
      " #   Column                            Non-Null Count  Dtype  \n",
      "---  ------                            --------------  -----  \n",
      " 0   id                                586 non-null    object \n",
      " 1   Make                              586 non-null    object \n",
      " 2   Model                             586 non-null    object \n",
      " 3   Vehicle Class                     586 non-null    object \n",
      " 4   Engine Size (L)                   586 non-null    float64\n",
      " 5   Cylinders                         586 non-null    int64  \n",
      " 6   Transmission                      586 non-null    object \n",
      " 7   Fuel Type                         586 non-null    object \n",
      " 8   Fuel Consumption City (L/100 km)  586 non-null    float64\n",
      " 9   Hwy (L/100 km)                    586 non-null    float64\n",
      " 10  Comb (L/100 km)                   586 non-null    float64\n",
      " 11  Comb (mpg)                        586 non-null    int64  \n",
      " 12  CO2 Emissions (g/km)              586 non-null    int64  \n",
      " 13  Smog                              586 non-null    int64  \n",
      "dtypes: float64(4), int64(4), object(6)\n",
      "memory usage: 64.2+ KB\n"
     ]
    },
    {
     "data": {
      "image/png": "[encoded data removed]",
      "text/plain": [
       "<Figure size 480x480 with 1 Axes>"
      ]
     },
     "metadata": {},
     "output_type": "display_data"
    }
   ],
   "source": [
    "plt.matshow(corr)\n",
    "train.info()"
   ]
  },
  {
   "cell_type": "code",
   "execution_count": 261,
   "metadata": {},
   "outputs": [
    {
     "data": {
      "text/plain": [
       "<matplotlib.collections.PathCollection at 0x234977e8c10>"
      ]
     },
     "execution_count": 261,
     "metadata": {},
     "output_type": "execute_result"
    },
    {
     "data": {
      "image/png": "[encoded data removed]",
      "text/plain": [
       "<Figure size 640x480 with 1 Axes>"
      ]
     },
     "metadata": {},
     "output_type": "display_data"
    }
   ],
   "source": [
    "#plt.plot(train['CO2 Emissions (g/km)'],train['Comb (mpg)'])\n",
    "#ahora representame su linea de regresion\n",
    "\n",
    "plt.scatter(train['CO2 Emissions (g/km)'],train['Fuel Consumption City (L/100 km)'])\n",
    "\n",
    "#quiero el plot de todas las columnas con todas las columnas\n",
    "#como son 8 columnas, 8x8 = 64 plots\n"
   ]
  },
  {
   "cell_type": "code",
   "execution_count": 262,
   "metadata": {},
   "outputs": [],
   "source": [
    "#una correlacion alta entre variables puede afectar a la prediccion ya que puede haber una relacion lineal entre ellas y al haber\n",
    "#una relacion lineal entre ellas puede afectar a la prediccion, debido a que si hay una relacion lineal entre ellas, una de ellas\n",
    "#un valor alto seria de 0,"
   ]
  },
  {
   "cell_type": "markdown",
   "metadata": {},
   "source": [
    "Con los asserts podemos ver que no es posible saber la clase del vehículo con la marca y el modelo, por lo que las tres variables son necesarias \n",
    "(por ahora)."
   ]
  },
  {
   "cell_type": "markdown",
   "metadata": {},
   "source": [
    "#### Engine Size, Cylinders y Transmission"
   ]
  },
  {
   "cell_type": "markdown",
   "metadata": {},
   "source": [
    "Hemos agrupado estas tres variables porque creemos que pueden estar relacionadas. Por ejemplo, si el número de cilindros es 4, el tamaño del motor"
   ]
  },
  {
   "cell_type": "code",
   "execution_count": 263,
   "metadata": {},
   "outputs": [
    {
     "data": {
      "text/html": [
       "<div>\n",
       "<style scoped>\n",
       "    .dataframe tbody tr th:only-of-type {\n",
       "        vertical-align: middle;\n",
       "    }\n",
       "\n",
       "    .dataframe tbody tr th {\n",
       "        vertical-align: top;\n",
       "    }\n",
       "\n",
       "    .dataframe thead th {\n",
       "        text-align: right;\n",
       "    }\n",
       "</style>\n",
       "<table border=\"1\" class=\"dataframe\">\n",
       "  <thead>\n",
       "    <tr style=\"text-align: right;\">\n",
       "      <th></th>\n",
       "      <th>Engine Size (L)</th>\n",
       "      <th>Cylinders</th>\n",
       "      <th>Transmission</th>\n",
       "    </tr>\n",
       "  </thead>\n",
       "  <tbody>\n",
       "    <tr>\n",
       "      <th>0</th>\n",
       "      <td>2.0</td>\n",
       "      <td>4</td>\n",
       "      <td>AM7</td>\n",
       "    </tr>\n",
       "    <tr>\n",
       "      <th>1</th>\n",
       "      <td>2.0</td>\n",
       "      <td>4</td>\n",
       "      <td>AS6</td>\n",
       "    </tr>\n",
       "    <tr>\n",
       "      <th>2</th>\n",
       "      <td>2.9</td>\n",
       "      <td>6</td>\n",
       "      <td>AM8</td>\n",
       "    </tr>\n",
       "    <tr>\n",
       "      <th>3</th>\n",
       "      <td>2.0</td>\n",
       "      <td>4</td>\n",
       "      <td>AS6</td>\n",
       "    </tr>\n",
       "    <tr>\n",
       "      <th>4</th>\n",
       "      <td>5.2</td>\n",
       "      <td>12</td>\n",
       "      <td>A8</td>\n",
       "    </tr>\n",
       "  </tbody>\n",
       "</table>\n",
       "</div>"
      ],
      "text/plain": [
       "   Engine Size (L)  Cylinders Transmission\n",
       "0              2.0          4          AM7\n",
       "1              2.0          4          AS6\n",
       "2              2.9          6          AM8\n",
       "3              2.0          4          AS6\n",
       "4              5.2         12           A8"
      ]
     },
     "execution_count": 263,
     "metadata": {},
     "output_type": "execute_result"
    }
   ],
   "source": [
    "estudio_1 = train.iloc[:,4:7]\n",
    "estudio_1.head()"
   ]
  },
  {
   "cell_type": "code",
   "execution_count": 264,
   "metadata": {},
   "outputs": [
    {
     "data": {
      "text/plain": [
       "array(['AM7', 'AS6', 'AM8', 'A8', 'AS8', 'M6', 'A10', 'AS10', 'A9', 'M7',\n",
       "       'AV8', 'AS9', 'AV', 'AM6', 'AS7', 'AV10', 'AV7', 'A6', 'AM9', 'M5',\n",
       "       'AV6', 'AS5', 'AV1'], dtype=object)"
      ]
     },
     "execution_count": 264,
     "metadata": {},
     "output_type": "execute_result"
    }
   ],
   "source": [
    "estudio_1['Engine Size (L)'].unique()\n",
    "estudio_1['Cylinders'].unique()\n",
    "estudio_1['Transmission'].unique()"
   ]
  },
  {
   "cell_type": "code",
   "execution_count": 265,
   "metadata": {},
   "outputs": [],
   "source": [
    "assert (estudio_1[['Engine Size (L)','Cylinders']].value_counts()!=1).any()\n",
    "assert (estudio_1[['Engine Size (L)','Transmission']].value_counts()!=1).any()\n",
    "assert (estudio_1[['Cylinders','Transmission']].value_counts()!=1).any()"
   ]
  },
  {
   "cell_type": "code",
   "execution_count": 266,
   "metadata": {},
   "outputs": [
    {
     "data": {
      "text/html": [
       "<div>\n",
       "<style scoped>\n",
       "    .dataframe tbody tr th:only-of-type {\n",
       "        vertical-align: middle;\n",
       "    }\n",
       "\n",
       "    .dataframe tbody tr th {\n",
       "        vertical-align: top;\n",
       "    }\n",
       "\n",
       "    .dataframe thead th {\n",
       "        text-align: right;\n",
       "    }\n",
       "</style>\n",
       "<table border=\"1\" class=\"dataframe\">\n",
       "  <thead>\n",
       "    <tr style=\"text-align: right;\">\n",
       "      <th></th>\n",
       "      <th>Make</th>\n",
       "      <th>Model</th>\n",
       "      <th>Vehicle Class</th>\n",
       "      <th>Engine Size (L)</th>\n",
       "      <th>Cylinders</th>\n",
       "      <th>Transmission</th>\n",
       "    </tr>\n",
       "  </thead>\n",
       "  <tbody>\n",
       "    <tr>\n",
       "      <th>0</th>\n",
       "      <td>Mercedes-Benz</td>\n",
       "      <td>A 250 4MATIC Hatch</td>\n",
       "      <td>Station wagon: Small</td>\n",
       "      <td>2.0</td>\n",
       "      <td>4</td>\n",
       "      <td>AM7</td>\n",
       "    </tr>\n",
       "    <tr>\n",
       "      <th>1</th>\n",
       "      <td>Mazda</td>\n",
       "      <td>Mazda3 5-Door</td>\n",
       "      <td>Mid-size</td>\n",
       "      <td>2.0</td>\n",
       "      <td>4</td>\n",
       "      <td>AS6</td>\n",
       "    </tr>\n",
       "    <tr>\n",
       "      <th>2</th>\n",
       "      <td>Porsche</td>\n",
       "      <td>Panamera 4 ST</td>\n",
       "      <td>Full-size</td>\n",
       "      <td>2.9</td>\n",
       "      <td>6</td>\n",
       "      <td>AM8</td>\n",
       "    </tr>\n",
       "    <tr>\n",
       "      <th>3</th>\n",
       "      <td>Mazda</td>\n",
       "      <td>CX-3 4WD</td>\n",
       "      <td>Compact</td>\n",
       "      <td>2.0</td>\n",
       "      <td>4</td>\n",
       "      <td>AS6</td>\n",
       "    </tr>\n",
       "    <tr>\n",
       "      <th>4</th>\n",
       "      <td>Aston Martin</td>\n",
       "      <td>DBS V12</td>\n",
       "      <td>Minicompact</td>\n",
       "      <td>5.2</td>\n",
       "      <td>12</td>\n",
       "      <td>A8</td>\n",
       "    </tr>\n",
       "  </tbody>\n",
       "</table>\n",
       "</div>"
      ],
      "text/plain": [
       "            Make               Model         Vehicle Class  Engine Size (L)  \\\n",
       "0  Mercedes-Benz  A 250 4MATIC Hatch  Station wagon: Small              2.0   \n",
       "1          Mazda       Mazda3 5-Door              Mid-size              2.0   \n",
       "2        Porsche       Panamera 4 ST             Full-size              2.9   \n",
       "3          Mazda            CX-3 4WD               Compact              2.0   \n",
       "4   Aston Martin             DBS V12           Minicompact              5.2   \n",
       "\n",
       "   Cylinders Transmission  \n",
       "0          4          AM7  \n",
       "1          4          AS6  \n",
       "2          6          AM8  \n",
       "3          4          AS6  \n",
       "4         12           A8  "
      ]
     },
     "execution_count": 266,
     "metadata": {},
     "output_type": "execute_result"
    }
   ],
   "source": [
    "# quiero unir estudio y estudio_1\n",
    "estudio_2 = pd.concat([estudio,estudio_1],axis=1)\n",
    "estudio_2.head()"
   ]
  },
  {
   "cell_type": "code",
   "execution_count": 267,
   "metadata": {},
   "outputs": [],
   "source": [
    "#quiero comprobar si hay variables que pueden ser redundantes, es decir, por ejemplo con el mel y make saber engine size\n",
    "\n",
    "assert (estudio_2[['Transmission','Vehicle Class','Make','Engine Size (L)','Cylinders']].value_counts()!=1).any()"
   ]
  },
  {
   "cell_type": "code",
   "execution_count": 268,
   "metadata": {},
   "outputs": [
    {
     "data": {
      "text/plain": [
       "Model                            Vehicle Class            Make       Engine Size (L)  Transmission\n",
       "Sierra FFV                       Pickup truck: Standard   GMC        5.3              A6              2\n",
       "Sierra 4WD FFV                   Pickup truck: Standard   GMC        5.3              A6              2\n",
       "Transit Connect Wagon LWB FFV    Special purpose vehicle  Ford       2.0              AS8             2\n",
       "F-150 4X4 FFV                    Pickup truck: Standard   Ford       3.3              AS10            2\n",
       "Sierra 4WD Mud Terrain Tire FFV  Pickup truck: Standard   GMC        5.3              A6              2\n",
       "                                                                                                     ..\n",
       "Corsair AWD                      SUV: Small               Lincoln    2.0              AS8             1\n",
       "                                                                     2.3              AS8             1\n",
       "Corvette                         Two-seater               Chevrolet  6.2              AS8             1\n",
       "Crosstrek AWD                    SUV: Small               Subaru     2.5              AV8             1\n",
       "Yukon XL 4WD (No Stop-Start)     SUV: Standard            GMC        5.3              A10             1\n",
       "Length: 581, dtype: int64"
      ]
     },
     "execution_count": 268,
     "metadata": {},
     "output_type": "execute_result"
    }
   ],
   "source": [
    "estudio_2[['Model','Vehicle Class','Make','Engine Size (L)','Transmission']].value_counts()\n"
   ]
  },
  {
   "cell_type": "code",
   "execution_count": 269,
   "metadata": {},
   "outputs": [
    {
     "data": {
      "text/plain": [
       "array(['Mercedes-Benz', 'Mazda', 'Porsche', 'Aston Martin', 'Toyota',\n",
       "       'Hyundai', 'GMC', 'Ford', 'BMW', 'Audi', 'Dodge', 'FIAT',\n",
       "       'Alfa Romeo', 'Chevrolet', 'Land Rover', 'Kia', 'Infiniti',\n",
       "       'Maserati', 'Lexus', 'Lamborghini', 'Jaguar', 'Cadillac', 'Ram',\n",
       "       'Genesis', 'Jeep', 'Volvo', 'Honda', 'Lincoln', 'Acura',\n",
       "       'Chrysler', 'MINI', 'Volkswagen', 'Bentley', 'Subaru', 'Buick',\n",
       "       'Rolls-Royce', 'Nissan', 'Mitsubishi', 'Bugatti'], dtype=object)"
      ]
     },
     "execution_count": 269,
     "metadata": {},
     "output_type": "execute_result"
    }
   ],
   "source": [
    "estudio['Make'].unique()"
   ]
  },
  {
   "cell_type": "code",
   "execution_count": 270,
   "metadata": {},
   "outputs": [
    {
     "data": {
      "text/plain": [
       "array(['Station wagon: Small', 'Mid-size', 'Full-size', 'Compact',\n",
       "       'Minicompact', 'SUV: Small', 'SUV: Standard',\n",
       "       'Special purpose vehicle', 'Pickup truck: Standard', 'Subcompact',\n",
       "       'Two-seater', 'Minivan', 'Pickup truck: Small',\n",
       "       'Station wagon: Mid-size'], dtype=object)"
      ]
     },
     "execution_count": 270,
     "metadata": {},
     "output_type": "execute_result"
    }
   ],
   "source": [
    "estudio['Vehicle Class'].unique()"
   ]
  },
  {
   "cell_type": "code",
   "execution_count": 271,
   "metadata": {},
   "outputs": [
    {
     "data": {
      "text/plain": [
       "Model                                Vehicle Class         \n",
       "Sierra 4WD                           Pickup truck: Standard    4\n",
       "Camaro                               Subcompact                4\n",
       "Silverado 4WD Mud Terrain Tire       Pickup truck: Standard    4\n",
       "Sierra                               Pickup truck: Standard    3\n",
       "Corolla                              Compact                   3\n",
       "                                                              ..\n",
       "Explorer Timberline AWD              SUV: Standard             1\n",
       "Expedition Timberline 4X4            SUV: Standard             1\n",
       "Expedition 4X4 (Without Stop-Start)  SUV: Standard             1\n",
       "Escape Hybrid AWD                    SUV: Small                1\n",
       "Yukon XL 4WD (No Stop-Start)         SUV: Standard             1\n",
       "Length: 488, dtype: int64"
      ]
     },
     "execution_count": 271,
     "metadata": {},
     "output_type": "execute_result"
    }
   ],
   "source": [
    "#quiero estudiar si el modelo y vehicle class se repite en el dataset\n",
    "estudio[['Model','Vehicle Class']].value_counts()# esto"
   ]
  },
  {
   "cell_type": "code",
   "execution_count": 272,
   "metadata": {},
   "outputs": [
    {
     "data": {
      "text/html": [
       "<div>\n",
       "<style scoped>\n",
       "    .dataframe tbody tr th:only-of-type {\n",
       "        vertical-align: middle;\n",
       "    }\n",
       "\n",
       "    .dataframe tbody tr th {\n",
       "        vertical-align: top;\n",
       "    }\n",
       "\n",
       "    .dataframe thead th {\n",
       "        text-align: right;\n",
       "    }\n",
       "</style>\n",
       "<table border=\"1\" class=\"dataframe\">\n",
       "  <thead>\n",
       "    <tr style=\"text-align: right;\">\n",
       "      <th></th>\n",
       "      <th>Make</th>\n",
       "      <th>Model</th>\n",
       "      <th>Vehicle Class</th>\n",
       "    </tr>\n",
       "  </thead>\n",
       "  <tbody>\n",
       "    <tr>\n",
       "      <th>12</th>\n",
       "      <td>GMC</td>\n",
       "      <td>Sierra 4WD</td>\n",
       "      <td>Pickup truck: Standard</td>\n",
       "    </tr>\n",
       "    <tr>\n",
       "      <th>85</th>\n",
       "      <td>GMC</td>\n",
       "      <td>Sierra 4WD</td>\n",
       "      <td>Pickup truck: Standard</td>\n",
       "    </tr>\n",
       "    <tr>\n",
       "      <th>271</th>\n",
       "      <td>GMC</td>\n",
       "      <td>Sierra 4WD</td>\n",
       "      <td>Pickup truck: Standard</td>\n",
       "    </tr>\n",
       "    <tr>\n",
       "      <th>420</th>\n",
       "      <td>GMC</td>\n",
       "      <td>Sierra 4WD</td>\n",
       "      <td>Pickup truck: Standard</td>\n",
       "    </tr>\n",
       "  </tbody>\n",
       "</table>\n",
       "</div>"
      ],
      "text/plain": [
       "    Make       Model           Vehicle Class\n",
       "12   GMC  Sierra 4WD  Pickup truck: Standard\n",
       "85   GMC  Sierra 4WD  Pickup truck: Standard\n",
       "271  GMC  Sierra 4WD  Pickup truck: Standard\n",
       "420  GMC  Sierra 4WD  Pickup truck: Standard"
      ]
     },
     "execution_count": 272,
     "metadata": {},
     "output_type": "execute_result"
    }
   ],
   "source": [
    "estudio[estudio['Model']=='Sierra 4WD']"
   ]
  },
  {
   "cell_type": "code",
   "execution_count": 273,
   "metadata": {},
   "outputs": [
    {
     "data": {
      "image/png": "[encoded data removed]",
      "text/plain": [
       "<Figure size 2000x2000 with 81 Axes>"
      ]
     },
     "metadata": {},
     "output_type": "display_data"
    }
   ],
   "source": [
    "nearest_square = lambda number: np.power(np.round(np.sqrt(number)), 2)\n",
    "\n",
    "int_columns = train.select_dtypes(include=(int, float))\n",
    "sq = int(nearest_square(len(int_columns.columns)))\n",
    "\n",
    "int_columns.hist(figsize=(20, 20), layout=(sq, sq))\n",
    "\n",
    "clear_output()"
   ]
  },
  {
   "cell_type": "markdown",
   "metadata": {},
   "source": [
    "Si nos fijamos en el historial de 'Model Year', vemos que todas las entradas al dataset tienen el mismo dato en esa columna.\n",
    "\n",
    "Por tanto, concluimos que el año del modelo es irrelevante para la predicción del SMOG. En otras palabras, la ganancia de información de SMOG por MODEL YEAR es 0."
   ]
  },
  {
   "cell_type": "code",
   "execution_count": 274,
   "metadata": {},
   "outputs": [
    {
     "data": {
      "text/plain": [
       "Index(['id', 'Model Year', 'Make', 'Model', 'Vehicle Class', 'Engine Size (L)',\n",
       "       'Cylinders', 'Transmission', 'Fuel Type',\n",
       "       'Fuel Consumption City (L/100 km)', 'Hwy (L/100 km)', 'Comb (L/100 km)',\n",
       "       'Comb (mpg)', 'CO2 Emissions (g/km)'],\n",
       "      dtype='object')"
      ]
     },
     "execution_count": 274,
     "metadata": {},
     "output_type": "execute_result"
    }
   ],
   "source": [
    "test_nolabel.columns"
   ]
  },
  {
   "cell_type": "code",
   "execution_count": 275,
   "metadata": {},
   "outputs": [],
   "source": [
    "#quiero una tbala con los nombres de las columnas y los valores unicos de cada una\n",
    "columns = train.columns\n",
    "#Rango de valores de cada columna, excepto para las columnas con strings que pondremos unique e id no entra\n",
    "ranges = {column: train[column].unique() if train[column].dtype == 'O' else [train[column].min(), train[column].max()] for column in columns if column != 'id'}"
   ]
  },
  {
   "cell_type": "code",
   "execution_count": 276,
   "metadata": {},
   "outputs": [
    {
     "data": {
      "text/plain": [
       "{'Make': array(['Mercedes-Benz', 'Mazda', 'Porsche', 'Aston Martin', 'Toyota',\n",
       "        'Hyundai', 'GMC', 'Ford', 'BMW', 'Audi', 'Dodge', 'FIAT',\n",
       "        'Alfa Romeo', 'Chevrolet', 'Land Rover', 'Kia', 'Infiniti',\n",
       "        'Maserati', 'Lexus', 'Lamborghini', 'Jaguar', 'Cadillac', 'Ram',\n",
       "        'Genesis', 'Jeep', 'Volvo', 'Honda', 'Lincoln', 'Acura',\n",
       "        'Chrysler', 'MINI', 'Volkswagen', 'Bentley', 'Subaru', 'Buick',\n",
       "        'Rolls-Royce', 'Nissan', 'Mitsubishi', 'Bugatti'], dtype=object),\n",
       " 'Model': array(['A 250 4MATIC Hatch', 'Mazda3 5-Door', 'Panamera 4 ST', 'CX-3 4WD',\n",
       "        'DBS V12', 'RAV4 AWD LE', 'Elantra', 'Corolla',\n",
       "        'Yukon 4WD (No Stop-Start)', 'Transit Connect Wagon LWB FFV',\n",
       "        'M235i xDrive Gran Coupe', 'SQ8 quattro', 'Sierra 4WD',\n",
       "        'Charger AWD', 'Bronco Black Diamond 4WD', 'Ranger 4WD Tremor',\n",
       "        'Mustang Convertible (High Performance)',\n",
       "        'Yukon XL 4WD (No Stop-Start)', '500X AWD', 'Giulia Quadrifoglio',\n",
       "        'Camaro ZL1', 'Kona', 'Range Rover Velar P340',\n",
       "        'Silverado 4WD Mud Terrain Tire', 'Sorento AWD',\n",
       "        'GLS 450 4MATIC SUV', '911 Carrera S', 'QX50 AWD',\n",
       "        'New Range Rover P400 LWB', 'Range Rover Sport HST P400', 'Camaro',\n",
       "        'Quattroporte Trofeo', 'LC 500 Convertible', 'Huracan evo Spyder',\n",
       "        'Highlander AWD', 'E-PACE P250', 'Escalade 4WD (No Stop-Start)',\n",
       "        'Traverse AWD', 'NX 350 AWD F SPORT', '1500 4X4 eTorque',\n",
       "        '718 Cayman GT4', 'GV70 AWD', 'Sierra 4WD (No Stop-Start)',\n",
       "        '430i xDrive Cabriolet', 'X3 xDrive30i', '718 Boxster S',\n",
       "        'Forte 5', 'Sierra', 'M8 Coupe Competition', 'X3 M', 'Yukon',\n",
       "        'Grand Wagoneer 4X4', 'Sierra 4WD Mud Terrain Tire',\n",
       "        'M4 Competition Coupe M xDrive', 'Niro FE',\n",
       "        'M4 Competition Cabriolet M xDrive', 'F-150 Tremor 4X4', 'S60 B5',\n",
       "        'C-HR', 'Panamera 4 Executive', 'Defender 110 5.0L V8',\n",
       "        'Range Rover Sport P575 SVR', 'M440i xDrive Coupe', 'Giulia AWD',\n",
       "        'Panamera Turbo S Executive', 'R8 Spyder Performance',\n",
       "        'R8 Coupe Performance quattro', 'F-150 4X4 FFV', 'XT5 AWD',\n",
       "        '1500 EcoDiesel', 'New Range Rover P400', '911 GT3 Touring',\n",
       "        'M760i xDrive Sedan', 'Yukon XL', 'Civic Sedan', 'Terrain AWD',\n",
       "        'Corsair AWD', 'XC60 B6 AWD', 'Levante Modena', 'CX-9 4WD',\n",
       "        'Camry LE/SE', 'Sienna AWD', 'Canyon', 'RAV4 AWD TRD Off-Road',\n",
       "        'Challenger', 'F-150 Raptor 37 4X4 (Without Stop-Start)',\n",
       "        'Corolla Apex Edition', 'Stelvio AWD Quadrifoglio', 'NSX',\n",
       "        'F-PACE SVR', 'Pacifica AWD', 'Wrangler JL 4X4',\n",
       "        'Cooper S Convertible', 'John Cooper Works 3 Door',\n",
       "        '1500 HFE EcoDiesel', 'Silverado 4WD Custom Trail Boss',\n",
       "        'Camaro SS', 'Bronco Sasquatch 4WD', 'Camry XSE',\n",
       "        '718 Boxster GTS 4.0', 'TLX Type S (Performance Tire)', 'Trax',\n",
       "        'A4 Sedan 40 TFSI quattro', 'Mustang Mach 1',\n",
       "        'Silverado 4WD (No Stop-Start)', 'GLE 450 4MATIC Coupe',\n",
       "        'Corolla Cross', 'Passat', 'Defender 90 P300', 'GT',\n",
       "        'Yukon XL 4WD', 'Wrangler JL Unlimited 4X4', '911 Carrera 4 GTS',\n",
       "        'LS 500h AWD', 'M440i xDrive Cabriolet', 'Forte',\n",
       "        'Continental GT Speed', '718 Boxster', 'Bronco Badlands 4WD',\n",
       "        'Accord Sport/Touring', 'CT5', '430i xDrive Coupe',\n",
       "        'GLC 300 4MATIC Coupe', 'CR-V', 'Colorado 4WD', 'Charger (MDS)',\n",
       "        'Tahoe', 'Q50 AWD Red Sport', 'X4 xDrive30i',\n",
       "        '911 Carrera Cabriolet', 'Cherokee 4X4 Active Drive I',\n",
       "        '718 Cayman S', 'Defender 110 P300', 'X6 M', 'X3 M40i',\n",
       "        'Santa Fe AWD', 'AMG A 35 4MATIC Hatch', 'S8 Sedan quattro',\n",
       "        'Mazda3 4-Door 4WD', 'Legacy AWD', 'Transit Connect Wagon LWB',\n",
       "        'Challenger SRT Hellcat Widebody', 'RS 5 Sportback quattro',\n",
       "        'Mustang', 'Malibu', 'XC90 T6 AWD', '1500 Classic 4X4',\n",
       "        'Challenger Widebody (MDS)', 'AMG GLE 63 S 4MATIC+ SUV',\n",
       "        'Expedition Timberline 4X4', 'Maverick AWD', 'Tundra 4WD TRD',\n",
       "        'CT4-V', 'X5 M50i', 'Ascent AWD', 'S3 Sedan quattro',\n",
       "        'Mustang Convertible', 'Camry AWD XSE', 'Encore GX AWD',\n",
       "        'Palisade AWD', 'Sierra 4WD FFV', 'IS 500', 'F-150 FFV', 'DBX V8',\n",
       "        'Panamera Turbo S ST', '718 Cayman T',\n",
       "        'Sierra 4WD (With Sport Mode)',\n",
       "        'Wrangler JL Unlimited 4X4 Rubicon EcoDiesel', 'ES 350 F SPORT',\n",
       "        'Q7 45 TFSI quattro', 'Trailblazer', '911 Carrera 4S Cabriolet',\n",
       "        'CX-3 (SIL)', 'Cooper S 5 Door', 'Cayenne Turbo Coupe',\n",
       "        'Bronco Raptor 4WD', 'Range Rover P400',\n",
       "        'Aventador Ultimae Roadster', 'Impreza 5-Door AWD', 'DB11 V12',\n",
       "        'X6 M Competition', 'F-150 FFV (Without Stop-Start)', 'Pacifica',\n",
       "        '911 Carrera 4 GTS Cabriolet', 'Tundra', 'Colorado ZR2 4WD',\n",
       "        'X3 M Competition', 'Range Rover Velar P400', 'Escape Hybrid AWD',\n",
       "        'Cooper S Countryman ALL4', 'AMG GLE 63 S 4MATIC+ Coupe',\n",
       "        'E 450 4MATIC Cabriolet', 'Mazda3 5-Door (SIL)', 'GR86',\n",
       "        'Gladiator 4X4 Rubicon EcoDiesel', 'Taos', 'RS 5 Coupe quattro',\n",
       "        'Impreza 4-Door AWD', 'CT5-V', 'Ghost Black Badge', 'Blazer',\n",
       "        'DB11 V8', 'RS 7 Sportback quattro', 'Atlas 4MOTION',\n",
       "        'Compass 4X4', 'Mazda3 5-Door 4WD', 'Tucson AWD',\n",
       "        'AMG GLA 35 4MATIC SUV', 'Silverado 4WD ZR2',\n",
       "        'A5 Coupe 45 TFSI quattro', 'Qashqai',\n",
       "        'Accord Hybrid Sport/Touring', 'RAV4', 'Transit Connect Van FFV',\n",
       "        'Suburban', 'Q5 Sportback 45 TFSI quattro', 'Tundra 4WD',\n",
       "        'G90 AWD', 'Kona AWD', 'Tundra Hybrid 4WD', 'Cayenne',\n",
       "        'GLE 450 4MATIC SUV', 'Cayenne S Coupe', 'Panamera 4',\n",
       "        'F-TYPE P450 Coupe AWD', 'Venza AWD', '911 Carrera GTS',\n",
       "        'Defender 110 P400', 'Tundra Hybrid 4WD TRD PRO', 'Escalade 4WD',\n",
       "        'RAV4 (Stop/Start)', 'CT4-V Blackwing', 'Mazda3 4-Door Turbo 4WD',\n",
       "        'AMG E 53 4MATIC+ Cabriolet', 'X2 xDrive28i', 'Spark', 'MX-5',\n",
       "        'M8 Coupe', 'Yukon 4WD', 'Yukon (No Stop-Start)',\n",
       "        'Cooper Convertible', 'New Range Rover P530', 'Pathfinder 4WD',\n",
       "        'X4 M Competition', 'S5 Coupe quattro', 'GR Supra 3.0',\n",
       "        'Silverado 4WD FFV', 'CX-5 4WD (Cylinder Deactivation)',\n",
       "        '911 Targa 4S', 'Murano AWD', 'TLX Type S', 'Q5 45 TFSI quattro',\n",
       "        'Passport AWD', 'CX-3', '300 AWD',\n",
       "        'Expedition 4X4 (Without Stop-Start)', 'Cooper 3 Door',\n",
       "        'Huracan evo Coupe AWD', 'RC 350 AWD', 'AMG GLE 53 4MATIC+ SUV',\n",
       "        'CLA 250 4MATIC Coupe', 'Challenger AWD', 'IS 350 AWD', 'Escape',\n",
       "        'Sierra 4WD Mud Terrain Tire (No Stop-Start)', 'CT4-V AWD',\n",
       "        'Rogue AWD', 'Ghibli Modena AWD', '1500 Classic', 'Niro', 'Sentra',\n",
       "        'Q60 AWD', 'CT4 AWD', 'CT4', 'CLS 450 4MATIC Coupe', 'Corolla XLE',\n",
       "        'Metris Cargo Van', 'CX-5 Turbo 4WD', 'IONIQ', 'X5 M Competition',\n",
       "        'Cayenne S', 'IS 300', 'Envision', 'Sequoia 4WD', 'Silverado',\n",
       "        'IS 300 AWD', 'Bronco 4WD', 'EcoSport AWD', 'X5 M', 'Colorado',\n",
       "        'Silverado 4WD', 'Civic Hatchback', 'Trailblazer AWD', 'Terrain',\n",
       "        'Frontier 4WD', 'Tacoma 4WD D-Cab TRD Off-Road/PRO',\n",
       "        'Outlander 4WD', 'X7 xDrive40i', 'Navigator 4X4',\n",
       "        'Sierra 4WD Mud Terrain Tire FFV', '911 Carrera GTS Cabriolet',\n",
       "        'RVR 4WD', 'Silverado 4WD Mud Terrain Tire (No DFM)',\n",
       "        'Ghibli Trofeo', 'Outback AWD', 'Cooper S 3 Door', '718 Cayman',\n",
       "        '4Runner 4WD', 'RC F', 'Canyon 4WD', 'Cherokee', '911 Carrera 4',\n",
       "        'F-PACE P250', 'X2 M35i', 'AMG GLC 43 4MATIC SUV', 'Suburban 4WD',\n",
       "        'Panamera 4S ST', 'GX 460', 'Mazda3 5-Door Turbo 4WD', 'G80 AWD',\n",
       "        'Jetta GLI', 'Suburban 4WD (No Stop-Start)', 'Rogue',\n",
       "        'AMG A 35 4MATIC Sedan', 'F-150', 'Quattroporte Modena',\n",
       "        'Sierra 4WD Mud Terrain Tire (No DFM)', 'Prius AWD',\n",
       "        'E 450 4MATIC All-Terrain Wagon', 'Ranger 4WD', 'Challenger (MDS)',\n",
       "        'John Cooper Works Clubman ALL4', 'RX 450h AWD',\n",
       "        'Silverado 4WD Mud Terrain Tire (No Stop-Start)', 'RAV4 AWD',\n",
       "        'Mustang (High Performance)', 'F-TYPE R Coupe AWD',\n",
       "        'Ghibli Modena', 'Tiguan R-Line 4MOTION', 'Camry Hybrid LE',\n",
       "        'Crosstrek AWD', 'NX 350 AWD', 'Cayenne GTS', 'Levante Trofeo',\n",
       "        '911 Turbo', 'Seltos AWD', 'RAV4 Hybrid AWD',\n",
       "        'Defender 90 5.0L V8', 'M3 Sedan', 'Tahoe 4WD',\n",
       "        'AMG GT 53 4MATIC+ Coupe', 'CT5-V Blackwing',\n",
       "        'Grand Cherokee WK 4X4', 'Q5 40 TFSI quattro', 'XT6 AWD',\n",
       "        'CX-30 4WD', 'Cayenne Turbo', '911 Turbo Cabriolet',\n",
       "        'GR Supra 2.0', 'Cooper Countryman ALL4',\n",
       "        'M440i xDrive Gran Coupe', 'Sportage AWD', 'Urus',\n",
       "        'AMG GLB 35 4MATIC SUV', 'Elantra N', 'Rio', 'Tacoma 4WD',\n",
       "        'Sierra FFV', '718 Cayman GTS 4.0', '911 Turbo S', 'RDX SH-AWD',\n",
       "        'Levante GT', 'Ghost EWB', 'LC 500', 'Cooper S Clubman ALL4',\n",
       "        'S 500 4MATIC SWB Sedan', 'AMG E 53 4MATIC+ Sedan', 'M5 CS',\n",
       "        '911 Carrera S Cabriolet', 'Huracan evo Spyder AWD',\n",
       "        'Sierra 4WD (No DFM)', 'F-TYPE P450 Coupe', 'RS 6 Avant quattro',\n",
       "        'A8 L Sedan 55 TFSI quattro', '718 Boxster T', 'Chiron Pur Sport',\n",
       "        'A5 Sportback 45 TFSI quattro', '1500', 'Suburban (No Stop-Start)',\n",
       "        'Q60 AWD Red Sport', 'Sentra SR', 'GV80 AWD', 'A 220 4MATIC Sedan',\n",
       "        'Range Rover SVAutobiography', 'F-PACE P400', 'Encore',\n",
       "        'TT Coupe 45 TFSI quattro', 'Santa Cruz AWD', 'Quattroporte GT',\n",
       "        'X6 M50i', 'Golf GTI', 'Grand Cherokee 4X4', 'Cayenne Turbo GT',\n",
       "        'TTS Coupe quattro', 'Stelvio AWD', 'CT5 AWD',\n",
       "        'Q8 55 TFSI quattro', 'QX60 AWD', 'Acadia', 'S5 Cabriolet quattro',\n",
       "        'F-150 Tremor 4X4 (Without Stop-Start)', 'Mirage',\n",
       "        'GLS 600 4MATIC Maybach SUV', 'Metris Passenger Van', 'Edge AWD',\n",
       "        'C 300 4MATIC Cabriolet', '300', 'S 580 4MATIC LWB Sedan',\n",
       "        'Ridgeline AWD', 'XC60 B5 AWD', '1500 4X4', 'Charger', 'Seltos',\n",
       "        'Cooper 5 Door', 'C 300 4MATIC Coupe', 'Sonata', '911 Targa 4',\n",
       "        'M8 Gran Coupe', 'Stinger AWD', 'MDX SH-AWD', 'Corolla Hatchback',\n",
       "        'Soul', 'Alpina B7', 'Silverado 4WD (With Sport Mode)',\n",
       "        'Q3 45 TFSI quattro', 'Versa', 'Yukon XL (No Stop-Start)',\n",
       "        'Pilot AWD TrailSport', 'M4 Competition Coupe', 'F-150 Hybrid 4X4',\n",
       "        '4Runner 4WD (Part-Time 4WD) ', 'Tahoe 4WD (No Stop-Start)',\n",
       "        'Stelvio', 'Range Rover Velar P250', 'Charger Widebody (MDS)',\n",
       "        'XT5', 'Macan S', 'V60 CC T5 AWD', 'MC20', '911 GT3', 'Venue',\n",
       "        'Jetta', 'F-TYPE R Convertible AWD', 'Cayenne Coupe',\n",
       "        'Telluride AWD', 'Phantom', 'Sportage', 'AMG G 63 SUV',\n",
       "        'AMG SL 63 4MATIC+ Roadster', 'AMG CLA 45 4MATIC Coupe',\n",
       "        'SQ5 quattro', 'Santa Fe Hybrid', 'Sorento Hybrid AWD',\n",
       "        '1500 eTorque', 'Eclipse Cross 4WD', 'A3 Sedan 40 TFSI quattro',\n",
       "        'Durango AWD', 'Corvette', '911 Carrera 4S', 'QX55 AWD',\n",
       "        'Rogue AWD SL/Platinum', 'Explorer Timberline AWD',\n",
       "        'Mazda3 4-Door', 'X7 M50i', 'Cullinan Black Badge',\n",
       "        'M550i xDrive Sedan', 'M3 Competition Sedan M xDrive',\n",
       "        'Elantra (ISG)', 'F-150 4X4 FFV (Without Stop-Start)',\n",
       "        'Silverado 4WD (No DFM)', 'X5 xDrive40i', 'LC 500h', 'Vantage V8',\n",
       "        'C 300 4MATIC Sedan', 'Flying Spur', 'M8 Gran Coupe Competition',\n",
       "        '1500 4X4 EcoDiesel', 'M8 Cabriolet Competition'], dtype=object),\n",
       " 'Vehicle Class': array(['Station wagon: Small', 'Mid-size', 'Full-size', 'Compact',\n",
       "        'Minicompact', 'SUV: Small', 'SUV: Standard',\n",
       "        'Special purpose vehicle', 'Pickup truck: Standard', 'Subcompact',\n",
       "        'Two-seater', 'Minivan', 'Pickup truck: Small',\n",
       "        'Station wagon: Mid-size'], dtype=object),\n",
       " 'Engine Size (L)': [1.2, 8.0],\n",
       " 'Cylinders': [3, 16],\n",
       " 'Transmission': array(['AM7', 'AS6', 'AM8', 'A8', 'AS8', 'M6', 'A10', 'AS10', 'A9', 'M7',\n",
       "        'AV8', 'AS9', 'AV', 'AM6', 'AS7', 'AV10', 'AV7', 'A6', 'AM9', 'M5',\n",
       "        'AV6', 'AS5', 'AV1'], dtype=object),\n",
       " 'Fuel Type': array(['Z', 'X', 'E', 'D'], dtype=object),\n",
       " 'Fuel Consumption City (L/100 km)': [4.3, 30.3],\n",
       " 'Hwy (L/100 km)': [4.1, 20.9],\n",
       " 'Comb (L/100 km)': [4.2, 26.1],\n",
       " 'Comb (mpg)': [11, 67],\n",
       " 'CO2 Emissions (g/km)': [99, 608],\n",
       " 'Smog': [0, 4]}"
      ]
     },
     "execution_count": 276,
     "metadata": {},
     "output_type": "execute_result"
    }
   ],
   "source": [
    "ranges"
   ]
  },
  {
   "cell_type": "markdown",
   "metadata": {},
   "source": [
    "| Variables | Rango de valores | Definición |\n",
    "| --- | --- | --- |\n",
    "| {} | 1-10000 | Identificador de la muestra |\n",
    "| ```\n",
    "columns[1]``` | 2014 | Año del modelo |\n",
    "quiero añadir [columns[1]] en la tabla de arriba para que se vea el nombre de la columna para ello "
   ]
  },
  {
   "cell_type": "code",
   "execution_count": 277,
   "metadata": {},
   "outputs": [
    {
     "data": {
      "text/html": [
       "<div>\n",
       "<style scoped>\n",
       "    .dataframe tbody tr th:only-of-type {\n",
       "        vertical-align: middle;\n",
       "    }\n",
       "\n",
       "    .dataframe tbody tr th {\n",
       "        vertical-align: top;\n",
       "    }\n",
       "\n",
       "    .dataframe thead th {\n",
       "        text-align: right;\n",
       "    }\n",
       "</style>\n",
       "<table border=\"1\" class=\"dataframe\">\n",
       "  <thead>\n",
       "    <tr style=\"text-align: right;\">\n",
       "      <th></th>\n",
       "      <th>id</th>\n",
       "      <th>Make</th>\n",
       "      <th>Model</th>\n",
       "      <th>Vehicle Class</th>\n",
       "      <th>Engine Size (L)</th>\n",
       "      <th>Cylinders</th>\n",
       "      <th>Transmission</th>\n",
       "      <th>Fuel Type</th>\n",
       "      <th>Fuel Consumption City (L/100 km)</th>\n",
       "      <th>Hwy (L/100 km)</th>\n",
       "      <th>Comb (L/100 km)</th>\n",
       "      <th>Comb (mpg)</th>\n",
       "      <th>CO2 Emissions (g/km)</th>\n",
       "      <th>Smog</th>\n",
       "    </tr>\n",
       "  </thead>\n",
       "  <tbody>\n",
       "    <tr>\n",
       "      <th>0</th>\n",
       "      <td>ab44e9bec15</td>\n",
       "      <td>Mercedes-Benz</td>\n",
       "      <td>A 250 4MATIC Hatch</td>\n",
       "      <td>Station wagon: Small</td>\n",
       "      <td>2.0</td>\n",
       "      <td>4</td>\n",
       "      <td>AM7</td>\n",
       "      <td>Z</td>\n",
       "      <td>10.0</td>\n",
       "      <td>7.0</td>\n",
       "      <td>8.7</td>\n",
       "      <td>32</td>\n",
       "      <td>202</td>\n",
       "      <td>2</td>\n",
       "    </tr>\n",
       "    <tr>\n",
       "      <th>1</th>\n",
       "      <td>45926762371</td>\n",
       "      <td>Mazda</td>\n",
       "      <td>Mazda3 5-Door</td>\n",
       "      <td>Mid-size</td>\n",
       "      <td>2.0</td>\n",
       "      <td>4</td>\n",
       "      <td>AS6</td>\n",
       "      <td>X</td>\n",
       "      <td>8.6</td>\n",
       "      <td>6.7</td>\n",
       "      <td>7.7</td>\n",
       "      <td>37</td>\n",
       "      <td>181</td>\n",
       "      <td>4</td>\n",
       "    </tr>\n",
       "    <tr>\n",
       "      <th>2</th>\n",
       "      <td>e9be56e153f</td>\n",
       "      <td>Porsche</td>\n",
       "      <td>Panamera 4 ST</td>\n",
       "      <td>Full-size</td>\n",
       "      <td>2.9</td>\n",
       "      <td>6</td>\n",
       "      <td>AM8</td>\n",
       "      <td>Z</td>\n",
       "      <td>12.8</td>\n",
       "      <td>10.2</td>\n",
       "      <td>11.7</td>\n",
       "      <td>24</td>\n",
       "      <td>274</td>\n",
       "      <td>2</td>\n",
       "    </tr>\n",
       "    <tr>\n",
       "      <th>3</th>\n",
       "      <td>077092760df</td>\n",
       "      <td>Mazda</td>\n",
       "      <td>CX-3 4WD</td>\n",
       "      <td>Compact</td>\n",
       "      <td>2.0</td>\n",
       "      <td>4</td>\n",
       "      <td>AS6</td>\n",
       "      <td>X</td>\n",
       "      <td>8.6</td>\n",
       "      <td>7.4</td>\n",
       "      <td>8.1</td>\n",
       "      <td>35</td>\n",
       "      <td>189</td>\n",
       "      <td>1</td>\n",
       "    </tr>\n",
       "    <tr>\n",
       "      <th>4</th>\n",
       "      <td>c1c2579b795</td>\n",
       "      <td>Aston Martin</td>\n",
       "      <td>DBS V12</td>\n",
       "      <td>Minicompact</td>\n",
       "      <td>5.2</td>\n",
       "      <td>12</td>\n",
       "      <td>A8</td>\n",
       "      <td>Z</td>\n",
       "      <td>16.4</td>\n",
       "      <td>10.7</td>\n",
       "      <td>13.8</td>\n",
       "      <td>20</td>\n",
       "      <td>324</td>\n",
       "      <td>1</td>\n",
       "    </tr>\n",
       "    <tr>\n",
       "      <th>...</th>\n",
       "      <td>...</td>\n",
       "      <td>...</td>\n",
       "      <td>...</td>\n",
       "      <td>...</td>\n",
       "      <td>...</td>\n",
       "      <td>...</td>\n",
       "      <td>...</td>\n",
       "      <td>...</td>\n",
       "      <td>...</td>\n",
       "      <td>...</td>\n",
       "      <td>...</td>\n",
       "      <td>...</td>\n",
       "      <td>...</td>\n",
       "      <td>...</td>\n",
       "    </tr>\n",
       "    <tr>\n",
       "      <th>581</th>\n",
       "      <td>4a15a420076</td>\n",
       "      <td>BMW</td>\n",
       "      <td>M8 Gran Coupe Competition</td>\n",
       "      <td>Mid-size</td>\n",
       "      <td>4.4</td>\n",
       "      <td>8</td>\n",
       "      <td>AS8</td>\n",
       "      <td>Z</td>\n",
       "      <td>16.1</td>\n",
       "      <td>11.0</td>\n",
       "      <td>13.8</td>\n",
       "      <td>20</td>\n",
       "      <td>322</td>\n",
       "      <td>1</td>\n",
       "    </tr>\n",
       "    <tr>\n",
       "      <th>582</th>\n",
       "      <td>1ff291b6f89</td>\n",
       "      <td>Dodge</td>\n",
       "      <td>Charger (MDS)</td>\n",
       "      <td>Full-size</td>\n",
       "      <td>5.7</td>\n",
       "      <td>8</td>\n",
       "      <td>A8</td>\n",
       "      <td>X</td>\n",
       "      <td>14.7</td>\n",
       "      <td>9.4</td>\n",
       "      <td>12.3</td>\n",
       "      <td>23</td>\n",
       "      <td>289</td>\n",
       "      <td>1</td>\n",
       "    </tr>\n",
       "    <tr>\n",
       "      <th>583</th>\n",
       "      <td>ff3fb82f77b</td>\n",
       "      <td>Ram</td>\n",
       "      <td>1500 4X4 EcoDiesel</td>\n",
       "      <td>Pickup truck: Standard</td>\n",
       "      <td>3.0</td>\n",
       "      <td>6</td>\n",
       "      <td>A8</td>\n",
       "      <td>D</td>\n",
       "      <td>11.1</td>\n",
       "      <td>8.0</td>\n",
       "      <td>9.7</td>\n",
       "      <td>29</td>\n",
       "      <td>260</td>\n",
       "      <td>0</td>\n",
       "    </tr>\n",
       "    <tr>\n",
       "      <th>584</th>\n",
       "      <td>cf742d4b653</td>\n",
       "      <td>Honda</td>\n",
       "      <td>Accord Sport/Touring</td>\n",
       "      <td>Full-size</td>\n",
       "      <td>2.0</td>\n",
       "      <td>4</td>\n",
       "      <td>AS10</td>\n",
       "      <td>X</td>\n",
       "      <td>10.4</td>\n",
       "      <td>7.4</td>\n",
       "      <td>9.1</td>\n",
       "      <td>31</td>\n",
       "      <td>211</td>\n",
       "      <td>4</td>\n",
       "    </tr>\n",
       "    <tr>\n",
       "      <th>585</th>\n",
       "      <td>311d4b28c25</td>\n",
       "      <td>BMW</td>\n",
       "      <td>M8 Cabriolet Competition</td>\n",
       "      <td>Subcompact</td>\n",
       "      <td>4.4</td>\n",
       "      <td>8</td>\n",
       "      <td>AS8</td>\n",
       "      <td>Z</td>\n",
       "      <td>16.1</td>\n",
       "      <td>11.0</td>\n",
       "      <td>13.8</td>\n",
       "      <td>20</td>\n",
       "      <td>322</td>\n",
       "      <td>1</td>\n",
       "    </tr>\n",
       "  </tbody>\n",
       "</table>\n",
       "<p>586 rows × 14 columns</p>\n",
       "</div>"
      ],
      "text/plain": [
       "              id           Make                      Model  \\\n",
       "0    ab44e9bec15  Mercedes-Benz         A 250 4MATIC Hatch   \n",
       "1    45926762371          Mazda              Mazda3 5-Door   \n",
       "2    e9be56e153f        Porsche              Panamera 4 ST   \n",
       "3    077092760df          Mazda                   CX-3 4WD   \n",
       "4    c1c2579b795   Aston Martin                    DBS V12   \n",
       "..           ...            ...                        ...   \n",
       "581  4a15a420076            BMW  M8 Gran Coupe Competition   \n",
       "582  1ff291b6f89          Dodge              Charger (MDS)   \n",
       "583  ff3fb82f77b            Ram         1500 4X4 EcoDiesel   \n",
       "584  cf742d4b653          Honda       Accord Sport/Touring   \n",
       "585  311d4b28c25            BMW   M8 Cabriolet Competition   \n",
       "\n",
       "              Vehicle Class  Engine Size (L)  Cylinders Transmission  \\\n",
       "0      Station wagon: Small              2.0          4          AM7   \n",
       "1                  Mid-size              2.0          4          AS6   \n",
       "2                 Full-size              2.9          6          AM8   \n",
       "3                   Compact              2.0          4          AS6   \n",
       "4               Minicompact              5.2         12           A8   \n",
       "..                      ...              ...        ...          ...   \n",
       "581                Mid-size              4.4          8          AS8   \n",
       "582               Full-size              5.7          8           A8   \n",
       "583  Pickup truck: Standard              3.0          6           A8   \n",
       "584               Full-size              2.0          4         AS10   \n",
       "585              Subcompact              4.4          8          AS8   \n",
       "\n",
       "    Fuel Type  Fuel Consumption City (L/100 km)  Hwy (L/100 km)  \\\n",
       "0           Z                              10.0             7.0   \n",
       "1           X                               8.6             6.7   \n",
       "2           Z                              12.8            10.2   \n",
       "3           X                               8.6             7.4   \n",
       "4           Z                              16.4            10.7   \n",
       "..        ...                               ...             ...   \n",
       "581         Z                              16.1            11.0   \n",
       "582         X                              14.7             9.4   \n",
       "583         D                              11.1             8.0   \n",
       "584         X                              10.4             7.4   \n",
       "585         Z                              16.1            11.0   \n",
       "\n",
       "     Comb (L/100 km)  Comb (mpg)  CO2 Emissions (g/km)  Smog  \n",
       "0                8.7          32                   202     2  \n",
       "1                7.7          37                   181     4  \n",
       "2               11.7          24                   274     2  \n",
       "3                8.1          35                   189     1  \n",
       "4               13.8          20                   324     1  \n",
       "..               ...         ...                   ...   ...  \n",
       "581             13.8          20                   322     1  \n",
       "582             12.3          23                   289     1  \n",
       "583              9.7          29                   260     0  \n",
       "584              9.1          31                   211     4  \n",
       "585             13.8          20                   322     1  \n",
       "\n",
       "[586 rows x 14 columns]"
      ]
     },
     "execution_count": 277,
     "metadata": {},
     "output_type": "execute_result"
    }
   ],
   "source": [
    "train"
   ]
  },
  {
   "cell_type": "code",
   "execution_count": 278,
   "metadata": {},
   "outputs": [],
   "source": [
    "#CROSS VALIDATION\n",
    "from sklearn.model_selection import train_test_split\n",
    "#separo el dataset en train y te\n",
    "\n",
    "#quiero que las columnas con string , dummiarlas\n",
    "\n",
    "train = pd.get_dummies(train,columns=['Make','Model','Vehicle Class','Transmission','Fuel Type'],drop_first=True)\n",
    "\n",
    "\n",
    "\n",
    "X = train.drop(['Smog','id'],axis=1)#elimi\n",
    "y = train['Smog']\n",
    "\n",
    "X_train, X_test, y_train, y_test = train_test_split(X, y, test_size=0.2, random_state=42)#separo el dataset en train y test\n",
    "\n",
    "#ahora quiero separar el train en train y validation\n",
    "\n",
    "X_train, X_val, y_train, y_val = train_test_split(X_train, y_train, test_size=0.2, random_state=42)#separo el dataset en train y test\n",
    "\n",
    "#mi modelo es un random forest\n",
    "from sklearn.ensemble import RandomForestRegressor\n",
    "\n",
    "model = RandomForestRegressor(n_estimators=40, random_state=5)#he em\n",
    "\n",
    "model.fit(X_train,y_train)\n",
    "\n",
    "y_pred = model.predict(X_test)\n",
    "\n"
   ]
  },
  {
   "cell_type": "code",
   "execution_count": 279,
   "metadata": {},
   "outputs": [
    {
     "data": {
      "text/plain": [
       "0.5783017957652105"
      ]
     },
     "execution_count": 279,
     "metadata": {},
     "output_type": "execute_result"
    }
   ],
   "source": [
    "#quiero que haya redondeo en los valores de y_pred\n",
    "y_pred = np.round(y_pred)\n",
    "#f1 score \n",
    "from sklearn.metrics import f1_score\n",
    "f1_score(y_test,y_pred,average='macro')"
   ]
  },
  {
   "cell_type": "code",
   "execution_count": 280,
   "metadata": {},
   "outputs": [
    {
     "data": {
      "text/plain": [
       "array([[ 1,  2,  0,  0,  0],\n",
       "       [ 0, 16,  6,  1,  3],\n",
       "       [ 0,  6, 29,  7,  1],\n",
       "       [ 0,  0, 10, 12,  1],\n",
       "       [ 0,  0,  3,  7, 13]], dtype=int64)"
      ]
     },
     "execution_count": 280,
     "metadata": {},
     "output_type": "execute_result"
    }
   ],
   "source": [
    "#quiero ver la matriz de confusion\n",
    "from sklearn.metrics import confusion_matrix\n",
    "confusion_matrix(y_test,y_pred)"
   ]
  },
  {
   "cell_type": "code",
   "execution_count": 281,
   "metadata": {},
   "outputs": [],
   "source": [
    "from sklearn.model_selection import cross_val_predict\n",
    "\n",
    "predicciones = cross_val_predict(model,X,y,cv=10)\n",
    "#cross validation es un metodo que se usa para evaluar la eficacia de un modelo, consiste en dividir el dataset en k partes en nuestro caso 5"
   ]
  },
  {
   "cell_type": "code",
   "execution_count": 282,
   "metadata": {},
   "outputs": [],
   "source": [
    "predicciones = np.round(predicciones)"
   ]
  },
  {
   "cell_type": "code",
   "execution_count": 283,
   "metadata": {},
   "outputs": [
    {
     "data": {
      "text/plain": [
       "0.6727457971577899"
      ]
     },
     "execution_count": 283,
     "metadata": {},
     "output_type": "execute_result"
    }
   ],
   "source": [
    "#estudio de las predicciones\n",
    "\n",
    "#f1 score\n",
    "f1_score(y,predicciones,average='macro')"
   ]
  },
  {
   "cell_type": "code",
   "execution_count": 284,
   "metadata": {},
   "outputs": [
    {
     "data": {
      "text/plain": [
       "array([[ 20,  12,   1,   0,   0],\n",
       "       [  1,  72,  40,   6,   6],\n",
       "       [  0,  10, 147,  31,   9],\n",
       "       [  0,   0,  28,  76,   8],\n",
       "       [  0,   0,  11,  34,  74]], dtype=int64)"
      ]
     },
     "execution_count": 284,
     "metadata": {},
     "output_type": "execute_result"
    }
   ],
   "source": [
    "#quiero ver la matriz de confusion\n",
    "confusion_matrix(y,predicciones)"
   ]
  },
  {
   "cell_type": "code",
   "execution_count": 285,
   "metadata": {},
   "outputs": [
    {
     "ename": "KeyboardInterrupt",
     "evalue": "",
     "output_type": "error",
     "traceback": [
      "\u001b[1;31m---------------------------------------------------------------------------\u001b[0m",
      "\u001b[1;31mKeyboardInterrupt\u001b[0m                         Traceback (most recent call last)",
      "\u001b[1;32mc:\\Users\\andre\\OneDrive\\Documentos\\GitHub\\APAU_SMOG_PREDICTION_3RDGROUP\\codigo\\codigo_andy.ipynb Cell 63\u001b[0m line \u001b[0;36m2\n\u001b[0;32m     <a href='vscode-notebook-cell:/c%3A/Users/andre/OneDrive/Documentos/GitHub/APAU_SMOG_PREDICTION_3RDGROUP/codigo/codigo_andy.ipynb#Y122sZmlsZQ%3D%3D?line=22'>23</a>\u001b[0m grid_search \u001b[39m=\u001b[39m GridSearchCV(estimator \u001b[39m=\u001b[39m model, param_grid \u001b[39m=\u001b[39m param_grid)\n\u001b[0;32m     <a href='vscode-notebook-cell:/c%3A/Users/andre/OneDrive/Documentos/GitHub/APAU_SMOG_PREDICTION_3RDGROUP/codigo/codigo_andy.ipynb#Y122sZmlsZQ%3D%3D?line=25'>26</a>\u001b[0m \u001b[39m#\u001b[39;00m\n\u001b[1;32m---> <a href='vscode-notebook-cell:/c%3A/Users/andre/OneDrive/Documentos/GitHub/APAU_SMOG_PREDICTION_3RDGROUP/codigo/codigo_andy.ipynb#Y122sZmlsZQ%3D%3D?line=26'>27</a>\u001b[0m grid_search\u001b[39m.\u001b[39;49mfit(X_train, y_train)\n",
      "File \u001b[1;32mc:\\Users\\andre\\AppData\\Local\\Programs\\Python\\Python39\\lib\\site-packages\\sklearn\\base.py:1151\u001b[0m, in \u001b[0;36m_fit_context.<locals>.decorator.<locals>.wrapper\u001b[1;34m(estimator, *args, **kwargs)\u001b[0m\n\u001b[0;32m   1144\u001b[0m     estimator\u001b[39m.\u001b[39m_validate_params()\n\u001b[0;32m   1146\u001b[0m \u001b[39mwith\u001b[39;00m config_context(\n\u001b[0;32m   1147\u001b[0m     skip_parameter_validation\u001b[39m=\u001b[39m(\n\u001b[0;32m   1148\u001b[0m         prefer_skip_nested_validation \u001b[39mor\u001b[39;00m global_skip_validation\n\u001b[0;32m   1149\u001b[0m     )\n\u001b[0;32m   1150\u001b[0m ):\n\u001b[1;32m-> 1151\u001b[0m     \u001b[39mreturn\u001b[39;00m fit_method(estimator, \u001b[39m*\u001b[39margs, \u001b[39m*\u001b[39m\u001b[39m*\u001b[39mkwargs)\n",
      "File \u001b[1;32mc:\\Users\\andre\\AppData\\Local\\Programs\\Python\\Python39\\lib\\site-packages\\sklearn\\model_selection\\_search.py:898\u001b[0m, in \u001b[0;36mBaseSearchCV.fit\u001b[1;34m(self, X, y, groups, **fit_params)\u001b[0m\n\u001b[0;32m    892\u001b[0m     results \u001b[39m=\u001b[39m \u001b[39mself\u001b[39m\u001b[39m.\u001b[39m_format_results(\n\u001b[0;32m    893\u001b[0m         all_candidate_params, n_splits, all_out, all_more_results\n\u001b[0;32m    894\u001b[0m     )\n\u001b[0;32m    896\u001b[0m     \u001b[39mreturn\u001b[39;00m results\n\u001b[1;32m--> 898\u001b[0m \u001b[39mself\u001b[39;49m\u001b[39m.\u001b[39;49m_run_search(evaluate_candidates)\n\u001b[0;32m    900\u001b[0m \u001b[39m# multimetric is determined here because in the case of a callable\u001b[39;00m\n\u001b[0;32m    901\u001b[0m \u001b[39m# self.scoring the return type is only known after calling\u001b[39;00m\n\u001b[0;32m    902\u001b[0m first_test_score \u001b[39m=\u001b[39m all_out[\u001b[39m0\u001b[39m][\u001b[39m\"\u001b[39m\u001b[39mtest_scores\u001b[39m\u001b[39m\"\u001b[39m]\n",
      "File \u001b[1;32mc:\\Users\\andre\\AppData\\Local\\Programs\\Python\\Python39\\lib\\site-packages\\sklearn\\model_selection\\_search.py:1419\u001b[0m, in \u001b[0;36mGridSearchCV._run_search\u001b[1;34m(self, evaluate_candidates)\u001b[0m\n\u001b[0;32m   1417\u001b[0m \u001b[39mdef\u001b[39;00m \u001b[39m_run_search\u001b[39m(\u001b[39mself\u001b[39m, evaluate_candidates):\n\u001b[0;32m   1418\u001b[0m \u001b[39m    \u001b[39m\u001b[39m\"\"\"Search all candidates in param_grid\"\"\"\u001b[39;00m\n\u001b[1;32m-> 1419\u001b[0m     evaluate_candidates(ParameterGrid(\u001b[39mself\u001b[39;49m\u001b[39m.\u001b[39;49mparam_grid))\n",
      "File \u001b[1;32mc:\\Users\\andre\\AppData\\Local\\Programs\\Python\\Python39\\lib\\site-packages\\sklearn\\model_selection\\_search.py:845\u001b[0m, in \u001b[0;36mBaseSearchCV.fit.<locals>.evaluate_candidates\u001b[1;34m(candidate_params, cv, more_results)\u001b[0m\n\u001b[0;32m    837\u001b[0m \u001b[39mif\u001b[39;00m \u001b[39mself\u001b[39m\u001b[39m.\u001b[39mverbose \u001b[39m>\u001b[39m \u001b[39m0\u001b[39m:\n\u001b[0;32m    838\u001b[0m     \u001b[39mprint\u001b[39m(\n\u001b[0;32m    839\u001b[0m         \u001b[39m\"\u001b[39m\u001b[39mFitting \u001b[39m\u001b[39m{0}\u001b[39;00m\u001b[39m folds for each of \u001b[39m\u001b[39m{1}\u001b[39;00m\u001b[39m candidates,\u001b[39m\u001b[39m\"\u001b[39m\n\u001b[0;32m    840\u001b[0m         \u001b[39m\"\u001b[39m\u001b[39m totalling \u001b[39m\u001b[39m{2}\u001b[39;00m\u001b[39m fits\u001b[39m\u001b[39m\"\u001b[39m\u001b[39m.\u001b[39mformat(\n\u001b[0;32m    841\u001b[0m             n_splits, n_candidates, n_candidates \u001b[39m*\u001b[39m n_splits\n\u001b[0;32m    842\u001b[0m         )\n\u001b[0;32m    843\u001b[0m     )\n\u001b[1;32m--> 845\u001b[0m out \u001b[39m=\u001b[39m parallel(\n\u001b[0;32m    846\u001b[0m     delayed(_fit_and_score)(\n\u001b[0;32m    847\u001b[0m         clone(base_estimator),\n\u001b[0;32m    848\u001b[0m         X,\n\u001b[0;32m    849\u001b[0m         y,\n\u001b[0;32m    850\u001b[0m         train\u001b[39m=\u001b[39;49mtrain,\n\u001b[0;32m    851\u001b[0m         test\u001b[39m=\u001b[39;49mtest,\n\u001b[0;32m    852\u001b[0m         parameters\u001b[39m=\u001b[39;49mparameters,\n\u001b[0;32m    853\u001b[0m         split_progress\u001b[39m=\u001b[39;49m(split_idx, n_splits),\n\u001b[0;32m    854\u001b[0m         candidate_progress\u001b[39m=\u001b[39;49m(cand_idx, n_candidates),\n\u001b[0;32m    855\u001b[0m         \u001b[39m*\u001b[39;49m\u001b[39m*\u001b[39;49mfit_and_score_kwargs,\n\u001b[0;32m    856\u001b[0m     )\n\u001b[0;32m    857\u001b[0m     \u001b[39mfor\u001b[39;49;00m (cand_idx, parameters), (split_idx, (train, test)) \u001b[39min\u001b[39;49;00m product(\n\u001b[0;32m    858\u001b[0m         \u001b[39menumerate\u001b[39;49m(candidate_params), \u001b[39menumerate\u001b[39;49m(cv\u001b[39m.\u001b[39;49msplit(X, y, groups))\n\u001b[0;32m    859\u001b[0m     )\n\u001b[0;32m    860\u001b[0m )\n\u001b[0;32m    862\u001b[0m \u001b[39mif\u001b[39;00m \u001b[39mlen\u001b[39m(out) \u001b[39m<\u001b[39m \u001b[39m1\u001b[39m:\n\u001b[0;32m    863\u001b[0m     \u001b[39mraise\u001b[39;00m \u001b[39mValueError\u001b[39;00m(\n\u001b[0;32m    864\u001b[0m         \u001b[39m\"\u001b[39m\u001b[39mNo fits were performed. \u001b[39m\u001b[39m\"\u001b[39m\n\u001b[0;32m    865\u001b[0m         \u001b[39m\"\u001b[39m\u001b[39mWas the CV iterator empty? \u001b[39m\u001b[39m\"\u001b[39m\n\u001b[0;32m    866\u001b[0m         \u001b[39m\"\u001b[39m\u001b[39mWere there no candidates?\u001b[39m\u001b[39m\"\u001b[39m\n\u001b[0;32m    867\u001b[0m     )\n",
      "File \u001b[1;32mc:\\Users\\andre\\AppData\\Local\\Programs\\Python\\Python39\\lib\\site-packages\\sklearn\\utils\\parallel.py:65\u001b[0m, in \u001b[0;36mParallel.__call__\u001b[1;34m(self, iterable)\u001b[0m\n\u001b[0;32m     60\u001b[0m config \u001b[39m=\u001b[39m get_config()\n\u001b[0;32m     61\u001b[0m iterable_with_config \u001b[39m=\u001b[39m (\n\u001b[0;32m     62\u001b[0m     (_with_config(delayed_func, config), args, kwargs)\n\u001b[0;32m     63\u001b[0m     \u001b[39mfor\u001b[39;00m delayed_func, args, kwargs \u001b[39min\u001b[39;00m iterable\n\u001b[0;32m     64\u001b[0m )\n\u001b[1;32m---> 65\u001b[0m \u001b[39mreturn\u001b[39;00m \u001b[39msuper\u001b[39;49m()\u001b[39m.\u001b[39;49m\u001b[39m__call__\u001b[39;49m(iterable_with_config)\n",
      "File \u001b[1;32mc:\\Users\\andre\\AppData\\Local\\Programs\\Python\\Python39\\lib\\site-packages\\joblib\\parallel.py:1863\u001b[0m, in \u001b[0;36mParallel.__call__\u001b[1;34m(self, iterable)\u001b[0m\n\u001b[0;32m   1861\u001b[0m     output \u001b[39m=\u001b[39m \u001b[39mself\u001b[39m\u001b[39m.\u001b[39m_get_sequential_output(iterable)\n\u001b[0;32m   1862\u001b[0m     \u001b[39mnext\u001b[39m(output)\n\u001b[1;32m-> 1863\u001b[0m     \u001b[39mreturn\u001b[39;00m output \u001b[39mif\u001b[39;00m \u001b[39mself\u001b[39m\u001b[39m.\u001b[39mreturn_generator \u001b[39melse\u001b[39;00m \u001b[39mlist\u001b[39;49m(output)\n\u001b[0;32m   1865\u001b[0m \u001b[39m# Let's create an ID that uniquely identifies the current call. If the\u001b[39;00m\n\u001b[0;32m   1866\u001b[0m \u001b[39m# call is interrupted early and that the same instance is immediately\u001b[39;00m\n\u001b[0;32m   1867\u001b[0m \u001b[39m# re-used, this id will be used to prevent workers that were\u001b[39;00m\n\u001b[0;32m   1868\u001b[0m \u001b[39m# concurrently finalizing a task from the previous call to run the\u001b[39;00m\n\u001b[0;32m   1869\u001b[0m \u001b[39m# callback.\u001b[39;00m\n\u001b[0;32m   1870\u001b[0m \u001b[39mwith\u001b[39;00m \u001b[39mself\u001b[39m\u001b[39m.\u001b[39m_lock:\n",
      "File \u001b[1;32mc:\\Users\\andre\\AppData\\Local\\Programs\\Python\\Python39\\lib\\site-packages\\joblib\\parallel.py:1792\u001b[0m, in \u001b[0;36mParallel._get_sequential_output\u001b[1;34m(self, iterable)\u001b[0m\n\u001b[0;32m   1790\u001b[0m \u001b[39mself\u001b[39m\u001b[39m.\u001b[39mn_dispatched_batches \u001b[39m+\u001b[39m\u001b[39m=\u001b[39m \u001b[39m1\u001b[39m\n\u001b[0;32m   1791\u001b[0m \u001b[39mself\u001b[39m\u001b[39m.\u001b[39mn_dispatched_tasks \u001b[39m+\u001b[39m\u001b[39m=\u001b[39m \u001b[39m1\u001b[39m\n\u001b[1;32m-> 1792\u001b[0m res \u001b[39m=\u001b[39m func(\u001b[39m*\u001b[39margs, \u001b[39m*\u001b[39m\u001b[39m*\u001b[39mkwargs)\n\u001b[0;32m   1793\u001b[0m \u001b[39mself\u001b[39m\u001b[39m.\u001b[39mn_completed_tasks \u001b[39m+\u001b[39m\u001b[39m=\u001b[39m \u001b[39m1\u001b[39m\n\u001b[0;32m   1794\u001b[0m \u001b[39mself\u001b[39m\u001b[39m.\u001b[39mprint_progress()\n",
      "File \u001b[1;32mc:\\Users\\andre\\AppData\\Local\\Programs\\Python\\Python39\\lib\\site-packages\\sklearn\\utils\\parallel.py:127\u001b[0m, in \u001b[0;36m_FuncWrapper.__call__\u001b[1;34m(self, *args, **kwargs)\u001b[0m\n\u001b[0;32m    125\u001b[0m     config \u001b[39m=\u001b[39m {}\n\u001b[0;32m    126\u001b[0m \u001b[39mwith\u001b[39;00m config_context(\u001b[39m*\u001b[39m\u001b[39m*\u001b[39mconfig):\n\u001b[1;32m--> 127\u001b[0m     \u001b[39mreturn\u001b[39;00m \u001b[39mself\u001b[39m\u001b[39m.\u001b[39mfunction(\u001b[39m*\u001b[39margs, \u001b[39m*\u001b[39m\u001b[39m*\u001b[39mkwargs)\n",
      "File \u001b[1;32mc:\\Users\\andre\\AppData\\Local\\Programs\\Python\\Python39\\lib\\site-packages\\sklearn\\model_selection\\_validation.py:732\u001b[0m, in \u001b[0;36m_fit_and_score\u001b[1;34m(estimator, X, y, scorer, train, test, verbose, parameters, fit_params, return_train_score, return_parameters, return_n_test_samples, return_times, return_estimator, split_progress, candidate_progress, error_score)\u001b[0m\n\u001b[0;32m    730\u001b[0m         estimator\u001b[39m.\u001b[39mfit(X_train, \u001b[39m*\u001b[39m\u001b[39m*\u001b[39mfit_params)\n\u001b[0;32m    731\u001b[0m     \u001b[39melse\u001b[39;00m:\n\u001b[1;32m--> 732\u001b[0m         estimator\u001b[39m.\u001b[39mfit(X_train, y_train, \u001b[39m*\u001b[39m\u001b[39m*\u001b[39mfit_params)\n\u001b[0;32m    734\u001b[0m \u001b[39mexcept\u001b[39;00m \u001b[39mException\u001b[39;00m:\n\u001b[0;32m    735\u001b[0m     \u001b[39m# Note fit time as time until error\u001b[39;00m\n\u001b[0;32m    736\u001b[0m     fit_time \u001b[39m=\u001b[39m time\u001b[39m.\u001b[39mtime() \u001b[39m-\u001b[39m start_time\n",
      "File \u001b[1;32mc:\\Users\\andre\\AppData\\Local\\Programs\\Python\\Python39\\lib\\site-packages\\sklearn\\base.py:1151\u001b[0m, in \u001b[0;36m_fit_context.<locals>.decorator.<locals>.wrapper\u001b[1;34m(estimator, *args, **kwargs)\u001b[0m\n\u001b[0;32m   1144\u001b[0m     estimator\u001b[39m.\u001b[39m_validate_params()\n\u001b[0;32m   1146\u001b[0m \u001b[39mwith\u001b[39;00m config_context(\n\u001b[0;32m   1147\u001b[0m     skip_parameter_validation\u001b[39m=\u001b[39m(\n\u001b[0;32m   1148\u001b[0m         prefer_skip_nested_validation \u001b[39mor\u001b[39;00m global_skip_validation\n\u001b[0;32m   1149\u001b[0m     )\n\u001b[0;32m   1150\u001b[0m ):\n\u001b[1;32m-> 1151\u001b[0m     \u001b[39mreturn\u001b[39;00m fit_method(estimator, \u001b[39m*\u001b[39margs, \u001b[39m*\u001b[39m\u001b[39m*\u001b[39mkwargs)\n",
      "File \u001b[1;32mc:\\Users\\andre\\AppData\\Local\\Programs\\Python\\Python39\\lib\\site-packages\\sklearn\\ensemble\\_forest.py:456\u001b[0m, in \u001b[0;36mBaseForest.fit\u001b[1;34m(self, X, y, sample_weight)\u001b[0m\n\u001b[0;32m    445\u001b[0m trees \u001b[39m=\u001b[39m [\n\u001b[0;32m    446\u001b[0m     \u001b[39mself\u001b[39m\u001b[39m.\u001b[39m_make_estimator(append\u001b[39m=\u001b[39m\u001b[39mFalse\u001b[39;00m, random_state\u001b[39m=\u001b[39mrandom_state)\n\u001b[0;32m    447\u001b[0m     \u001b[39mfor\u001b[39;00m i \u001b[39min\u001b[39;00m \u001b[39mrange\u001b[39m(n_more_estimators)\n\u001b[0;32m    448\u001b[0m ]\n\u001b[0;32m    450\u001b[0m \u001b[39m# Parallel loop: we prefer the threading backend as the Cython code\u001b[39;00m\n\u001b[0;32m    451\u001b[0m \u001b[39m# for fitting the trees is internally releasing the Python GIL\u001b[39;00m\n\u001b[0;32m    452\u001b[0m \u001b[39m# making threading more efficient than multiprocessing in\u001b[39;00m\n\u001b[0;32m    453\u001b[0m \u001b[39m# that case. However, for joblib 0.12+ we respect any\u001b[39;00m\n\u001b[0;32m    454\u001b[0m \u001b[39m# parallel_backend contexts set at a higher level,\u001b[39;00m\n\u001b[0;32m    455\u001b[0m \u001b[39m# since correctness does not rely on using threads.\u001b[39;00m\n\u001b[1;32m--> 456\u001b[0m trees \u001b[39m=\u001b[39m Parallel(\n\u001b[0;32m    457\u001b[0m     n_jobs\u001b[39m=\u001b[39;49m\u001b[39mself\u001b[39;49m\u001b[39m.\u001b[39;49mn_jobs,\n\u001b[0;32m    458\u001b[0m     verbose\u001b[39m=\u001b[39;49m\u001b[39mself\u001b[39;49m\u001b[39m.\u001b[39;49mverbose,\n\u001b[0;32m    459\u001b[0m     prefer\u001b[39m=\u001b[39;49m\u001b[39m\"\u001b[39;49m\u001b[39mthreads\u001b[39;49m\u001b[39m\"\u001b[39;49m,\n\u001b[0;32m    460\u001b[0m )(\n\u001b[0;32m    461\u001b[0m     delayed(_parallel_build_trees)(\n\u001b[0;32m    462\u001b[0m         t,\n\u001b[0;32m    463\u001b[0m         \u001b[39mself\u001b[39;49m\u001b[39m.\u001b[39;49mbootstrap,\n\u001b[0;32m    464\u001b[0m         X,\n\u001b[0;32m    465\u001b[0m         y,\n\u001b[0;32m    466\u001b[0m         sample_weight,\n\u001b[0;32m    467\u001b[0m         i,\n\u001b[0;32m    468\u001b[0m         \u001b[39mlen\u001b[39;49m(trees),\n\u001b[0;32m    469\u001b[0m         verbose\u001b[39m=\u001b[39;49m\u001b[39mself\u001b[39;49m\u001b[39m.\u001b[39;49mverbose,\n\u001b[0;32m    470\u001b[0m         class_weight\u001b[39m=\u001b[39;49m\u001b[39mself\u001b[39;49m\u001b[39m.\u001b[39;49mclass_weight,\n\u001b[0;32m    471\u001b[0m         n_samples_bootstrap\u001b[39m=\u001b[39;49mn_samples_bootstrap,\n\u001b[0;32m    472\u001b[0m     )\n\u001b[0;32m    473\u001b[0m     \u001b[39mfor\u001b[39;49;00m i, t \u001b[39min\u001b[39;49;00m \u001b[39menumerate\u001b[39;49m(trees)\n\u001b[0;32m    474\u001b[0m )\n\u001b[0;32m    476\u001b[0m \u001b[39m# Collect newly grown trees\u001b[39;00m\n\u001b[0;32m    477\u001b[0m \u001b[39mself\u001b[39m\u001b[39m.\u001b[39mestimators_\u001b[39m.\u001b[39mextend(trees)\n",
      "File \u001b[1;32mc:\\Users\\andre\\AppData\\Local\\Programs\\Python\\Python39\\lib\\site-packages\\sklearn\\utils\\parallel.py:65\u001b[0m, in \u001b[0;36mParallel.__call__\u001b[1;34m(self, iterable)\u001b[0m\n\u001b[0;32m     60\u001b[0m config \u001b[39m=\u001b[39m get_config()\n\u001b[0;32m     61\u001b[0m iterable_with_config \u001b[39m=\u001b[39m (\n\u001b[0;32m     62\u001b[0m     (_with_config(delayed_func, config), args, kwargs)\n\u001b[0;32m     63\u001b[0m     \u001b[39mfor\u001b[39;00m delayed_func, args, kwargs \u001b[39min\u001b[39;00m iterable\n\u001b[0;32m     64\u001b[0m )\n\u001b[1;32m---> 65\u001b[0m \u001b[39mreturn\u001b[39;00m \u001b[39msuper\u001b[39;49m()\u001b[39m.\u001b[39;49m\u001b[39m__call__\u001b[39;49m(iterable_with_config)\n",
      "File \u001b[1;32mc:\\Users\\andre\\AppData\\Local\\Programs\\Python\\Python39\\lib\\site-packages\\joblib\\parallel.py:1863\u001b[0m, in \u001b[0;36mParallel.__call__\u001b[1;34m(self, iterable)\u001b[0m\n\u001b[0;32m   1861\u001b[0m     output \u001b[39m=\u001b[39m \u001b[39mself\u001b[39m\u001b[39m.\u001b[39m_get_sequential_output(iterable)\n\u001b[0;32m   1862\u001b[0m     \u001b[39mnext\u001b[39m(output)\n\u001b[1;32m-> 1863\u001b[0m     \u001b[39mreturn\u001b[39;00m output \u001b[39mif\u001b[39;00m \u001b[39mself\u001b[39m\u001b[39m.\u001b[39mreturn_generator \u001b[39melse\u001b[39;00m \u001b[39mlist\u001b[39;49m(output)\n\u001b[0;32m   1865\u001b[0m \u001b[39m# Let's create an ID that uniquely identifies the current call. If the\u001b[39;00m\n\u001b[0;32m   1866\u001b[0m \u001b[39m# call is interrupted early and that the same instance is immediately\u001b[39;00m\n\u001b[0;32m   1867\u001b[0m \u001b[39m# re-used, this id will be used to prevent workers that were\u001b[39;00m\n\u001b[0;32m   1868\u001b[0m \u001b[39m# concurrently finalizing a task from the previous call to run the\u001b[39;00m\n\u001b[0;32m   1869\u001b[0m \u001b[39m# callback.\u001b[39;00m\n\u001b[0;32m   1870\u001b[0m \u001b[39mwith\u001b[39;00m \u001b[39mself\u001b[39m\u001b[39m.\u001b[39m_lock:\n",
      "File \u001b[1;32mc:\\Users\\andre\\AppData\\Local\\Programs\\Python\\Python39\\lib\\site-packages\\joblib\\parallel.py:1792\u001b[0m, in \u001b[0;36mParallel._get_sequential_output\u001b[1;34m(self, iterable)\u001b[0m\n\u001b[0;32m   1790\u001b[0m \u001b[39mself\u001b[39m\u001b[39m.\u001b[39mn_dispatched_batches \u001b[39m+\u001b[39m\u001b[39m=\u001b[39m \u001b[39m1\u001b[39m\n\u001b[0;32m   1791\u001b[0m \u001b[39mself\u001b[39m\u001b[39m.\u001b[39mn_dispatched_tasks \u001b[39m+\u001b[39m\u001b[39m=\u001b[39m \u001b[39m1\u001b[39m\n\u001b[1;32m-> 1792\u001b[0m res \u001b[39m=\u001b[39m func(\u001b[39m*\u001b[39margs, \u001b[39m*\u001b[39m\u001b[39m*\u001b[39mkwargs)\n\u001b[0;32m   1793\u001b[0m \u001b[39mself\u001b[39m\u001b[39m.\u001b[39mn_completed_tasks \u001b[39m+\u001b[39m\u001b[39m=\u001b[39m \u001b[39m1\u001b[39m\n\u001b[0;32m   1794\u001b[0m \u001b[39mself\u001b[39m\u001b[39m.\u001b[39mprint_progress()\n",
      "File \u001b[1;32mc:\\Users\\andre\\AppData\\Local\\Programs\\Python\\Python39\\lib\\site-packages\\sklearn\\utils\\parallel.py:127\u001b[0m, in \u001b[0;36m_FuncWrapper.__call__\u001b[1;34m(self, *args, **kwargs)\u001b[0m\n\u001b[0;32m    125\u001b[0m     config \u001b[39m=\u001b[39m {}\n\u001b[0;32m    126\u001b[0m \u001b[39mwith\u001b[39;00m config_context(\u001b[39m*\u001b[39m\u001b[39m*\u001b[39mconfig):\n\u001b[1;32m--> 127\u001b[0m     \u001b[39mreturn\u001b[39;00m \u001b[39mself\u001b[39m\u001b[39m.\u001b[39mfunction(\u001b[39m*\u001b[39margs, \u001b[39m*\u001b[39m\u001b[39m*\u001b[39mkwargs)\n",
      "File \u001b[1;32mc:\\Users\\andre\\AppData\\Local\\Programs\\Python\\Python39\\lib\\site-packages\\sklearn\\ensemble\\_forest.py:188\u001b[0m, in \u001b[0;36m_parallel_build_trees\u001b[1;34m(tree, bootstrap, X, y, sample_weight, tree_idx, n_trees, verbose, class_weight, n_samples_bootstrap)\u001b[0m\n\u001b[0;32m    185\u001b[0m     \u001b[39melif\u001b[39;00m class_weight \u001b[39m==\u001b[39m \u001b[39m\"\u001b[39m\u001b[39mbalanced_subsample\u001b[39m\u001b[39m\"\u001b[39m:\n\u001b[0;32m    186\u001b[0m         curr_sample_weight \u001b[39m*\u001b[39m\u001b[39m=\u001b[39m compute_sample_weight(\u001b[39m\"\u001b[39m\u001b[39mbalanced\u001b[39m\u001b[39m\"\u001b[39m, y, indices\u001b[39m=\u001b[39mindices)\n\u001b[1;32m--> 188\u001b[0m     tree\u001b[39m.\u001b[39;49mfit(X, y, sample_weight\u001b[39m=\u001b[39;49mcurr_sample_weight, check_input\u001b[39m=\u001b[39;49m\u001b[39mFalse\u001b[39;49;00m)\n\u001b[0;32m    189\u001b[0m \u001b[39melse\u001b[39;00m:\n\u001b[0;32m    190\u001b[0m     tree\u001b[39m.\u001b[39mfit(X, y, sample_weight\u001b[39m=\u001b[39msample_weight, check_input\u001b[39m=\u001b[39m\u001b[39mFalse\u001b[39;00m)\n",
      "File \u001b[1;32mc:\\Users\\andre\\AppData\\Local\\Programs\\Python\\Python39\\lib\\site-packages\\sklearn\\base.py:1151\u001b[0m, in \u001b[0;36m_fit_context.<locals>.decorator.<locals>.wrapper\u001b[1;34m(estimator, *args, **kwargs)\u001b[0m\n\u001b[0;32m   1144\u001b[0m     estimator\u001b[39m.\u001b[39m_validate_params()\n\u001b[0;32m   1146\u001b[0m \u001b[39mwith\u001b[39;00m config_context(\n\u001b[0;32m   1147\u001b[0m     skip_parameter_validation\u001b[39m=\u001b[39m(\n\u001b[0;32m   1148\u001b[0m         prefer_skip_nested_validation \u001b[39mor\u001b[39;00m global_skip_validation\n\u001b[0;32m   1149\u001b[0m     )\n\u001b[0;32m   1150\u001b[0m ):\n\u001b[1;32m-> 1151\u001b[0m     \u001b[39mreturn\u001b[39;00m fit_method(estimator, \u001b[39m*\u001b[39margs, \u001b[39m*\u001b[39m\u001b[39m*\u001b[39mkwargs)\n",
      "File \u001b[1;32mc:\\Users\\andre\\AppData\\Local\\Programs\\Python\\Python39\\lib\\site-packages\\sklearn\\tree\\_classes.py:1320\u001b[0m, in \u001b[0;36mDecisionTreeRegressor.fit\u001b[1;34m(self, X, y, sample_weight, check_input)\u001b[0m\n\u001b[0;32m   1290\u001b[0m \u001b[39m@_fit_context\u001b[39m(prefer_skip_nested_validation\u001b[39m=\u001b[39m\u001b[39mTrue\u001b[39;00m)\n\u001b[0;32m   1291\u001b[0m \u001b[39mdef\u001b[39;00m \u001b[39mfit\u001b[39m(\u001b[39mself\u001b[39m, X, y, sample_weight\u001b[39m=\u001b[39m\u001b[39mNone\u001b[39;00m, check_input\u001b[39m=\u001b[39m\u001b[39mTrue\u001b[39;00m):\n\u001b[0;32m   1292\u001b[0m \u001b[39m    \u001b[39m\u001b[39m\"\"\"Build a decision tree regressor from the training set (X, y).\u001b[39;00m\n\u001b[0;32m   1293\u001b[0m \n\u001b[0;32m   1294\u001b[0m \u001b[39m    Parameters\u001b[39;00m\n\u001b[1;32m   (...)\u001b[0m\n\u001b[0;32m   1317\u001b[0m \u001b[39m        Fitted estimator.\u001b[39;00m\n\u001b[0;32m   1318\u001b[0m \u001b[39m    \"\"\"\u001b[39;00m\n\u001b[1;32m-> 1320\u001b[0m     \u001b[39msuper\u001b[39;49m()\u001b[39m.\u001b[39;49m_fit(\n\u001b[0;32m   1321\u001b[0m         X,\n\u001b[0;32m   1322\u001b[0m         y,\n\u001b[0;32m   1323\u001b[0m         sample_weight\u001b[39m=\u001b[39;49msample_weight,\n\u001b[0;32m   1324\u001b[0m         check_input\u001b[39m=\u001b[39;49mcheck_input,\n\u001b[0;32m   1325\u001b[0m     )\n\u001b[0;32m   1326\u001b[0m     \u001b[39mreturn\u001b[39;00m \u001b[39mself\u001b[39m\n",
      "File \u001b[1;32mc:\\Users\\andre\\AppData\\Local\\Programs\\Python\\Python39\\lib\\site-packages\\sklearn\\tree\\_classes.py:443\u001b[0m, in \u001b[0;36mBaseDecisionTree._fit\u001b[1;34m(self, X, y, sample_weight, check_input, missing_values_in_feature_mask)\u001b[0m\n\u001b[0;32m    432\u001b[0m \u001b[39melse\u001b[39;00m:\n\u001b[0;32m    433\u001b[0m     builder \u001b[39m=\u001b[39m BestFirstTreeBuilder(\n\u001b[0;32m    434\u001b[0m         splitter,\n\u001b[0;32m    435\u001b[0m         min_samples_split,\n\u001b[1;32m   (...)\u001b[0m\n\u001b[0;32m    440\u001b[0m         \u001b[39mself\u001b[39m\u001b[39m.\u001b[39mmin_impurity_decrease,\n\u001b[0;32m    441\u001b[0m     )\n\u001b[1;32m--> 443\u001b[0m builder\u001b[39m.\u001b[39;49mbuild(\u001b[39mself\u001b[39;49m\u001b[39m.\u001b[39;49mtree_, X, y, sample_weight, missing_values_in_feature_mask)\n\u001b[0;32m    445\u001b[0m \u001b[39mif\u001b[39;00m \u001b[39mself\u001b[39m\u001b[39m.\u001b[39mn_outputs_ \u001b[39m==\u001b[39m \u001b[39m1\u001b[39m \u001b[39mand\u001b[39;00m is_classifier(\u001b[39mself\u001b[39m):\n\u001b[0;32m    446\u001b[0m     \u001b[39mself\u001b[39m\u001b[39m.\u001b[39mn_classes_ \u001b[39m=\u001b[39m \u001b[39mself\u001b[39m\u001b[39m.\u001b[39mn_classes_[\u001b[39m0\u001b[39m]\n",
      "\u001b[1;31mKeyboardInterrupt\u001b[0m: "
     ]
    }
   ],
   "source": [
    "#grid search\n",
    "\n",
    "from sklearn.model_selection import GridSearchCV\n",
    "\n",
    "param_grid = {\n",
    "    'bootstrap': [True],\n",
    "    'max_depth': [10, 20, 30, 40, 50],\n",
    "    'max_features': [2, 3, 4, 5, 6],\n",
    "    'min_samples_leaf': [3, 4, 5, 6, 7],\n",
    "    'min_samples_split': [8, 10, 12, 14, 16],\n",
    "    'n_estimators': [100, 200, 300, 400, 500]\n",
    "}\n",
    "\n",
    "#param_grid en vez de 5 de cada uno, 2 de cada uno\n",
    "param_grid = {\n",
    "    'random_state':[5,10,15,20,25],\n",
    "\n",
    "    'n_estimators': [100, 200,300,400]#n_estimators es el numero de arboles en el bosque\n",
    "}\n",
    "\n",
    "\n",
    "\n",
    "grid_search = GridSearchCV(estimator = model, param_grid = param_grid)\n",
    "\n",
    "\n",
    "#\n",
    "grid_search.fit(X_train, y_train)\n"
   ]
  },
  {
   "cell_type": "code",
   "execution_count": null,
   "metadata": {},
   "outputs": [
    {
     "data": {
      "text/plain": [
       "{'bootstrap': True,\n",
       " 'max_depth': 10,\n",
       " 'max_features': 3,\n",
       " 'min_samples_leaf': 3,\n",
       " 'min_samples_split': 10,\n",
       " 'n_estimators': 100}"
      ]
     },
     "execution_count": 179,
     "metadata": {},
     "output_type": "execute_result"
    }
   ],
   "source": [
    "grid_search.best_params_\n",
    "\n",
    "#tarda mucho elm grid search ya que tiene que probar todas las combinaciones posibles pero son 5 parametros y 5 valores por parametro"
   ]
  },
  {
   "cell_type": "code",
   "execution_count": null,
   "metadata": {},
   "outputs": [],
   "source": [
    "#ahora quiero hacer un modelo con los mejores parametros\n",
    "\n",
    "model = RandomForestRegressor(n_estimators=50, random_state=80)#n\n",
    "#cros validation\n",
    "predicciones = cross_val_predict(model,X,y,cv=10)"
   ]
  },
  {
   "cell_type": "code",
   "execution_count": null,
   "metadata": {},
   "outputs": [
    {
     "data": {
      "text/plain": [
       "0.664696122247314"
      ]
     },
     "execution_count": 196,
     "metadata": {},
     "output_type": "execute_result"
    }
   ],
   "source": [
    "#f1 score\n",
    "predicciones = np.round(predicciones)\n",
    "f1_score(y,predicciones,average='macro')"
   ]
  },
  {
   "cell_type": "code",
   "execution_count": null,
   "metadata": {},
   "outputs": [
    {
     "data": {
      "text/plain": [
       "0.10683229813664596"
      ]
     },
     "execution_count": 181,
     "metadata": {},
     "output_type": "execute_result"
    }
   ],
   "source": [
    "#ahora quiero ver el f1 score\n",
    "y_pred = model.predict(X_test)\n",
    "\n",
    "y_pred = np.round(y_pred)\n",
    "\n",
    "f1_score(y_test,y_pred,average='macro')"
   ]
  },
  {
   "cell_type": "code",
   "execution_count": null,
   "metadata": {},
   "outputs": [
    {
     "data": {
      "text/plain": [
       "0.29765571420348175"
      ]
     },
     "execution_count": 203,
     "metadata": {},
     "output_type": "execute_result"
    }
   ],
   "source": [
    "#modelos geometricos\n",
    "\n",
    "from sklearn.ensemble import GradientBoostingRegressor\n",
    "#otros modelos geometricos son xgboost y lightgbm\n",
    "\n",
    "#xgboost es un modelo geometrico que se basa en gradient boosting\n",
    "#para usarlo importamos xgboost\n",
    "import xgboost as xgb#pip install xgboost\n",
    "import lightgbm as lgb#pip install lightgbm\n",
    "modelo = xgb.XGBRegressor()\n",
    "modelo = lgb.LGBMRegressor()\n",
    "#dentro de lgb hay dos modelos, lgbm y lgbmregressor, lgbm es para clasificacion y lgbmregressor es para regresion\n",
    "#lgbm clasificacion lo utilizamos defini9endo:\n",
    "modelo = xgb.XGBModel()\n",
    "\n",
    "\n",
    "#model = GradientBoostingRegressor(n_estimators=50, random_state=80)#n\n",
    "#cros validation\n",
    "predicciones = cross_val_predict(model,X,y,cv=10)\n",
    "\n",
    "#f1 score\n",
    "predicciones = np.round(predicciones)\n",
    "f1_score(y,predicciones,average='macro')"
   ]
  },
  {
   "cell_type": "code",
   "execution_count": null,
   "metadata": {},
   "outputs": [
    {
     "data": {
      "text/plain": [
       "0.664696122247314"
      ]
     },
     "execution_count": 205,
     "metadata": {},
     "output_type": "execute_result"
    }
   ],
   "source": [
    "#arboles de decision pueden ser: random forest, gradient boosting, xgboost, lightgbm\n",
    "model = RandomForestRegressor(n_estimators=50, random_state=80)\n",
    "\n",
    "#gradient boosting\n",
    "from sklearn.ensemble import GradientBoostingRegressor\n",
    "#model = GradientBoostingRegressor(n_estimators=50, random_state=80)\n",
    "\n",
    "predicciones = cross_val_predict(model,X,y,cv=10)\n",
    "\n",
    "#f1 score\n",
    "predicciones = np.round(predicciones)\n",
    "f1_score(y,predicciones,average='macro')\n"
   ]
  },
  {
   "cell_type": "code",
   "execution_count": null,
   "metadata": {},
   "outputs": [],
   "source": [
    "'''Tenemos que usar random forest cuando'''"
   ]
  },
  {
   "cell_type": "code",
   "execution_count": null,
   "metadata": {},
   "outputs": [
    {
     "data": {
      "text/plain": [
       "0.5785388428292467"
      ]
     },
     "execution_count": 218,
     "metadata": {},
     "output_type": "execute_result"
    }
   ],
   "source": [
    "#clasificador KNN\n",
    "from sklearn.neighbors import KNeighborsClassifier\n",
    "model = KNeighborsClassifier(n_neighbors=1)\n",
    "\n",
    "predicciones = cross_val_predict(model,X.values,y.values,cv=10)\n",
    "\n",
    "#f1 score\n",
    "\n",
    "f1_score(y,predicciones,average='macro')\n"
   ]
  },
  {
   "cell_type": "code",
   "execution_count": null,
   "metadata": {},
   "outputs": [
    {
     "data": {
      "text/plain": [
       "0.5077506473112047"
      ]
     },
     "execution_count": 222,
     "metadata": {},
     "output_type": "execute_result"
    }
   ],
   "source": [
    "model = KNeighborsClassifier(n_neighbors=5)\n",
    "predicciones = cross_val_predict(model,X.values,y.values,cv=10)\n",
    "predicciones\n",
    "f1_score(y,predicciones,average='macro')"
   ]
  },
  {
   "cell_type": "code",
   "execution_count": null,
   "metadata": {},
   "outputs": [
    {
     "data": {
      "text/html": [
       "<div>\n",
       "<style scoped>\n",
       "    .dataframe tbody tr th:only-of-type {\n",
       "        vertical-align: middle;\n",
       "    }\n",
       "\n",
       "    .dataframe tbody tr th {\n",
       "        vertical-align: top;\n",
       "    }\n",
       "\n",
       "    .dataframe thead th {\n",
       "        text-align: right;\n",
       "    }\n",
       "</style>\n",
       "<table border=\"1\" class=\"dataframe\">\n",
       "  <thead>\n",
       "    <tr style=\"text-align: right;\">\n",
       "      <th></th>\n",
       "      <th>Engine Size (L)</th>\n",
       "      <th>Cylinders</th>\n",
       "      <th>Fuel Consumption City (L/100 km)</th>\n",
       "      <th>Hwy (L/100 km)</th>\n",
       "      <th>Comb (L/100 km)</th>\n",
       "      <th>Comb (mpg)</th>\n",
       "      <th>CO2 Emissions (g/km)</th>\n",
       "      <th>Make_Alfa Romeo</th>\n",
       "      <th>Make_Aston Martin</th>\n",
       "      <th>Make_Audi</th>\n",
       "      <th>...</th>\n",
       "      <th>Transmission_AV10</th>\n",
       "      <th>Transmission_AV6</th>\n",
       "      <th>Transmission_AV7</th>\n",
       "      <th>Transmission_AV8</th>\n",
       "      <th>Transmission_M5</th>\n",
       "      <th>Transmission_M6</th>\n",
       "      <th>Transmission_M7</th>\n",
       "      <th>Fuel Type_E</th>\n",
       "      <th>Fuel Type_X</th>\n",
       "      <th>Fuel Type_Z</th>\n",
       "    </tr>\n",
       "  </thead>\n",
       "  <tbody>\n",
       "    <tr>\n",
       "      <th>0</th>\n",
       "      <td>2.0</td>\n",
       "      <td>4</td>\n",
       "      <td>10.0</td>\n",
       "      <td>7.0</td>\n",
       "      <td>8.7</td>\n",
       "      <td>32</td>\n",
       "      <td>202</td>\n",
       "      <td>0</td>\n",
       "      <td>0</td>\n",
       "      <td>0</td>\n",
       "      <td>...</td>\n",
       "      <td>0</td>\n",
       "      <td>0</td>\n",
       "      <td>0</td>\n",
       "      <td>0</td>\n",
       "      <td>0</td>\n",
       "      <td>0</td>\n",
       "      <td>0</td>\n",
       "      <td>0</td>\n",
       "      <td>0</td>\n",
       "      <td>1</td>\n",
       "    </tr>\n",
       "    <tr>\n",
       "      <th>1</th>\n",
       "      <td>2.0</td>\n",
       "      <td>4</td>\n",
       "      <td>8.6</td>\n",
       "      <td>6.7</td>\n",
       "      <td>7.7</td>\n",
       "      <td>37</td>\n",
       "      <td>181</td>\n",
       "      <td>0</td>\n",
       "      <td>0</td>\n",
       "      <td>0</td>\n",
       "      <td>...</td>\n",
       "      <td>0</td>\n",
       "      <td>0</td>\n",
       "      <td>0</td>\n",
       "      <td>0</td>\n",
       "      <td>0</td>\n",
       "      <td>0</td>\n",
       "      <td>0</td>\n",
       "      <td>0</td>\n",
       "      <td>1</td>\n",
       "      <td>0</td>\n",
       "    </tr>\n",
       "    <tr>\n",
       "      <th>2</th>\n",
       "      <td>2.9</td>\n",
       "      <td>6</td>\n",
       "      <td>12.8</td>\n",
       "      <td>10.2</td>\n",
       "      <td>11.7</td>\n",
       "      <td>24</td>\n",
       "      <td>274</td>\n",
       "      <td>0</td>\n",
       "      <td>0</td>\n",
       "      <td>0</td>\n",
       "      <td>...</td>\n",
       "      <td>0</td>\n",
       "      <td>0</td>\n",
       "      <td>0</td>\n",
       "      <td>0</td>\n",
       "      <td>0</td>\n",
       "      <td>0</td>\n",
       "      <td>0</td>\n",
       "      <td>0</td>\n",
       "      <td>0</td>\n",
       "      <td>1</td>\n",
       "    </tr>\n",
       "    <tr>\n",
       "      <th>3</th>\n",
       "      <td>2.0</td>\n",
       "      <td>4</td>\n",
       "      <td>8.6</td>\n",
       "      <td>7.4</td>\n",
       "      <td>8.1</td>\n",
       "      <td>35</td>\n",
       "      <td>189</td>\n",
       "      <td>0</td>\n",
       "      <td>0</td>\n",
       "      <td>0</td>\n",
       "      <td>...</td>\n",
       "      <td>0</td>\n",
       "      <td>0</td>\n",
       "      <td>0</td>\n",
       "      <td>0</td>\n",
       "      <td>0</td>\n",
       "      <td>0</td>\n",
       "      <td>0</td>\n",
       "      <td>0</td>\n",
       "      <td>1</td>\n",
       "      <td>0</td>\n",
       "    </tr>\n",
       "    <tr>\n",
       "      <th>4</th>\n",
       "      <td>5.2</td>\n",
       "      <td>12</td>\n",
       "      <td>16.4</td>\n",
       "      <td>10.7</td>\n",
       "      <td>13.8</td>\n",
       "      <td>20</td>\n",
       "      <td>324</td>\n",
       "      <td>0</td>\n",
       "      <td>1</td>\n",
       "      <td>0</td>\n",
       "      <td>...</td>\n",
       "      <td>0</td>\n",
       "      <td>0</td>\n",
       "      <td>0</td>\n",
       "      <td>0</td>\n",
       "      <td>0</td>\n",
       "      <td>0</td>\n",
       "      <td>0</td>\n",
       "      <td>0</td>\n",
       "      <td>0</td>\n",
       "      <td>1</td>\n",
       "    </tr>\n",
       "    <tr>\n",
       "      <th>...</th>\n",
       "      <td>...</td>\n",
       "      <td>...</td>\n",
       "      <td>...</td>\n",
       "      <td>...</td>\n",
       "      <td>...</td>\n",
       "      <td>...</td>\n",
       "      <td>...</td>\n",
       "      <td>...</td>\n",
       "      <td>...</td>\n",
       "      <td>...</td>\n",
       "      <td>...</td>\n",
       "      <td>...</td>\n",
       "      <td>...</td>\n",
       "      <td>...</td>\n",
       "      <td>...</td>\n",
       "      <td>...</td>\n",
       "      <td>...</td>\n",
       "      <td>...</td>\n",
       "      <td>...</td>\n",
       "      <td>...</td>\n",
       "      <td>...</td>\n",
       "    </tr>\n",
       "    <tr>\n",
       "      <th>581</th>\n",
       "      <td>4.4</td>\n",
       "      <td>8</td>\n",
       "      <td>16.1</td>\n",
       "      <td>11.0</td>\n",
       "      <td>13.8</td>\n",
       "      <td>20</td>\n",
       "      <td>322</td>\n",
       "      <td>0</td>\n",
       "      <td>0</td>\n",
       "      <td>0</td>\n",
       "      <td>...</td>\n",
       "      <td>0</td>\n",
       "      <td>0</td>\n",
       "      <td>0</td>\n",
       "      <td>0</td>\n",
       "      <td>0</td>\n",
       "      <td>0</td>\n",
       "      <td>0</td>\n",
       "      <td>0</td>\n",
       "      <td>0</td>\n",
       "      <td>1</td>\n",
       "    </tr>\n",
       "    <tr>\n",
       "      <th>582</th>\n",
       "      <td>5.7</td>\n",
       "      <td>8</td>\n",
       "      <td>14.7</td>\n",
       "      <td>9.4</td>\n",
       "      <td>12.3</td>\n",
       "      <td>23</td>\n",
       "      <td>289</td>\n",
       "      <td>0</td>\n",
       "      <td>0</td>\n",
       "      <td>0</td>\n",
       "      <td>...</td>\n",
       "      <td>0</td>\n",
       "      <td>0</td>\n",
       "      <td>0</td>\n",
       "      <td>0</td>\n",
       "      <td>0</td>\n",
       "      <td>0</td>\n",
       "      <td>0</td>\n",
       "      <td>0</td>\n",
       "      <td>1</td>\n",
       "      <td>0</td>\n",
       "    </tr>\n",
       "    <tr>\n",
       "      <th>583</th>\n",
       "      <td>3.0</td>\n",
       "      <td>6</td>\n",
       "      <td>11.1</td>\n",
       "      <td>8.0</td>\n",
       "      <td>9.7</td>\n",
       "      <td>29</td>\n",
       "      <td>260</td>\n",
       "      <td>0</td>\n",
       "      <td>0</td>\n",
       "      <td>0</td>\n",
       "      <td>...</td>\n",
       "      <td>0</td>\n",
       "      <td>0</td>\n",
       "      <td>0</td>\n",
       "      <td>0</td>\n",
       "      <td>0</td>\n",
       "      <td>0</td>\n",
       "      <td>0</td>\n",
       "      <td>0</td>\n",
       "      <td>0</td>\n",
       "      <td>0</td>\n",
       "    </tr>\n",
       "    <tr>\n",
       "      <th>584</th>\n",
       "      <td>2.0</td>\n",
       "      <td>4</td>\n",
       "      <td>10.4</td>\n",
       "      <td>7.4</td>\n",
       "      <td>9.1</td>\n",
       "      <td>31</td>\n",
       "      <td>211</td>\n",
       "      <td>0</td>\n",
       "      <td>0</td>\n",
       "      <td>0</td>\n",
       "      <td>...</td>\n",
       "      <td>0</td>\n",
       "      <td>0</td>\n",
       "      <td>0</td>\n",
       "      <td>0</td>\n",
       "      <td>0</td>\n",
       "      <td>0</td>\n",
       "      <td>0</td>\n",
       "      <td>0</td>\n",
       "      <td>1</td>\n",
       "      <td>0</td>\n",
       "    </tr>\n",
       "    <tr>\n",
       "      <th>585</th>\n",
       "      <td>4.4</td>\n",
       "      <td>8</td>\n",
       "      <td>16.1</td>\n",
       "      <td>11.0</td>\n",
       "      <td>13.8</td>\n",
       "      <td>20</td>\n",
       "      <td>322</td>\n",
       "      <td>0</td>\n",
       "      <td>0</td>\n",
       "      <td>0</td>\n",
       "      <td>...</td>\n",
       "      <td>0</td>\n",
       "      <td>0</td>\n",
       "      <td>0</td>\n",
       "      <td>0</td>\n",
       "      <td>0</td>\n",
       "      <td>0</td>\n",
       "      <td>0</td>\n",
       "      <td>0</td>\n",
       "      <td>0</td>\n",
       "      <td>1</td>\n",
       "    </tr>\n",
       "  </tbody>\n",
       "</table>\n",
       "<p>586 rows × 570 columns</p>\n",
       "</div>"
      ],
      "text/plain": [
       "     Engine Size (L)  Cylinders  Fuel Consumption City (L/100 km)  \\\n",
       "0                2.0          4                              10.0   \n",
       "1                2.0          4                               8.6   \n",
       "2                2.9          6                              12.8   \n",
       "3                2.0          4                               8.6   \n",
       "4                5.2         12                              16.4   \n",
       "..               ...        ...                               ...   \n",
       "581              4.4          8                              16.1   \n",
       "582              5.7          8                              14.7   \n",
       "583              3.0          6                              11.1   \n",
       "584              2.0          4                              10.4   \n",
       "585              4.4          8                              16.1   \n",
       "\n",
       "     Hwy (L/100 km)  Comb (L/100 km)  Comb (mpg)  CO2 Emissions (g/km)  \\\n",
       "0               7.0              8.7          32                   202   \n",
       "1               6.7              7.7          37                   181   \n",
       "2              10.2             11.7          24                   274   \n",
       "3               7.4              8.1          35                   189   \n",
       "4              10.7             13.8          20                   324   \n",
       "..              ...              ...         ...                   ...   \n",
       "581            11.0             13.8          20                   322   \n",
       "582             9.4             12.3          23                   289   \n",
       "583             8.0              9.7          29                   260   \n",
       "584             7.4              9.1          31                   211   \n",
       "585            11.0             13.8          20                   322   \n",
       "\n",
       "     Make_Alfa Romeo  Make_Aston Martin  Make_Audi  ...  Transmission_AV10  \\\n",
       "0                  0                  0          0  ...                  0   \n",
       "1                  0                  0          0  ...                  0   \n",
       "2                  0                  0          0  ...                  0   \n",
       "3                  0                  0          0  ...                  0   \n",
       "4                  0                  1          0  ...                  0   \n",
       "..               ...                ...        ...  ...                ...   \n",
       "581                0                  0          0  ...                  0   \n",
       "582                0                  0          0  ...                  0   \n",
       "583                0                  0          0  ...                  0   \n",
       "584                0                  0          0  ...                  0   \n",
       "585                0                  0          0  ...                  0   \n",
       "\n",
       "     Transmission_AV6  Transmission_AV7  Transmission_AV8  Transmission_M5  \\\n",
       "0                   0                 0                 0                0   \n",
       "1                   0                 0                 0                0   \n",
       "2                   0                 0                 0                0   \n",
       "3                   0                 0                 0                0   \n",
       "4                   0                 0                 0                0   \n",
       "..                ...               ...               ...              ...   \n",
       "581                 0                 0                 0                0   \n",
       "582                 0                 0                 0                0   \n",
       "583                 0                 0                 0                0   \n",
       "584                 0                 0                 0                0   \n",
       "585                 0                 0                 0                0   \n",
       "\n",
       "     Transmission_M6  Transmission_M7  Fuel Type_E  Fuel Type_X  Fuel Type_Z  \n",
       "0                  0                0            0            0            1  \n",
       "1                  0                0            0            1            0  \n",
       "2                  0                0            0            0            1  \n",
       "3                  0                0            0            1            0  \n",
       "4                  0                0            0            0            1  \n",
       "..               ...              ...          ...          ...          ...  \n",
       "581                0                0            0            0            1  \n",
       "582                0                0            0            1            0  \n",
       "583                0                0            0            0            0  \n",
       "584                0                0            0            1            0  \n",
       "585                0                0            0            0            1  \n",
       "\n",
       "[586 rows x 570 columns]"
      ]
     },
     "execution_count": 212,
     "metadata": {},
     "output_type": "execute_result"
    }
   ],
   "source": [
    "X"
   ]
  },
  {
   "cell_type": "code",
   "execution_count": null,
   "metadata": {},
   "outputs": [
    {
     "ename": "AttributeError",
     "evalue": "'Flags' object has no attribute 'c_contiguous'",
     "output_type": "error",
     "traceback": [
      "\u001b[1;31m---------------------------------------------------------------------------\u001b[0m",
      "\u001b[1;31mAttributeError\u001b[0m                            Traceback (most recent call last)",
      "\u001b[1;32mc:\\Users\\andre\\OneDrive\\Documentos\\GitHub\\APAU_SMOG_PREDICTION_3RDGROUP\\codigo\\codigo_andy.ipynb Cell 72\u001b[0m line \u001b[0;36m2\n\u001b[0;32m      <a href='vscode-notebook-cell:/c%3A/Users/andre/OneDrive/Documentos/GitHub/APAU_SMOG_PREDICTION_3RDGROUP/codigo/codigo_andy.ipynb#Y134sZmlsZQ%3D%3D?line=0'>1</a>\u001b[0m \u001b[39m#f1 score\u001b[39;00m\n\u001b[1;32m----> <a href='vscode-notebook-cell:/c%3A/Users/andre/OneDrive/Documentos/GitHub/APAU_SMOG_PREDICTION_3RDGROUP/codigo/codigo_andy.ipynb#Y134sZmlsZQ%3D%3D?line=1'>2</a>\u001b[0m predicciones \u001b[39m=\u001b[39m model\u001b[39m.\u001b[39;49mpredict(X_test)\n\u001b[0;32m      <a href='vscode-notebook-cell:/c%3A/Users/andre/OneDrive/Documentos/GitHub/APAU_SMOG_PREDICTION_3RDGROUP/codigo/codigo_andy.ipynb#Y134sZmlsZQ%3D%3D?line=2'>3</a>\u001b[0m predicciones \u001b[39m=\u001b[39m np\u001b[39m.\u001b[39mround(predicciones)\n\u001b[0;32m      <a href='vscode-notebook-cell:/c%3A/Users/andre/OneDrive/Documentos/GitHub/APAU_SMOG_PREDICTION_3RDGROUP/codigo/codigo_andy.ipynb#Y134sZmlsZQ%3D%3D?line=3'>4</a>\u001b[0m f1_score(y_test,predicciones,average\u001b[39m=\u001b[39m\u001b[39m'\u001b[39m\u001b[39mmacro\u001b[39m\u001b[39m'\u001b[39m)\n",
      "File \u001b[1;32mc:\\Users\\andre\\AppData\\Local\\Programs\\Python\\Python39\\lib\\site-packages\\sklearn\\neighbors\\_classification.py:246\u001b[0m, in \u001b[0;36mKNeighborsClassifier.predict\u001b[1;34m(self, X)\u001b[0m\n\u001b[0;32m    244\u001b[0m check_is_fitted(\u001b[39mself\u001b[39m, \u001b[39m\"\u001b[39m\u001b[39m_fit_method\u001b[39m\u001b[39m\"\u001b[39m)\n\u001b[0;32m    245\u001b[0m \u001b[39mif\u001b[39;00m \u001b[39mself\u001b[39m\u001b[39m.\u001b[39mweights \u001b[39m==\u001b[39m \u001b[39m\"\u001b[39m\u001b[39muniform\u001b[39m\u001b[39m\"\u001b[39m:\n\u001b[1;32m--> 246\u001b[0m     \u001b[39mif\u001b[39;00m \u001b[39mself\u001b[39m\u001b[39m.\u001b[39m_fit_method \u001b[39m==\u001b[39m \u001b[39m\"\u001b[39m\u001b[39mbrute\u001b[39m\u001b[39m\"\u001b[39m \u001b[39mand\u001b[39;00m ArgKminClassMode\u001b[39m.\u001b[39;49mis_usable_for(\n\u001b[0;32m    247\u001b[0m         X, \u001b[39mself\u001b[39;49m\u001b[39m.\u001b[39;49m_fit_X, \u001b[39mself\u001b[39;49m\u001b[39m.\u001b[39;49mmetric\n\u001b[0;32m    248\u001b[0m     ):\n\u001b[0;32m    249\u001b[0m         probabilities \u001b[39m=\u001b[39m \u001b[39mself\u001b[39m\u001b[39m.\u001b[39mpredict_proba(X)\n\u001b[0;32m    250\u001b[0m         \u001b[39mif\u001b[39;00m \u001b[39mself\u001b[39m\u001b[39m.\u001b[39moutputs_2d_:\n",
      "File \u001b[1;32mc:\\Users\\andre\\AppData\\Local\\Programs\\Python\\Python39\\lib\\site-packages\\sklearn\\metrics\\_pairwise_distances_reduction\\_dispatcher.py:471\u001b[0m, in \u001b[0;36mArgKminClassMode.is_usable_for\u001b[1;34m(cls, X, Y, metric)\u001b[0m\n\u001b[0;32m    448\u001b[0m \u001b[39m@classmethod\u001b[39m\n\u001b[0;32m    449\u001b[0m \u001b[39mdef\u001b[39;00m \u001b[39mis_usable_for\u001b[39m(\u001b[39mcls\u001b[39m, X, Y, metric) \u001b[39m-\u001b[39m\u001b[39m>\u001b[39m \u001b[39mbool\u001b[39m:\n\u001b[0;32m    450\u001b[0m \u001b[39m    \u001b[39m\u001b[39m\"\"\"Return True if the dispatcher can be used for the given parameters.\u001b[39;00m\n\u001b[0;32m    451\u001b[0m \n\u001b[0;32m    452\u001b[0m \u001b[39m    Parameters\u001b[39;00m\n\u001b[1;32m   (...)\u001b[0m\n\u001b[0;32m    468\u001b[0m \u001b[39m    True if the PairwiseDistancesReduction can be used, else False.\u001b[39;00m\n\u001b[0;32m    469\u001b[0m \u001b[39m    \"\"\"\u001b[39;00m\n\u001b[0;32m    470\u001b[0m     \u001b[39mreturn\u001b[39;00m (\n\u001b[1;32m--> 471\u001b[0m         ArgKmin\u001b[39m.\u001b[39;49mis_usable_for(X, Y, metric)\n\u001b[0;32m    472\u001b[0m         \u001b[39m# TODO: Support CSR matrices.\u001b[39;00m\n\u001b[0;32m    473\u001b[0m         \u001b[39mand\u001b[39;00m \u001b[39mnot\u001b[39;00m issparse(X)\n\u001b[0;32m    474\u001b[0m         \u001b[39mand\u001b[39;00m \u001b[39mnot\u001b[39;00m issparse(Y)\n\u001b[0;32m    475\u001b[0m         \u001b[39m# TODO: implement Euclidean specialization with GEMM.\u001b[39;00m\n\u001b[0;32m    476\u001b[0m         \u001b[39mand\u001b[39;00m metric \u001b[39mnot\u001b[39;00m \u001b[39min\u001b[39;00m (\u001b[39m\"\u001b[39m\u001b[39meuclidean\u001b[39m\u001b[39m\"\u001b[39m, \u001b[39m\"\u001b[39m\u001b[39msqeuclidean\u001b[39m\u001b[39m\"\u001b[39m)\n\u001b[0;32m    477\u001b[0m     )\n",
      "File \u001b[1;32mc:\\Users\\andre\\AppData\\Local\\Programs\\Python\\Python39\\lib\\site-packages\\sklearn\\metrics\\_pairwise_distances_reduction\\_dispatcher.py:115\u001b[0m, in \u001b[0;36mBaseDistancesReductionDispatcher.is_usable_for\u001b[1;34m(cls, X, Y, metric)\u001b[0m\n\u001b[0;32m    101\u001b[0m \u001b[39mdef\u001b[39;00m \u001b[39mis_valid_sparse_matrix\u001b[39m(X):\n\u001b[0;32m    102\u001b[0m     \u001b[39mreturn\u001b[39;00m (\n\u001b[0;32m    103\u001b[0m         isspmatrix_csr(X)\n\u001b[0;32m    104\u001b[0m         \u001b[39mand\u001b[39;00m\n\u001b[1;32m   (...)\u001b[0m\n\u001b[0;32m    110\u001b[0m         X\u001b[39m.\u001b[39mindices\u001b[39m.\u001b[39mdtype \u001b[39m==\u001b[39m X\u001b[39m.\u001b[39mindptr\u001b[39m.\u001b[39mdtype \u001b[39m==\u001b[39m np\u001b[39m.\u001b[39mint32\n\u001b[0;32m    111\u001b[0m     )\n\u001b[0;32m    113\u001b[0m is_usable \u001b[39m=\u001b[39m (\n\u001b[0;32m    114\u001b[0m     get_config()\u001b[39m.\u001b[39mget(\u001b[39m\"\u001b[39m\u001b[39menable_cython_pairwise_dist\u001b[39m\u001b[39m\"\u001b[39m, \u001b[39mTrue\u001b[39;00m)\n\u001b[1;32m--> 115\u001b[0m     \u001b[39mand\u001b[39;00m (is_numpy_c_ordered(X) \u001b[39mor\u001b[39;00m is_valid_sparse_matrix(X))\n\u001b[0;32m    116\u001b[0m     \u001b[39mand\u001b[39;00m (is_numpy_c_ordered(Y) \u001b[39mor\u001b[39;00m is_valid_sparse_matrix(Y))\n\u001b[0;32m    117\u001b[0m     \u001b[39mand\u001b[39;00m X\u001b[39m.\u001b[39mdtype \u001b[39m==\u001b[39m Y\u001b[39m.\u001b[39mdtype\n\u001b[0;32m    118\u001b[0m     \u001b[39mand\u001b[39;00m X\u001b[39m.\u001b[39mdtype \u001b[39min\u001b[39;00m (np\u001b[39m.\u001b[39mfloat32, np\u001b[39m.\u001b[39mfloat64)\n\u001b[0;32m    119\u001b[0m     \u001b[39mand\u001b[39;00m metric \u001b[39min\u001b[39;00m \u001b[39mcls\u001b[39m\u001b[39m.\u001b[39mvalid_metrics()\n\u001b[0;32m    120\u001b[0m )\n\u001b[0;32m    122\u001b[0m \u001b[39mreturn\u001b[39;00m is_usable\n",
      "File \u001b[1;32mc:\\Users\\andre\\AppData\\Local\\Programs\\Python\\Python39\\lib\\site-packages\\sklearn\\metrics\\_pairwise_distances_reduction\\_dispatcher.py:99\u001b[0m, in \u001b[0;36mBaseDistancesReductionDispatcher.is_usable_for.<locals>.is_numpy_c_ordered\u001b[1;34m(X)\u001b[0m\n\u001b[0;32m     98\u001b[0m \u001b[39mdef\u001b[39;00m \u001b[39mis_numpy_c_ordered\u001b[39m(X):\n\u001b[1;32m---> 99\u001b[0m     \u001b[39mreturn\u001b[39;00m \u001b[39mhasattr\u001b[39m(X, \u001b[39m\"\u001b[39m\u001b[39mflags\u001b[39m\u001b[39m\"\u001b[39m) \u001b[39mand\u001b[39;00m X\u001b[39m.\u001b[39;49mflags\u001b[39m.\u001b[39;49mc_contiguous\n",
      "\u001b[1;31mAttributeError\u001b[0m: 'Flags' object has no attribute 'c_contiguous'"
     ]
    }
   ],
   "source": [
    "#f1 score\n",
    "predicciones = model.predict(X_test)\n",
    "predicciones = np.round(predicciones)\n",
    "f1_score(y_test,predicciones,average='macro')"
   ]
  },
  {
   "cell_type": "code",
   "execution_count": null,
   "metadata": {},
   "outputs": [
    {
     "data": {
      "text/plain": [
       "0.7724490903484428"
      ]
     },
     "execution_count": 236,
     "metadata": {},
     "output_type": "execute_result"
    }
   ],
   "source": [
    "#SVM\n",
    "from sklearn.svm import SVC\n",
    "model = SVC(kernel='linear',C=2)\n",
    "\n",
    "#X era\n",
    "\n",
    "\n",
    "predicciones = cross_val_predict(model,X.values,y.values,cv=10)\n",
    "f1_score(y,predicciones,average='macro')"
   ]
  },
  {
   "cell_type": "code",
   "execution_count": null,
   "metadata": {},
   "outputs": [],
   "source": [
    "param_grid = {\n",
    "    'C': [0.1, 1, 10, 100, 1000],\n",
    "    'kernel': ['linear']\n",
    "}\n",
    "\n",
    "grid_search = GridSearchCV(estimator = model, param_grid = param_grid)"
   ]
  },
  {
   "cell_type": "code",
   "execution_count": null,
   "metadata": {},
   "outputs": [
    {
     "data": {
      "text/html": [
       "<style>#sk-container-id-4 {color: black;}#sk-container-id-4 pre{padding: 0;}#sk-container-id-4 div.sk-toggleable {background-color: white;}#sk-container-id-4 label.sk-toggleable__label {cursor: pointer;display: block;width: 100%;margin-bottom: 0;padding: 0.3em;box-sizing: border-box;text-align: center;}#sk-container-id-4 label.sk-toggleable__label-arrow:before {content: \"▸\";float: left;margin-right: 0.25em;color: #696969;}#sk-container-id-4 label.sk-toggleable__label-arrow:hover:before {color: black;}#sk-container-id-4 div.sk-estimator:hover label.sk-toggleable__label-arrow:before {color: black;}#sk-container-id-4 div.sk-toggleable__content {max-height: 0;max-width: 0;overflow: hidden;text-align: left;background-color: #f0f8ff;}#sk-container-id-4 div.sk-toggleable__content pre {margin: 0.2em;color: black;border-radius: 0.25em;background-color: #f0f8ff;}#sk-container-id-4 input.sk-toggleable__control:checked~div.sk-toggleable__content {max-height: 200px;max-width: 100%;overflow: auto;}#sk-container-id-4 input.sk-toggleable__control:checked~label.sk-toggleable__label-arrow:before {content: \"▾\";}#sk-container-id-4 div.sk-estimator input.sk-toggleable__control:checked~label.sk-toggleable__label {background-color: #d4ebff;}#sk-container-id-4 div.sk-label input.sk-toggleable__control:checked~label.sk-toggleable__label {background-color: #d4ebff;}#sk-container-id-4 input.sk-hidden--visually {border: 0;clip: rect(1px 1px 1px 1px);clip: rect(1px, 1px, 1px, 1px);height: 1px;margin: -1px;overflow: hidden;padding: 0;position: absolute;width: 1px;}#sk-container-id-4 div.sk-estimator {font-family: monospace;background-color: #f0f8ff;border: 1px dotted black;border-radius: 0.25em;box-sizing: border-box;margin-bottom: 0.5em;}#sk-container-id-4 div.sk-estimator:hover {background-color: #d4ebff;}#sk-container-id-4 div.sk-parallel-item::after {content: \"\";width: 100%;border-bottom: 1px solid gray;flex-grow: 1;}#sk-container-id-4 div.sk-label:hover label.sk-toggleable__label {background-color: #d4ebff;}#sk-container-id-4 div.sk-serial::before {content: \"\";position: absolute;border-left: 1px solid gray;box-sizing: border-box;top: 0;bottom: 0;left: 50%;z-index: 0;}#sk-container-id-4 div.sk-serial {display: flex;flex-direction: column;align-items: center;background-color: white;padding-right: 0.2em;padding-left: 0.2em;position: relative;}#sk-container-id-4 div.sk-item {position: relative;z-index: 1;}#sk-container-id-4 div.sk-parallel {display: flex;align-items: stretch;justify-content: center;background-color: white;position: relative;}#sk-container-id-4 div.sk-item::before, #sk-container-id-4 div.sk-parallel-item::before {content: \"\";position: absolute;border-left: 1px solid gray;box-sizing: border-box;top: 0;bottom: 0;left: 50%;z-index: -1;}#sk-container-id-4 div.sk-parallel-item {display: flex;flex-direction: column;z-index: 1;position: relative;background-color: white;}#sk-container-id-4 div.sk-parallel-item:first-child::after {align-self: flex-end;width: 50%;}#sk-container-id-4 div.sk-parallel-item:last-child::after {align-self: flex-start;width: 50%;}#sk-container-id-4 div.sk-parallel-item:only-child::after {width: 0;}#sk-container-id-4 div.sk-dashed-wrapped {border: 1px dashed gray;margin: 0 0.4em 0.5em 0.4em;box-sizing: border-box;padding-bottom: 0.4em;background-color: white;}#sk-container-id-4 div.sk-label label {font-family: monospace;font-weight: bold;display: inline-block;line-height: 1.2em;}#sk-container-id-4 div.sk-label-container {text-align: center;}#sk-container-id-4 div.sk-container {/* jupyter's `normalize.less` sets `[hidden] { display: none; }` but bootstrap.min.css set `[hidden] { display: none !important; }` so we also need the `!important` here to be able to override the default hidden behavior on the sphinx rendered scikit-learn.org. See: https://github.com/scikit-learn/scikit-learn/issues/21755 */display: inline-block !important;position: relative;}#sk-container-id-4 div.sk-text-repr-fallback {display: none;}</style><div id=\"sk-container-id-4\" class=\"sk-top-container\"><div class=\"sk-text-repr-fallback\"><pre>GridSearchCV(estimator=SVC(C=5, kernel=&#x27;linear&#x27;),\n",
       "             param_grid={&#x27;C&#x27;: [0.1, 1, 10, 100, 1000], &#x27;kernel&#x27;: [&#x27;linear&#x27;]})</pre><b>In a Jupyter environment, please rerun this cell to show the HTML representation or trust the notebook. <br />On GitHub, the HTML representation is unable to render, please try loading this page with nbviewer.org.</b></div><div class=\"sk-container\" hidden><div class=\"sk-item sk-dashed-wrapped\"><div class=\"sk-label-container\"><div class=\"sk-label sk-toggleable\"><input class=\"sk-toggleable__control sk-hidden--visually\" id=\"sk-estimator-id-6\" type=\"checkbox\" ><label for=\"sk-estimator-id-6\" class=\"sk-toggleable__label sk-toggleable__label-arrow\">GridSearchCV</label><div class=\"sk-toggleable__content\"><pre>GridSearchCV(estimator=SVC(C=5, kernel=&#x27;linear&#x27;),\n",
       "             param_grid={&#x27;C&#x27;: [0.1, 1, 10, 100, 1000], &#x27;kernel&#x27;: [&#x27;linear&#x27;]})</pre></div></div></div><div class=\"sk-parallel\"><div class=\"sk-parallel-item\"><div class=\"sk-item\"><div class=\"sk-label-container\"><div class=\"sk-label sk-toggleable\"><input class=\"sk-toggleable__control sk-hidden--visually\" id=\"sk-estimator-id-7\" type=\"checkbox\" ><label for=\"sk-estimator-id-7\" class=\"sk-toggleable__label sk-toggleable__label-arrow\">estimator: SVC</label><div class=\"sk-toggleable__content\"><pre>SVC(C=5, kernel=&#x27;linear&#x27;)</pre></div></div></div><div class=\"sk-serial\"><div class=\"sk-item\"><div class=\"sk-estimator sk-toggleable\"><input class=\"sk-toggleable__control sk-hidden--visually\" id=\"sk-estimator-id-8\" type=\"checkbox\" ><label for=\"sk-estimator-id-8\" class=\"sk-toggleable__label sk-toggleable__label-arrow\">SVC</label><div class=\"sk-toggleable__content\"><pre>SVC(C=5, kernel=&#x27;linear&#x27;)</pre></div></div></div></div></div></div></div></div></div></div>"
      ],
      "text/plain": [
       "GridSearchCV(estimator=SVC(C=5, kernel='linear'),\n",
       "             param_grid={'C': [0.1, 1, 10, 100, 1000], 'kernel': ['linear']})"
      ]
     },
     "execution_count": 231,
     "metadata": {},
     "output_type": "execute_result"
    }
   ],
   "source": [
    "grid_search.fit(X_train, y_train)"
   ]
  },
  {
   "cell_type": "code",
   "execution_count": null,
   "metadata": {},
   "outputs": [
    {
     "data": {
      "text/plain": [
       "{'C': 1, 'kernel': 'linear'}"
      ]
     },
     "execution_count": 232,
     "metadata": {},
     "output_type": "execute_result"
    }
   ],
   "source": [
    "grid_search.best_params_"
   ]
  },
  {
   "cell_type": "code",
   "execution_count": null,
   "metadata": {},
   "outputs": [
    {
     "data": {
      "text/plain": [
       "0.5335440352830945"
      ]
     },
     "execution_count": 240,
     "metadata": {},
     "output_type": "execute_result"
    }
   ],
   "source": [
    "#gaussian Naive Bayes\n",
    "from sklearn.naive_bayes import GaussianNB\n",
    "model = GaussianNB()\n",
    "model = GaussianNB(var_smoothing=1e-09, priors=None)\n",
    "predicciones = cross_val_predict(model,X,y,cv=10)\n",
    "f1_score(y,predicciones,average='macro')\n"
   ]
  },
  {
   "cell_type": "code",
   "execution_count": null,
   "metadata": {},
   "outputs": [
    {
     "data": {
      "text/plain": [
       "0.6353783341453083"
      ]
     },
     "execution_count": 241,
     "metadata": {},
     "output_type": "execute_result"
    }
   ],
   "source": [
    "#red neuronal\n",
    "from sklearn.neural_network import MLPClassifier\n",
    "model = MLPClassifier(hidden_layer_sizes=(100,100,100),max_iter=500)\n",
    "predicciones = cross_val_predict(model,X,y,cv=10)\n",
    "f1_score(y,predicciones,average='macro')"
   ]
  },
  {
   "cell_type": "code",
   "execution_count": 319,
   "metadata": {},
   "outputs": [],
   "source": [
    "test_nolabel = pd.get_dummies(test_nolabel,columns=['Make','Model','Vehicle Class','Transmission','Fuel Type'],drop_first=True)\n"
   ]
  },
  {
   "cell_type": "code",
   "execution_count": 320,
   "metadata": {},
   "outputs": [],
   "source": [
    "X_test = test_nolabel.drop(['id'],axis=1)"
   ]
  },
  {
   "cell_type": "code",
   "execution_count": 321,
   "metadata": {},
   "outputs": [],
   "source": [
    "X_test = X_test.drop(['Model Year'],axis=1)"
   ]
  },
  {
   "cell_type": "code",
   "execution_count": 323,
   "metadata": {},
   "outputs": [],
   "source": [
    "train = pd.get_dummies(train,columns=['Make','Model','Vehicle Class','Transmission','Fuel Type'],drop_first=True)\n",
    "\n",
    "\n",
    "\n",
    "X = train.drop(['Smog','id','Model Year'],axis=1)#elimi\n",
    "y = train['Smog']"
   ]
  },
  {
   "cell_type": "code",
   "execution_count": 313,
   "metadata": {},
   "outputs": [
    {
     "data": {
      "text/plain": [
       "0      2\n",
       "1      4\n",
       "2      2\n",
       "3      1\n",
       "4      1\n",
       "      ..\n",
       "581    1\n",
       "582    1\n",
       "583    0\n",
       "584    4\n",
       "585    1\n",
       "Name: Smog, Length: 586, dtype: int64"
      ]
     },
     "execution_count": 313,
     "metadata": {},
     "output_type": "execute_result"
    }
   ],
   "source": [
    "y"
   ]
  },
  {
   "cell_type": "code",
   "execution_count": 324,
   "metadata": {},
   "outputs": [
    {
     "data": {
      "text/plain": [
       "570"
      ]
     },
     "execution_count": 324,
     "metadata": {},
     "output_type": "execute_result"
    }
   ],
   "source": [
    "len(X.columns)"
   ]
  },
  {
   "cell_type": "code",
   "execution_count": 326,
   "metadata": {},
   "outputs": [],
   "source": [
    "#quiero que X y X_test tengan las mismas columnas, y sino eliminar las columnas que no estan en X_test\n",
    "\n",
    "#sacar las columna que estan en X y no en X_test\n",
    "columnas = X.columns\n",
    "columnas_test = X_test.columns\n",
    "columnas_no_comunes = [columna for columna in columnas if columna not in columnas_test]\n",
    "X = X.drop(columnas_no_comunes,axis=1)"
   ]
  },
  {
   "cell_type": "code",
   "execution_count": 330,
   "metadata": {},
   "outputs": [],
   "source": [
    "#sacar las columna que estan en X_test y no en X\n",
    "columnas = X.columns\n",
    "columnas_test = X_test.columns\n",
    "columnas_no_comunes = [columna for columna in columnas_test if columna not in columnas]\n",
    "X_test = X_test.drop(columnas_no_comunes,axis=1)"
   ]
  },
  {
   "cell_type": "code",
   "execution_count": 338,
   "metadata": {},
   "outputs": [],
   "source": [
    "#quiero que se me descarga un csv con las predicciones de test_nolabel\n",
    "\n",
    "model = RandomForestRegressor(n_estimators=50, random_state=80)\n",
    "model.fit(X,y)\n",
    "y_pred = model.predict(X_test)"
   ]
  },
  {
   "cell_type": "code",
   "execution_count": 339,
   "metadata": {},
   "outputs": [
    {
     "data": {
      "text/plain": [
       "array([2., 0., 2., 2., 2., 2., 3., 2., 0., 3., 1., 2., 2., 3., 1., 3., 1.,\n",
       "       2., 2., 3., 2., 2., 2., 2., 4., 3., 3., 2., 3., 2., 2., 2., 1., 1.,\n",
       "       2., 4., 4., 3., 2., 3., 2., 2., 3., 0., 4., 2., 1., 2., 3., 2., 3.,\n",
       "       3., 1., 3., 2., 3., 3., 1., 3., 3., 1., 3., 2., 0., 3., 1., 2., 4.,\n",
       "       3., 4., 3., 4., 4., 1., 2., 2., 1., 1., 3., 4., 4., 0., 3., 1., 2.,\n",
       "       3., 0., 2., 2., 4., 3., 4., 3., 2., 3., 1., 2., 2., 2., 1., 2., 4.,\n",
       "       2., 3., 3., 4., 2., 1., 2., 2., 3., 0., 4., 3., 1., 1., 3., 1., 2.,\n",
       "       1., 4., 4., 4., 3., 3., 4., 2., 3., 3., 4., 4., 3., 0., 0., 0., 4.,\n",
       "       2., 3., 3., 3., 3., 2., 2., 2., 1., 3., 2., 2., 3., 4., 3., 3., 3.,\n",
       "       2., 3., 2., 2., 2., 3., 2., 4., 1., 1., 3., 4., 3., 1., 3., 1., 1.,\n",
       "       4., 3., 2., 4., 2., 3., 3., 3., 3., 1., 4., 4., 4., 1., 0., 3., 2.,\n",
       "       1., 2., 2., 3., 2., 3., 3., 0., 2., 2., 3., 0., 1., 2., 3., 2., 2.,\n",
       "       2., 1., 2., 2., 3., 4., 3., 2., 1., 3., 2., 1., 2., 4., 1., 2., 2.,\n",
       "       3., 1., 2., 3., 1., 2., 2., 2., 2., 2., 2., 3., 2., 3., 2., 4., 2.,\n",
       "       3., 3., 3., 2., 3., 3., 3., 4., 3., 2., 4., 2., 2., 1., 3., 4., 2.,\n",
       "       3., 2., 3., 2., 3., 2., 1., 3., 1., 2., 0., 4., 1., 3., 3., 2., 0.,\n",
       "       3., 4., 0., 3., 2., 2., 2., 1., 4., 3., 3., 1., 3., 3., 2., 1., 2.,\n",
       "       1., 1., 3., 4., 1., 4., 2., 2., 3., 0., 3., 1., 3., 1., 3., 0., 3.,\n",
       "       2., 2., 4., 2., 1., 4., 2., 3., 3., 2., 3., 2., 1., 2., 4., 3., 2.,\n",
       "       4., 1., 3., 4., 3., 3., 2., 3., 2., 4., 3., 2., 2., 2., 3., 3., 3.,\n",
       "       1., 3., 2., 2., 1., 2., 2., 2., 3., 4., 4., 2., 2., 2., 3., 2., 3.,\n",
       "       2., 1., 2., 3., 2., 3., 3., 2., 2., 2., 2., 1., 2., 3., 1., 4., 3.,\n",
       "       4., 3., 2., 4., 2., 2., 2., 4., 1., 1., 3., 3., 0., 2., 2., 4.])"
      ]
     },
     "execution_count": 339,
     "metadata": {},
     "output_type": "execute_result"
    }
   ],
   "source": [
    "y_pred = np.round(y_pred)\n",
    "y_pred"
   ]
  },
  {
   "cell_type": "code",
   "execution_count": 340,
   "metadata": {},
   "outputs": [],
   "source": [
    "#dos columnas id y y_pred\n",
    "y_pred = pd.DataFrame({'id':test_nolabel['id'],'Predicted':y_pred})"
   ]
  },
  {
   "cell_type": "code",
   "execution_count": 343,
   "metadata": {},
   "outputs": [],
   "source": [
    "#pasar a int la columna predicted\n",
    "y_pred['Predicted'] = y_pred['Predicted'].astype(int)"
   ]
  },
  {
   "cell_type": "code",
   "execution_count": 344,
   "metadata": {},
   "outputs": [],
   "source": [
    "#csv\n",
    "y_pred.to_csv('submission_1.csv',index=False)"
   ]
  },
  {
   "cell_type": "code",
   "execution_count": 334,
   "metadata": {},
   "outputs": [
    {
     "data": {
      "text/html": [
       "<div>\n",
       "<style scoped>\n",
       "    .dataframe tbody tr th:only-of-type {\n",
       "        vertical-align: middle;\n",
       "    }\n",
       "\n",
       "    .dataframe tbody tr th {\n",
       "        vertical-align: top;\n",
       "    }\n",
       "\n",
       "    .dataframe thead th {\n",
       "        text-align: right;\n",
       "    }\n",
       "</style>\n",
       "<table border=\"1\" class=\"dataframe\">\n",
       "  <thead>\n",
       "    <tr style=\"text-align: right;\">\n",
       "      <th></th>\n",
       "      <th>0</th>\n",
       "    </tr>\n",
       "  </thead>\n",
       "  <tbody>\n",
       "    <tr>\n",
       "      <th>0</th>\n",
       "      <td>2.0</td>\n",
       "    </tr>\n",
       "    <tr>\n",
       "      <th>1</th>\n",
       "      <td>0.0</td>\n",
       "    </tr>\n",
       "    <tr>\n",
       "      <th>2</th>\n",
       "      <td>2.0</td>\n",
       "    </tr>\n",
       "    <tr>\n",
       "      <th>3</th>\n",
       "      <td>2.0</td>\n",
       "    </tr>\n",
       "    <tr>\n",
       "      <th>4</th>\n",
       "      <td>2.0</td>\n",
       "    </tr>\n",
       "    <tr>\n",
       "      <th>...</th>\n",
       "      <td>...</td>\n",
       "    </tr>\n",
       "    <tr>\n",
       "      <th>385</th>\n",
       "      <td>3.0</td>\n",
       "    </tr>\n",
       "    <tr>\n",
       "      <th>386</th>\n",
       "      <td>0.0</td>\n",
       "    </tr>\n",
       "    <tr>\n",
       "      <th>387</th>\n",
       "      <td>2.0</td>\n",
       "    </tr>\n",
       "    <tr>\n",
       "      <th>388</th>\n",
       "      <td>2.0</td>\n",
       "    </tr>\n",
       "    <tr>\n",
       "      <th>389</th>\n",
       "      <td>4.0</td>\n",
       "    </tr>\n",
       "  </tbody>\n",
       "</table>\n",
       "<p>390 rows × 1 columns</p>\n",
       "</div>"
      ],
      "text/plain": [
       "       0\n",
       "0    2.0\n",
       "1    0.0\n",
       "2    2.0\n",
       "3    2.0\n",
       "4    2.0\n",
       "..   ...\n",
       "385  3.0\n",
       "386  0.0\n",
       "387  2.0\n",
       "388  2.0\n",
       "389  4.0\n",
       "\n",
       "[390 rows x 1 columns]"
      ]
     },
     "execution_count": 334,
     "metadata": {},
     "output_type": "execute_result"
    }
   ],
   "source": [
    "y_pred"
   ]
  },
  {
   "cell_type": "code",
   "execution_count": 335,
   "metadata": {},
   "outputs": [],
   "source": [
    "y_pred.index = test_nolabel['id']\n",
    "#columna de 0 sea predicted\n",
    "y_pred.columns = ['Predicted']"
   ]
  },
  {
   "cell_type": "code",
   "execution_count": 336,
   "metadata": {},
   "outputs": [
    {
     "data": {
      "text/html": [
       "<div>\n",
       "<style scoped>\n",
       "    .dataframe tbody tr th:only-of-type {\n",
       "        vertical-align: middle;\n",
       "    }\n",
       "\n",
       "    .dataframe tbody tr th {\n",
       "        vertical-align: top;\n",
       "    }\n",
       "\n",
       "    .dataframe thead th {\n",
       "        text-align: right;\n",
       "    }\n",
       "</style>\n",
       "<table border=\"1\" class=\"dataframe\">\n",
       "  <thead>\n",
       "    <tr style=\"text-align: right;\">\n",
       "      <th></th>\n",
       "      <th>Predicted</th>\n",
       "    </tr>\n",
       "    <tr>\n",
       "      <th>id</th>\n",
       "      <th></th>\n",
       "    </tr>\n",
       "  </thead>\n",
       "  <tbody>\n",
       "    <tr>\n",
       "      <th>2be023f9102</th>\n",
       "      <td>2.0</td>\n",
       "    </tr>\n",
       "    <tr>\n",
       "      <th>a320ba7de7b</th>\n",
       "      <td>0.0</td>\n",
       "    </tr>\n",
       "    <tr>\n",
       "      <th>2879e8fa078</th>\n",
       "      <td>2.0</td>\n",
       "    </tr>\n",
       "    <tr>\n",
       "      <th>a561b6ee65b</th>\n",
       "      <td>2.0</td>\n",
       "    </tr>\n",
       "    <tr>\n",
       "      <th>94c225dd8e9</th>\n",
       "      <td>2.0</td>\n",
       "    </tr>\n",
       "    <tr>\n",
       "      <th>...</th>\n",
       "      <td>...</td>\n",
       "    </tr>\n",
       "    <tr>\n",
       "      <th>57e82961151</th>\n",
       "      <td>3.0</td>\n",
       "    </tr>\n",
       "    <tr>\n",
       "      <th>cb37ae8f0fd</th>\n",
       "      <td>0.0</td>\n",
       "    </tr>\n",
       "    <tr>\n",
       "      <th>6da7a57b43b</th>\n",
       "      <td>2.0</td>\n",
       "    </tr>\n",
       "    <tr>\n",
       "      <th>634dd375b56</th>\n",
       "      <td>2.0</td>\n",
       "    </tr>\n",
       "    <tr>\n",
       "      <th>fd4ef28db51</th>\n",
       "      <td>4.0</td>\n",
       "    </tr>\n",
       "  </tbody>\n",
       "</table>\n",
       "<p>390 rows × 1 columns</p>\n",
       "</div>"
      ],
      "text/plain": [
       "             Predicted\n",
       "id                    \n",
       "2be023f9102        2.0\n",
       "a320ba7de7b        0.0\n",
       "2879e8fa078        2.0\n",
       "a561b6ee65b        2.0\n",
       "94c225dd8e9        2.0\n",
       "...                ...\n",
       "57e82961151        3.0\n",
       "cb37ae8f0fd        0.0\n",
       "6da7a57b43b        2.0\n",
       "634dd375b56        2.0\n",
       "fd4ef28db51        4.0\n",
       "\n",
       "[390 rows x 1 columns]"
      ]
     },
     "execution_count": 336,
     "metadata": {},
     "output_type": "execute_result"
    }
   ],
   "source": [
    "y_pred"
   ]
  }
 ],
 "metadata": {
  "kernelspec": {
   "display_name": "Python 3",
   "language": "python",
   "name": "python3"
  },
  "language_info": {
   "codemirror_mode": {
    "name": "ipython",
    "version": 3
   },
   "file_extension": ".py",
   "mimetype": "text/x-python",
   "name": "python",
   "nbconvert_exporter": "python",
   "pygments_lexer": "ipython3",
   "version": "3.9.7"
  }
 },
 "nbformat": 4,
 "nbformat_minor": 2
}
