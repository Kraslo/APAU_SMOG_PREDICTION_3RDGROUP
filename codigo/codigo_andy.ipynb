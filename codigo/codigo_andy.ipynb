{
 "cells": [
  {
   "cell_type": "markdown",
   "metadata": {},
   "source": [
    "# Conocimiento de código"
   ]
  },
  {
   "cell_type": "markdown",
   "metadata": {},
   "source": [
    "## Librerías y funciones"
   ]
  },
  {
   "cell_type": "code",
   "execution_count": 1,
   "metadata": {},
   "outputs": [],
   "source": [
    "import pandas as pd\n",
    "import numpy as np\n",
    "import os\n",
    "from IPython.display import clear_output\n",
    "import matplotlib.pyplot as plt\n",
    "\n",
    "\n",
    "\n",
    "def ver_Nan(df,columns):\n",
    "    for column in columns:\n",
    "        text = f'NaN? - {column.upper()} '\n",
    "        \n",
    "        isNa = df[column].isna().any()\n",
    "        print(f'{text.ljust(50)} {isNa}')\n",
    "\n"
   ]
  },
  {
   "cell_type": "code",
   "execution_count": null,
   "metadata": {},
   "outputs": [],
   "source": []
  },
  {
   "cell_type": "markdown",
   "metadata": {},
   "source": [
    "## Lectura de datos"
   ]
  },
  {
   "cell_type": "markdown",
   "metadata": {},
   "source": [
    "Vamos a primero comprender los disntintos datasets que nos han facilitado el concurso. Para ello, vamos a cargar los datos y a ver qué información contienen."
   ]
  },
  {
   "cell_type": "code",
   "execution_count": 2,
   "metadata": {},
   "outputs": [],
   "source": [
    "directorio = '../apau-smog-prediction/'\n",
    "lista = os.listdir(directorio)\n",
    "for i in lista:\n",
    "    exec(i.split('.')[0] + ' = pd.read_csv(directorio + i)')"
   ]
  },
  {
   "cell_type": "markdown",
   "metadata": {},
   "source": [
    "\n",
    "- sample_subsimmision, ejemplo de cómo debe ser el fichero de salida (la predicción)\n",
    "- test_nolabel, datos de test sin etiquetar (podemos observar que no tenemos la columna de la etiqueta -Smog-)\n",
    "- train, datos de entrenamiento \n",
    "\n"
   ]
  },
  {
   "cell_type": "code",
   "execution_count": 3,
   "metadata": {},
   "outputs": [
    {
     "data": {
      "text/html": [
       "<div>\n",
       "<style scoped>\n",
       "    .dataframe tbody tr th:only-of-type {\n",
       "        vertical-align: middle;\n",
       "    }\n",
       "\n",
       "    .dataframe tbody tr th {\n",
       "        vertical-align: top;\n",
       "    }\n",
       "\n",
       "    .dataframe thead th {\n",
       "        text-align: right;\n",
       "    }\n",
       "</style>\n",
       "<table border=\"1\" class=\"dataframe\">\n",
       "  <thead>\n",
       "    <tr style=\"text-align: right;\">\n",
       "      <th></th>\n",
       "      <th>id</th>\n",
       "      <th>Predicted</th>\n",
       "    </tr>\n",
       "  </thead>\n",
       "  <tbody>\n",
       "    <tr>\n",
       "      <th>0</th>\n",
       "      <td>2be023f9102</td>\n",
       "      <td>2</td>\n",
       "    </tr>\n",
       "    <tr>\n",
       "      <th>1</th>\n",
       "      <td>a320ba7de7b</td>\n",
       "      <td>3</td>\n",
       "    </tr>\n",
       "    <tr>\n",
       "      <th>2</th>\n",
       "      <td>2879e8fa078</td>\n",
       "      <td>0</td>\n",
       "    </tr>\n",
       "    <tr>\n",
       "      <th>3</th>\n",
       "      <td>a561b6ee65b</td>\n",
       "      <td>2</td>\n",
       "    </tr>\n",
       "    <tr>\n",
       "      <th>4</th>\n",
       "      <td>94c225dd8e9</td>\n",
       "      <td>1</td>\n",
       "    </tr>\n",
       "  </tbody>\n",
       "</table>\n",
       "</div>"
      ],
      "text/plain": [
       "            id  Predicted\n",
       "0  2be023f9102          2\n",
       "1  a320ba7de7b          3\n",
       "2  2879e8fa078          0\n",
       "3  a561b6ee65b          2\n",
       "4  94c225dd8e9          1"
      ]
     },
     "execution_count": 3,
     "metadata": {},
     "output_type": "execute_result"
    }
   ],
   "source": [
    "sample_submission.head()"
   ]
  },
  {
   "cell_type": "code",
   "execution_count": 4,
   "metadata": {},
   "outputs": [
    {
     "data": {
      "text/html": [
       "<div>\n",
       "<style scoped>\n",
       "    .dataframe tbody tr th:only-of-type {\n",
       "        vertical-align: middle;\n",
       "    }\n",
       "\n",
       "    .dataframe tbody tr th {\n",
       "        vertical-align: top;\n",
       "    }\n",
       "\n",
       "    .dataframe thead th {\n",
       "        text-align: right;\n",
       "    }\n",
       "</style>\n",
       "<table border=\"1\" class=\"dataframe\">\n",
       "  <thead>\n",
       "    <tr style=\"text-align: right;\">\n",
       "      <th></th>\n",
       "      <th>id</th>\n",
       "      <th>Model Year</th>\n",
       "      <th>Make</th>\n",
       "      <th>Model</th>\n",
       "      <th>Vehicle Class</th>\n",
       "      <th>Engine Size (L)</th>\n",
       "      <th>Cylinders</th>\n",
       "      <th>Transmission</th>\n",
       "      <th>Fuel Type</th>\n",
       "      <th>Fuel Consumption City (L/100 km)</th>\n",
       "      <th>Hwy (L/100 km)</th>\n",
       "      <th>Comb (L/100 km)</th>\n",
       "      <th>Comb (mpg)</th>\n",
       "      <th>CO2 Emissions (g/km)</th>\n",
       "    </tr>\n",
       "  </thead>\n",
       "  <tbody>\n",
       "    <tr>\n",
       "      <th>0</th>\n",
       "      <td>2be023f9102</td>\n",
       "      <td>2022</td>\n",
       "      <td>Jeep</td>\n",
       "      <td>Wagoneer 4X4</td>\n",
       "      <td>SUV: Standard</td>\n",
       "      <td>5.7</td>\n",
       "      <td>8</td>\n",
       "      <td>A8</td>\n",
       "      <td>X</td>\n",
       "      <td>15.6</td>\n",
       "      <td>11.7</td>\n",
       "      <td>13.8</td>\n",
       "      <td>20</td>\n",
       "      <td>323</td>\n",
       "    </tr>\n",
       "    <tr>\n",
       "      <th>1</th>\n",
       "      <td>a320ba7de7b</td>\n",
       "      <td>2022</td>\n",
       "      <td>Porsche</td>\n",
       "      <td>718 Boxster</td>\n",
       "      <td>Two-seater</td>\n",
       "      <td>2.0</td>\n",
       "      <td>4</td>\n",
       "      <td>M6</td>\n",
       "      <td>Z</td>\n",
       "      <td>11.7</td>\n",
       "      <td>8.9</td>\n",
       "      <td>10.5</td>\n",
       "      <td>27</td>\n",
       "      <td>245</td>\n",
       "    </tr>\n",
       "    <tr>\n",
       "      <th>2</th>\n",
       "      <td>2879e8fa078</td>\n",
       "      <td>2022</td>\n",
       "      <td>Chrysler</td>\n",
       "      <td>Grand Caravan</td>\n",
       "      <td>Minivan</td>\n",
       "      <td>3.6</td>\n",
       "      <td>6</td>\n",
       "      <td>A9</td>\n",
       "      <td>X</td>\n",
       "      <td>12.4</td>\n",
       "      <td>8.4</td>\n",
       "      <td>10.6</td>\n",
       "      <td>27</td>\n",
       "      <td>249</td>\n",
       "    </tr>\n",
       "    <tr>\n",
       "      <th>3</th>\n",
       "      <td>a561b6ee65b</td>\n",
       "      <td>2022</td>\n",
       "      <td>Kia</td>\n",
       "      <td>Sorento AWD</td>\n",
       "      <td>SUV: Small</td>\n",
       "      <td>2.5</td>\n",
       "      <td>4</td>\n",
       "      <td>AM8</td>\n",
       "      <td>X</td>\n",
       "      <td>10.9</td>\n",
       "      <td>8.7</td>\n",
       "      <td>9.9</td>\n",
       "      <td>29</td>\n",
       "      <td>234</td>\n",
       "    </tr>\n",
       "    <tr>\n",
       "      <th>4</th>\n",
       "      <td>94c225dd8e9</td>\n",
       "      <td>2022</td>\n",
       "      <td>Bentley</td>\n",
       "      <td>Continental GT</td>\n",
       "      <td>Subcompact</td>\n",
       "      <td>4.0</td>\n",
       "      <td>8</td>\n",
       "      <td>AM8</td>\n",
       "      <td>Z</td>\n",
       "      <td>14.9</td>\n",
       "      <td>9.0</td>\n",
       "      <td>12.2</td>\n",
       "      <td>23</td>\n",
       "      <td>287</td>\n",
       "    </tr>\n",
       "  </tbody>\n",
       "</table>\n",
       "</div>"
      ],
      "text/plain": [
       "            id  Model Year      Make           Model  Vehicle Class  \\\n",
       "0  2be023f9102        2022      Jeep    Wagoneer 4X4  SUV: Standard   \n",
       "1  a320ba7de7b        2022   Porsche     718 Boxster     Two-seater   \n",
       "2  2879e8fa078        2022  Chrysler   Grand Caravan        Minivan   \n",
       "3  a561b6ee65b        2022       Kia     Sorento AWD     SUV: Small   \n",
       "4  94c225dd8e9        2022   Bentley  Continental GT     Subcompact   \n",
       "\n",
       "   Engine Size (L)  Cylinders Transmission Fuel Type  \\\n",
       "0              5.7          8           A8         X   \n",
       "1              2.0          4           M6         Z   \n",
       "2              3.6          6           A9         X   \n",
       "3              2.5          4          AM8         X   \n",
       "4              4.0          8          AM8         Z   \n",
       "\n",
       "   Fuel Consumption City (L/100 km)  Hwy (L/100 km)  Comb (L/100 km)  \\\n",
       "0                              15.6            11.7             13.8   \n",
       "1                              11.7             8.9             10.5   \n",
       "2                              12.4             8.4             10.6   \n",
       "3                              10.9             8.7              9.9   \n",
       "4                              14.9             9.0             12.2   \n",
       "\n",
       "   Comb (mpg)  CO2 Emissions (g/km)  \n",
       "0          20                   323  \n",
       "1          27                   245  \n",
       "2          27                   249  \n",
       "3          29                   234  \n",
       "4          23                   287  "
      ]
     },
     "execution_count": 4,
     "metadata": {},
     "output_type": "execute_result"
    }
   ],
   "source": [
    "test_nolabel.head()"
   ]
  },
  {
   "cell_type": "code",
   "execution_count": 5,
   "metadata": {},
   "outputs": [
    {
     "data": {
      "text/html": [
       "<div>\n",
       "<style scoped>\n",
       "    .dataframe tbody tr th:only-of-type {\n",
       "        vertical-align: middle;\n",
       "    }\n",
       "\n",
       "    .dataframe tbody tr th {\n",
       "        vertical-align: top;\n",
       "    }\n",
       "\n",
       "    .dataframe thead th {\n",
       "        text-align: right;\n",
       "    }\n",
       "</style>\n",
       "<table border=\"1\" class=\"dataframe\">\n",
       "  <thead>\n",
       "    <tr style=\"text-align: right;\">\n",
       "      <th></th>\n",
       "      <th>id</th>\n",
       "      <th>Model Year</th>\n",
       "      <th>Make</th>\n",
       "      <th>Model</th>\n",
       "      <th>Vehicle Class</th>\n",
       "      <th>Engine Size (L)</th>\n",
       "      <th>Cylinders</th>\n",
       "      <th>Transmission</th>\n",
       "      <th>Fuel Type</th>\n",
       "      <th>Fuel Consumption City (L/100 km)</th>\n",
       "      <th>Hwy (L/100 km)</th>\n",
       "      <th>Comb (L/100 km)</th>\n",
       "      <th>Comb (mpg)</th>\n",
       "      <th>CO2 Emissions (g/km)</th>\n",
       "      <th>Smog</th>\n",
       "    </tr>\n",
       "  </thead>\n",
       "  <tbody>\n",
       "    <tr>\n",
       "      <th>0</th>\n",
       "      <td>ab44e9bec15</td>\n",
       "      <td>2022</td>\n",
       "      <td>Mercedes-Benz</td>\n",
       "      <td>A 250 4MATIC Hatch</td>\n",
       "      <td>Station wagon: Small</td>\n",
       "      <td>2.0</td>\n",
       "      <td>4</td>\n",
       "      <td>AM7</td>\n",
       "      <td>Z</td>\n",
       "      <td>10.0</td>\n",
       "      <td>7.0</td>\n",
       "      <td>8.7</td>\n",
       "      <td>32</td>\n",
       "      <td>202</td>\n",
       "      <td>2</td>\n",
       "    </tr>\n",
       "    <tr>\n",
       "      <th>1</th>\n",
       "      <td>45926762371</td>\n",
       "      <td>2022</td>\n",
       "      <td>Mazda</td>\n",
       "      <td>Mazda3 5-Door</td>\n",
       "      <td>Mid-size</td>\n",
       "      <td>2.0</td>\n",
       "      <td>4</td>\n",
       "      <td>AS6</td>\n",
       "      <td>X</td>\n",
       "      <td>8.6</td>\n",
       "      <td>6.7</td>\n",
       "      <td>7.7</td>\n",
       "      <td>37</td>\n",
       "      <td>181</td>\n",
       "      <td>4</td>\n",
       "    </tr>\n",
       "    <tr>\n",
       "      <th>2</th>\n",
       "      <td>e9be56e153f</td>\n",
       "      <td>2022</td>\n",
       "      <td>Porsche</td>\n",
       "      <td>Panamera 4 ST</td>\n",
       "      <td>Full-size</td>\n",
       "      <td>2.9</td>\n",
       "      <td>6</td>\n",
       "      <td>AM8</td>\n",
       "      <td>Z</td>\n",
       "      <td>12.8</td>\n",
       "      <td>10.2</td>\n",
       "      <td>11.7</td>\n",
       "      <td>24</td>\n",
       "      <td>274</td>\n",
       "      <td>2</td>\n",
       "    </tr>\n",
       "    <tr>\n",
       "      <th>3</th>\n",
       "      <td>077092760df</td>\n",
       "      <td>2022</td>\n",
       "      <td>Mazda</td>\n",
       "      <td>CX-3 4WD</td>\n",
       "      <td>Compact</td>\n",
       "      <td>2.0</td>\n",
       "      <td>4</td>\n",
       "      <td>AS6</td>\n",
       "      <td>X</td>\n",
       "      <td>8.6</td>\n",
       "      <td>7.4</td>\n",
       "      <td>8.1</td>\n",
       "      <td>35</td>\n",
       "      <td>189</td>\n",
       "      <td>1</td>\n",
       "    </tr>\n",
       "    <tr>\n",
       "      <th>4</th>\n",
       "      <td>c1c2579b795</td>\n",
       "      <td>2022</td>\n",
       "      <td>Aston Martin</td>\n",
       "      <td>DBS V12</td>\n",
       "      <td>Minicompact</td>\n",
       "      <td>5.2</td>\n",
       "      <td>12</td>\n",
       "      <td>A8</td>\n",
       "      <td>Z</td>\n",
       "      <td>16.4</td>\n",
       "      <td>10.7</td>\n",
       "      <td>13.8</td>\n",
       "      <td>20</td>\n",
       "      <td>324</td>\n",
       "      <td>1</td>\n",
       "    </tr>\n",
       "  </tbody>\n",
       "</table>\n",
       "</div>"
      ],
      "text/plain": [
       "            id  Model Year           Make               Model  \\\n",
       "0  ab44e9bec15        2022  Mercedes-Benz  A 250 4MATIC Hatch   \n",
       "1  45926762371        2022          Mazda       Mazda3 5-Door   \n",
       "2  e9be56e153f        2022        Porsche       Panamera 4 ST   \n",
       "3  077092760df        2022          Mazda            CX-3 4WD   \n",
       "4  c1c2579b795        2022   Aston Martin             DBS V12   \n",
       "\n",
       "          Vehicle Class  Engine Size (L)  Cylinders Transmission Fuel Type  \\\n",
       "0  Station wagon: Small              2.0          4          AM7         Z   \n",
       "1              Mid-size              2.0          4          AS6         X   \n",
       "2             Full-size              2.9          6          AM8         Z   \n",
       "3               Compact              2.0          4          AS6         X   \n",
       "4           Minicompact              5.2         12           A8         Z   \n",
       "\n",
       "   Fuel Consumption City (L/100 km)  Hwy (L/100 km)  Comb (L/100 km)  \\\n",
       "0                              10.0             7.0              8.7   \n",
       "1                               8.6             6.7              7.7   \n",
       "2                              12.8            10.2             11.7   \n",
       "3                               8.6             7.4              8.1   \n",
       "4                              16.4            10.7             13.8   \n",
       "\n",
       "   Comb (mpg)  CO2 Emissions (g/km)  Smog  \n",
       "0          32                   202     2  \n",
       "1          37                   181     4  \n",
       "2          24                   274     2  \n",
       "3          35                   189     1  \n",
       "4          20                   324     1  "
      ]
     },
     "execution_count": 5,
     "metadata": {},
     "output_type": "execute_result"
    }
   ],
   "source": [
    "train.head()"
   ]
  },
  {
   "cell_type": "markdown",
   "metadata": {},
   "source": [
    "## Limpieza de datos"
   ]
  },
  {
   "cell_type": "markdown",
   "metadata": {},
   "source": [
    "La limpieza de datos se va a llevar a cabo sobre dataset de entrenamiento y de test. Dicha limpieza consiste en:\n",
    "1. Encontrar valores nulos y estudiar si se pueden eliminar o rellenar con algún valor\n",
    "2. Estudio de las distintas variables\n",
    "3. Estudio de variables que puedan ser buenos predictores\n",
    "\n",
    "\n",
    "\n",
    "\n"
   ]
  },
  {
   "cell_type": "markdown",
   "metadata": {},
   "source": [
    "### 1. Encontrar valores nulos y estudiar si se pueden eliminar o rellenar con algún valor"
   ]
  },
  {
   "cell_type": "code",
   "execution_count": 6,
   "metadata": {},
   "outputs": [
    {
     "name": "stdout",
     "output_type": "stream",
     "text": [
      "NaN? - ID                                          False\n",
      "NaN? - MODEL YEAR                                  False\n",
      "NaN? - MAKE                                        False\n",
      "NaN? - MODEL                                       False\n",
      "NaN? - VEHICLE CLASS                               False\n",
      "NaN? - ENGINE SIZE (L)                             False\n",
      "NaN? - CYLINDERS                                   False\n",
      "NaN? - TRANSMISSION                                False\n",
      "NaN? - FUEL TYPE                                   False\n",
      "NaN? - FUEL CONSUMPTION CITY (L/100 KM)            False\n",
      "NaN? - HWY (L/100 KM)                              False\n",
      "NaN? - COMB (L/100 KM)                             False\n",
      "NaN? - COMB (MPG)                                  False\n",
      "NaN? - CO2 EMISSIONS (G/KM)                        False\n",
      "NaN? - SMOG                                        False\n"
     ]
    }
   ],
   "source": [
    "ver_Nan(train,train.columns)"
   ]
  },
  {
   "cell_type": "code",
   "execution_count": 7,
   "metadata": {},
   "outputs": [
    {
     "name": "stdout",
     "output_type": "stream",
     "text": [
      "NaN? - ID                                          False\n",
      "NaN? - MODEL YEAR                                  False\n",
      "NaN? - MAKE                                        False\n",
      "NaN? - MODEL                                       False\n",
      "NaN? - VEHICLE CLASS                               False\n",
      "NaN? - ENGINE SIZE (L)                             False\n",
      "NaN? - CYLINDERS                                   False\n",
      "NaN? - TRANSMISSION                                False\n",
      "NaN? - FUEL TYPE                                   False\n",
      "NaN? - FUEL CONSUMPTION CITY (L/100 KM)            False\n",
      "NaN? - HWY (L/100 KM)                              False\n",
      "NaN? - COMB (L/100 KM)                             False\n",
      "NaN? - COMB (MPG)                                  False\n",
      "NaN? - CO2 EMISSIONS (G/KM)                        False\n"
     ]
    },
    {
     "data": {
      "text/plain": [
       "'Comprobamos por si acaso en el dataset de test_nolabel hay valores NaN, para tenerlo en cuenta en el futuro'"
      ]
     },
     "execution_count": 7,
     "metadata": {},
     "output_type": "execute_result"
    }
   ],
   "source": [
    "ver_Nan(test_nolabel,test_nolabel.columns)\n",
    "'''Comprobamos por si acaso en el dataset de test_nolabel hay valores NaN, para tenerlo en cuenta en el futuro'''"
   ]
  },
  {
   "cell_type": "code",
   "execution_count": 8,
   "metadata": {},
   "outputs": [
    {
     "data": {
      "text/html": [
       "<div>\n",
       "<style scoped>\n",
       "    .dataframe tbody tr th:only-of-type {\n",
       "        vertical-align: middle;\n",
       "    }\n",
       "\n",
       "    .dataframe tbody tr th {\n",
       "        vertical-align: top;\n",
       "    }\n",
       "\n",
       "    .dataframe thead th {\n",
       "        text-align: right;\n",
       "    }\n",
       "</style>\n",
       "<table border=\"1\" class=\"dataframe\">\n",
       "  <thead>\n",
       "    <tr style=\"text-align: right;\">\n",
       "      <th></th>\n",
       "      <th>Model Year</th>\n",
       "      <th>Engine Size (L)</th>\n",
       "      <th>Cylinders</th>\n",
       "      <th>Fuel Consumption City (L/100 km)</th>\n",
       "      <th>Hwy (L/100 km)</th>\n",
       "      <th>Comb (L/100 km)</th>\n",
       "      <th>Comb (mpg)</th>\n",
       "      <th>CO2 Emissions (g/km)</th>\n",
       "      <th>Smog</th>\n",
       "    </tr>\n",
       "  </thead>\n",
       "  <tbody>\n",
       "    <tr>\n",
       "      <th>Model Year</th>\n",
       "      <td>NaN</td>\n",
       "      <td>NaN</td>\n",
       "      <td>NaN</td>\n",
       "      <td>NaN</td>\n",
       "      <td>NaN</td>\n",
       "      <td>NaN</td>\n",
       "      <td>NaN</td>\n",
       "      <td>NaN</td>\n",
       "      <td>NaN</td>\n",
       "    </tr>\n",
       "    <tr>\n",
       "      <th>Engine Size (L)</th>\n",
       "      <td>NaN</td>\n",
       "      <td>1.000000</td>\n",
       "      <td>0.916857</td>\n",
       "      <td>0.823824</td>\n",
       "      <td>0.722882</td>\n",
       "      <td>0.802054</td>\n",
       "      <td>-0.713731</td>\n",
       "      <td>0.808957</td>\n",
       "      <td>-0.385252</td>\n",
       "    </tr>\n",
       "    <tr>\n",
       "      <th>Cylinders</th>\n",
       "      <td>NaN</td>\n",
       "      <td>0.916857</td>\n",
       "      <td>1.000000</td>\n",
       "      <td>0.836961</td>\n",
       "      <td>0.716359</td>\n",
       "      <td>0.808126</td>\n",
       "      <td>-0.709976</td>\n",
       "      <td>0.819685</td>\n",
       "      <td>-0.452239</td>\n",
       "    </tr>\n",
       "    <tr>\n",
       "      <th>Fuel Consumption City (L/100 km)</th>\n",
       "      <td>NaN</td>\n",
       "      <td>0.823824</td>\n",
       "      <td>0.836961</td>\n",
       "      <td>1.000000</td>\n",
       "      <td>0.917850</td>\n",
       "      <td>0.989132</td>\n",
       "      <td>-0.925557</td>\n",
       "      <td>0.962071</td>\n",
       "      <td>-0.485874</td>\n",
       "    </tr>\n",
       "    <tr>\n",
       "      <th>Hwy (L/100 km)</th>\n",
       "      <td>NaN</td>\n",
       "      <td>0.722882</td>\n",
       "      <td>0.716359</td>\n",
       "      <td>0.917850</td>\n",
       "      <td>1.000000</td>\n",
       "      <td>0.966028</td>\n",
       "      <td>-0.888538</td>\n",
       "      <td>0.933776</td>\n",
       "      <td>-0.374793</td>\n",
       "    </tr>\n",
       "    <tr>\n",
       "      <th>Comb (L/100 km)</th>\n",
       "      <td>NaN</td>\n",
       "      <td>0.802054</td>\n",
       "      <td>0.808126</td>\n",
       "      <td>0.989132</td>\n",
       "      <td>0.966028</td>\n",
       "      <td>1.000000</td>\n",
       "      <td>-0.930041</td>\n",
       "      <td>0.970278</td>\n",
       "      <td>-0.454922</td>\n",
       "    </tr>\n",
       "    <tr>\n",
       "      <th>Comb (mpg)</th>\n",
       "      <td>NaN</td>\n",
       "      <td>-0.713731</td>\n",
       "      <td>-0.709976</td>\n",
       "      <td>-0.925557</td>\n",
       "      <td>-0.888538</td>\n",
       "      <td>-0.930041</td>\n",
       "      <td>1.000000</td>\n",
       "      <td>-0.926047</td>\n",
       "      <td>0.475578</td>\n",
       "    </tr>\n",
       "    <tr>\n",
       "      <th>CO2 Emissions (g/km)</th>\n",
       "      <td>NaN</td>\n",
       "      <td>0.808957</td>\n",
       "      <td>0.819685</td>\n",
       "      <td>0.962071</td>\n",
       "      <td>0.933776</td>\n",
       "      <td>0.970278</td>\n",
       "      <td>-0.926047</td>\n",
       "      <td>1.000000</td>\n",
       "      <td>-0.481380</td>\n",
       "    </tr>\n",
       "    <tr>\n",
       "      <th>Smog</th>\n",
       "      <td>NaN</td>\n",
       "      <td>-0.385252</td>\n",
       "      <td>-0.452239</td>\n",
       "      <td>-0.485874</td>\n",
       "      <td>-0.374793</td>\n",
       "      <td>-0.454922</td>\n",
       "      <td>0.475578</td>\n",
       "      <td>-0.481380</td>\n",
       "      <td>1.000000</td>\n",
       "    </tr>\n",
       "  </tbody>\n",
       "</table>\n",
       "</div>"
      ],
      "text/plain": [
       "                                  Model Year  Engine Size (L)  Cylinders  \\\n",
       "Model Year                               NaN              NaN        NaN   \n",
       "Engine Size (L)                          NaN         1.000000   0.916857   \n",
       "Cylinders                                NaN         0.916857   1.000000   \n",
       "Fuel Consumption City (L/100 km)         NaN         0.823824   0.836961   \n",
       "Hwy (L/100 km)                           NaN         0.722882   0.716359   \n",
       "Comb (L/100 km)                          NaN         0.802054   0.808126   \n",
       "Comb (mpg)                               NaN        -0.713731  -0.709976   \n",
       "CO2 Emissions (g/km)                     NaN         0.808957   0.819685   \n",
       "Smog                                     NaN        -0.385252  -0.452239   \n",
       "\n",
       "                                  Fuel Consumption City (L/100 km)  \\\n",
       "Model Year                                                     NaN   \n",
       "Engine Size (L)                                           0.823824   \n",
       "Cylinders                                                 0.836961   \n",
       "Fuel Consumption City (L/100 km)                          1.000000   \n",
       "Hwy (L/100 km)                                            0.917850   \n",
       "Comb (L/100 km)                                           0.989132   \n",
       "Comb (mpg)                                               -0.925557   \n",
       "CO2 Emissions (g/km)                                      0.962071   \n",
       "Smog                                                     -0.485874   \n",
       "\n",
       "                                  Hwy (L/100 km)  Comb (L/100 km)  Comb (mpg)  \\\n",
       "Model Year                                   NaN              NaN         NaN   \n",
       "Engine Size (L)                         0.722882         0.802054   -0.713731   \n",
       "Cylinders                               0.716359         0.808126   -0.709976   \n",
       "Fuel Consumption City (L/100 km)        0.917850         0.989132   -0.925557   \n",
       "Hwy (L/100 km)                          1.000000         0.966028   -0.888538   \n",
       "Comb (L/100 km)                         0.966028         1.000000   -0.930041   \n",
       "Comb (mpg)                             -0.888538        -0.930041    1.000000   \n",
       "CO2 Emissions (g/km)                    0.933776         0.970278   -0.926047   \n",
       "Smog                                   -0.374793        -0.454922    0.475578   \n",
       "\n",
       "                                  CO2 Emissions (g/km)      Smog  \n",
       "Model Year                                         NaN       NaN  \n",
       "Engine Size (L)                               0.808957 -0.385252  \n",
       "Cylinders                                     0.819685 -0.452239  \n",
       "Fuel Consumption City (L/100 km)              0.962071 -0.485874  \n",
       "Hwy (L/100 km)                                0.933776 -0.374793  \n",
       "Comb (L/100 km)                               0.970278 -0.454922  \n",
       "Comb (mpg)                                   -0.926047  0.475578  \n",
       "CO2 Emissions (g/km)                          1.000000 -0.481380  \n",
       "Smog                                         -0.481380  1.000000  "
      ]
     },
     "execution_count": 8,
     "metadata": {},
     "output_type": "execute_result"
    }
   ],
   "source": [
    "train.corr()"
   ]
  },
  {
   "cell_type": "markdown",
   "metadata": {},
   "source": [
    "Vemos que no hay un valor NaN en todo el dataset, por lo que no es necesario rellenar ningún dato.\n",
    "\n",
    "Ahora, visualicemos con histogramas todos los datos que sean numéricos:"
   ]
  },
  {
   "cell_type": "markdown",
   "metadata": {},
   "source": [
    "### 2. Estudio de las distintas variables"
   ]
  },
  {
   "cell_type": "code",
   "execution_count": 9,
   "metadata": {},
   "outputs": [
    {
     "data": {
      "text/plain": [
       "Index(['id', 'Model Year', 'Make', 'Model', 'Vehicle Class', 'Engine Size (L)',\n",
       "       'Cylinders', 'Transmission', 'Fuel Type',\n",
       "       'Fuel Consumption City (L/100 km)', 'Hwy (L/100 km)', 'Comb (L/100 km)',\n",
       "       'Comb (mpg)', 'CO2 Emissions (g/km)', 'Smog'],\n",
       "      dtype='object')"
      ]
     },
     "execution_count": 9,
     "metadata": {},
     "output_type": "execute_result"
    }
   ],
   "source": [
    "train.columns"
   ]
  },
  {
   "cell_type": "markdown",
   "metadata": {},
   "source": [
    "Nuestras variables son:\n",
    "- Model Year: año del modelo\n",
    "- Make: marca del coche\n",
    "- Model: modelo del coche\n",
    "- Vehicle Class: clase del vehículo\n",
    "- Engine Size: tamaño del motor\n",
    "- Cylinders: número de cilindros\n",
    "- Transmission: tipo de transmisión\n",
    "- Fuel Type: tipo de combustible\n",
    "- Fuel Consumption City (L/100 km): consumo de combustible en ciudad\n",
    "- Hwy (L/100 km): consumo de combustible en carretera\n",
    "- Comb (L/100 km): consumo de combustible combinado\n",
    "- Fuel Consumption Comb (mpg): consumo de combustible combinado (millas por galón)\n",
    "- CO2 Emissions(g/km): emisiones de CO2\n",
    "\n",
    "Vamos a estudiar cada una de las variables para ver si podemos sacar alguna conclusión sobre ellas.\n"
   ]
  },
  {
   "cell_type": "markdown",
   "metadata": {},
   "source": [
    "#### Model Year: año del modelo"
   ]
  },
  {
   "cell_type": "code",
   "execution_count": 10,
   "metadata": {},
   "outputs": [
    {
     "data": {
      "text/plain": [
       "0    2022\n",
       "1    2022\n",
       "2    2022\n",
       "3    2022\n",
       "4    2022\n",
       "Name: Model Year, dtype: int64"
      ]
     },
     "execution_count": 10,
     "metadata": {},
     "output_type": "execute_result"
    }
   ],
   "source": [
    "train['Model Year'].head()"
   ]
  },
  {
   "cell_type": "code",
   "execution_count": 11,
   "metadata": {},
   "outputs": [
    {
     "data": {
      "text/plain": [
       "array([2022], dtype=int64)"
      ]
     },
     "execution_count": 11,
     "metadata": {},
     "output_type": "execute_result"
    }
   ],
   "source": [
    "train['Model Year'].unique()\n"
   ]
  },
  {
   "cell_type": "code",
   "execution_count": 12,
   "metadata": {},
   "outputs": [],
   "source": [
    "train = train.drop(['Model Year'],axis=1)"
   ]
  },
  {
   "cell_type": "markdown",
   "metadata": {},
   "source": [
    "Observamos que la variable Model Year tiene como valor único el año 2020, por lo que no nos aporta información. Por tanto, la eliminamos."
   ]
  },
  {
   "cell_type": "markdown",
   "metadata": {},
   "source": [
    "#### Make, Model, Vehicle Class: marca, modelo y clase del vehículo"
   ]
  },
  {
   "cell_type": "markdown",
   "metadata": {},
   "source": [
    "Vamos a ver si podemos sacar alguna conclusión sobre estas variables. Para ello, vamos a observar si con alguna de las dos variables podemos saber\n",
    "la otra variable. Por ejemplo, si con la marca y el modelo podemos saber la clase del vehículo, no sería necesario tener las tres variables."
   ]
  },
  {
   "cell_type": "code",
   "execution_count": 13,
   "metadata": {},
   "outputs": [
    {
     "data": {
      "text/html": [
       "<div>\n",
       "<style scoped>\n",
       "    .dataframe tbody tr th:only-of-type {\n",
       "        vertical-align: middle;\n",
       "    }\n",
       "\n",
       "    .dataframe tbody tr th {\n",
       "        vertical-align: top;\n",
       "    }\n",
       "\n",
       "    .dataframe thead th {\n",
       "        text-align: right;\n",
       "    }\n",
       "</style>\n",
       "<table border=\"1\" class=\"dataframe\">\n",
       "  <thead>\n",
       "    <tr style=\"text-align: right;\">\n",
       "      <th></th>\n",
       "      <th>Make</th>\n",
       "      <th>Model</th>\n",
       "      <th>Vehicle Class</th>\n",
       "    </tr>\n",
       "  </thead>\n",
       "  <tbody>\n",
       "    <tr>\n",
       "      <th>0</th>\n",
       "      <td>Mercedes-Benz</td>\n",
       "      <td>A 250 4MATIC Hatch</td>\n",
       "      <td>Station wagon: Small</td>\n",
       "    </tr>\n",
       "    <tr>\n",
       "      <th>1</th>\n",
       "      <td>Mazda</td>\n",
       "      <td>Mazda3 5-Door</td>\n",
       "      <td>Mid-size</td>\n",
       "    </tr>\n",
       "    <tr>\n",
       "      <th>2</th>\n",
       "      <td>Porsche</td>\n",
       "      <td>Panamera 4 ST</td>\n",
       "      <td>Full-size</td>\n",
       "    </tr>\n",
       "    <tr>\n",
       "      <th>3</th>\n",
       "      <td>Mazda</td>\n",
       "      <td>CX-3 4WD</td>\n",
       "      <td>Compact</td>\n",
       "    </tr>\n",
       "    <tr>\n",
       "      <th>4</th>\n",
       "      <td>Aston Martin</td>\n",
       "      <td>DBS V12</td>\n",
       "      <td>Minicompact</td>\n",
       "    </tr>\n",
       "  </tbody>\n",
       "</table>\n",
       "</div>"
      ],
      "text/plain": [
       "            Make               Model         Vehicle Class\n",
       "0  Mercedes-Benz  A 250 4MATIC Hatch  Station wagon: Small\n",
       "1          Mazda       Mazda3 5-Door              Mid-size\n",
       "2        Porsche       Panamera 4 ST             Full-size\n",
       "3          Mazda            CX-3 4WD               Compact\n",
       "4   Aston Martin             DBS V12           Minicompact"
      ]
     },
     "execution_count": 13,
     "metadata": {},
     "output_type": "execute_result"
    }
   ],
   "source": [
    "estudio=train.iloc[:,1:4]\n",
    "estudio.head()"
   ]
  },
  {
   "cell_type": "code",
   "execution_count": 14,
   "metadata": {},
   "outputs": [],
   "source": [
    "assert (estudio[['Model','Vehicle Class']].value_counts()!=1).any()\n",
    "assert (estudio[['Make','Vehicle Class']].value_counts()!=1).any()\n",
    "assert (estudio[['Make','Model']].value_counts()!=1).any()"
   ]
  },
  {
   "cell_type": "code",
   "execution_count": 15,
   "metadata": {},
   "outputs": [],
   "source": [
    "(train.groupby(['Make','Model']).count()==1).any()\n",
    "#encuentra la fila que hace que lo dearriba no sea tru\n",
    "#encuntra si hay dupplicados en make y model\n",
    "train[train.duplicated(subset=['Engine Size (L)','Cylinders'],keep=False)].sort_values(by=['Make','Model'])\n",
    "\n",
    "dumies = pd.get_dummies(train,columns=['Make','Model','Vehicle Class','Transmission'],drop_first=True)"
   ]
  },
  {
   "cell_type": "code",
   "execution_count": 16,
   "metadata": {},
   "outputs": [
    {
     "data": {
      "text/html": [
       "<style type=\"text/css\">\n",
       "#T_8d2ab_row0_col0, #T_8d2ab_row1_col1, #T_8d2ab_row2_col2, #T_8d2ab_row3_col3, #T_8d2ab_row4_col4, #T_8d2ab_row5_col5, #T_8d2ab_row6_col6, #T_8d2ab_row7_col7 {\n",
       "  background-color: #b40426;\n",
       "  color: #f1f1f1;\n",
       "}\n",
       "#T_8d2ab_row0_col1, #T_8d2ab_row1_col0 {\n",
       "  background-color: #c43032;\n",
       "  color: #f1f1f1;\n",
       "}\n",
       "#T_8d2ab_row0_col2, #T_8d2ab_row2_col0 {\n",
       "  background-color: #d44e41;\n",
       "  color: #f1f1f1;\n",
       "}\n",
       "#T_8d2ab_row0_col3, #T_8d2ab_row3_col0 {\n",
       "  background-color: #e26952;\n",
       "  color: #f1f1f1;\n",
       "}\n",
       "#T_8d2ab_row0_col4, #T_8d2ab_row4_col0 {\n",
       "  background-color: #d75445;\n",
       "  color: #f1f1f1;\n",
       "}\n",
       "#T_8d2ab_row0_col5, #T_8d2ab_row5_col0 {\n",
       "  background-color: #5d7ce6;\n",
       "  color: #f1f1f1;\n",
       "}\n",
       "#T_8d2ab_row0_col6, #T_8d2ab_row1_col4, #T_8d2ab_row4_col1, #T_8d2ab_row6_col0 {\n",
       "  background-color: #d65244;\n",
       "  color: #f1f1f1;\n",
       "}\n",
       "#T_8d2ab_row0_col7, #T_8d2ab_row7_col0 {\n",
       "  background-color: #97b8ff;\n",
       "  color: #000000;\n",
       "}\n",
       "#T_8d2ab_row1_col2, #T_8d2ab_row2_col1 {\n",
       "  background-color: #d1493f;\n",
       "  color: #f1f1f1;\n",
       "}\n",
       "#T_8d2ab_row1_col3, #T_8d2ab_row3_col1 {\n",
       "  background-color: #e36b54;\n",
       "  color: #f1f1f1;\n",
       "}\n",
       "#T_8d2ab_row1_col5, #T_8d2ab_row5_col1 {\n",
       "  background-color: #5e7de7;\n",
       "  color: #f1f1f1;\n",
       "}\n",
       "#T_8d2ab_row1_col6, #T_8d2ab_row6_col1 {\n",
       "  background-color: #d55042;\n",
       "  color: #f1f1f1;\n",
       "}\n",
       "#T_8d2ab_row1_col7, #T_8d2ab_row7_col1 {\n",
       "  background-color: #8caffe;\n",
       "  color: #000000;\n",
       "}\n",
       "#T_8d2ab_row2_col3, #T_8d2ab_row3_col2 {\n",
       "  background-color: #c32e31;\n",
       "  color: #f1f1f1;\n",
       "}\n",
       "#T_8d2ab_row2_col4, #T_8d2ab_row4_col2 {\n",
       "  background-color: #b50927;\n",
       "  color: #f1f1f1;\n",
       "}\n",
       "#T_8d2ab_row2_col5, #T_8d2ab_row4_col5, #T_8d2ab_row5_col2, #T_8d2ab_row5_col4, #T_8d2ab_row5_col6, #T_8d2ab_row6_col5 {\n",
       "  background-color: #3b4cc0;\n",
       "  color: #f1f1f1;\n",
       "}\n",
       "#T_8d2ab_row2_col6, #T_8d2ab_row6_col2 {\n",
       "  background-color: #bb1b2c;\n",
       "  color: #f1f1f1;\n",
       "}\n",
       "#T_8d2ab_row2_col7, #T_8d2ab_row7_col2 {\n",
       "  background-color: #85a8fc;\n",
       "  color: #f1f1f1;\n",
       "}\n",
       "#T_8d2ab_row3_col4, #T_8d2ab_row4_col3 {\n",
       "  background-color: #ba162b;\n",
       "  color: #f1f1f1;\n",
       "}\n",
       "#T_8d2ab_row3_col5, #T_8d2ab_row5_col3 {\n",
       "  background-color: #4055c8;\n",
       "  color: #f1f1f1;\n",
       "}\n",
       "#T_8d2ab_row3_col6, #T_8d2ab_row6_col3 {\n",
       "  background-color: #c0282f;\n",
       "  color: #f1f1f1;\n",
       "}\n",
       "#T_8d2ab_row3_col7, #T_8d2ab_row7_col3 {\n",
       "  background-color: #9abbff;\n",
       "  color: #000000;\n",
       "}\n",
       "#T_8d2ab_row4_col6, #T_8d2ab_row6_col4 {\n",
       "  background-color: #b8122a;\n",
       "  color: #f1f1f1;\n",
       "}\n",
       "#T_8d2ab_row4_col7, #T_8d2ab_row7_col4 {\n",
       "  background-color: #8badfd;\n",
       "  color: #000000;\n",
       "}\n",
       "#T_8d2ab_row5_col7, #T_8d2ab_row7_col5 {\n",
       "  background-color: #f6a283;\n",
       "  color: #000000;\n",
       "}\n",
       "#T_8d2ab_row6_col7, #T_8d2ab_row7_col6 {\n",
       "  background-color: #86a9fc;\n",
       "  color: #f1f1f1;\n",
       "}\n",
       "</style>\n",
       "<table id=\"T_8d2ab\">\n",
       "  <thead>\n",
       "    <tr>\n",
       "      <th class=\"blank level0\" >&nbsp;</th>\n",
       "      <th id=\"T_8d2ab_level0_col0\" class=\"col_heading level0 col0\" >Engine Size (L)</th>\n",
       "      <th id=\"T_8d2ab_level0_col1\" class=\"col_heading level0 col1\" >Cylinders</th>\n",
       "      <th id=\"T_8d2ab_level0_col2\" class=\"col_heading level0 col2\" >Fuel Consumption City (L/100 km)</th>\n",
       "      <th id=\"T_8d2ab_level0_col3\" class=\"col_heading level0 col3\" >Hwy (L/100 km)</th>\n",
       "      <th id=\"T_8d2ab_level0_col4\" class=\"col_heading level0 col4\" >Comb (L/100 km)</th>\n",
       "      <th id=\"T_8d2ab_level0_col5\" class=\"col_heading level0 col5\" >Comb (mpg)</th>\n",
       "      <th id=\"T_8d2ab_level0_col6\" class=\"col_heading level0 col6\" >CO2 Emissions (g/km)</th>\n",
       "      <th id=\"T_8d2ab_level0_col7\" class=\"col_heading level0 col7\" >Smog</th>\n",
       "    </tr>\n",
       "  </thead>\n",
       "  <tbody>\n",
       "    <tr>\n",
       "      <th id=\"T_8d2ab_level0_row0\" class=\"row_heading level0 row0\" >Engine Size (L)</th>\n",
       "      <td id=\"T_8d2ab_row0_col0\" class=\"data row0 col0\" >1.000000</td>\n",
       "      <td id=\"T_8d2ab_row0_col1\" class=\"data row0 col1\" >0.916637</td>\n",
       "      <td id=\"T_8d2ab_row0_col2\" class=\"data row0 col2\" >0.823131</td>\n",
       "      <td id=\"T_8d2ab_row0_col3\" class=\"data row0 col3\" >0.721784</td>\n",
       "      <td id=\"T_8d2ab_row0_col4\" class=\"data row0 col4\" >0.801275</td>\n",
       "      <td id=\"T_8d2ab_row0_col5\" class=\"data row0 col5\" >-0.712760</td>\n",
       "      <td id=\"T_8d2ab_row0_col6\" class=\"data row0 col6\" >0.808221</td>\n",
       "      <td id=\"T_8d2ab_row0_col7\" class=\"data row0 col7\" >-0.387098</td>\n",
       "    </tr>\n",
       "    <tr>\n",
       "      <th id=\"T_8d2ab_level0_row1\" class=\"row_heading level0 row1\" >Cylinders</th>\n",
       "      <td id=\"T_8d2ab_row1_col0\" class=\"data row1 col0\" >0.916637</td>\n",
       "      <td id=\"T_8d2ab_row1_col1\" class=\"data row1 col1\" >1.000000</td>\n",
       "      <td id=\"T_8d2ab_row1_col2\" class=\"data row1 col2\" >0.836298</td>\n",
       "      <td id=\"T_8d2ab_row1_col3\" class=\"data row1 col3\" >0.715005</td>\n",
       "      <td id=\"T_8d2ab_row1_col4\" class=\"data row1 col4\" >0.807255</td>\n",
       "      <td id=\"T_8d2ab_row1_col5\" class=\"data row1 col5\" >-0.708713</td>\n",
       "      <td id=\"T_8d2ab_row1_col6\" class=\"data row1 col6\" >0.818873</td>\n",
       "      <td id=\"T_8d2ab_row1_col7\" class=\"data row1 col7\" >-0.454243</td>\n",
       "    </tr>\n",
       "    <tr>\n",
       "      <th id=\"T_8d2ab_level0_row2\" class=\"row_heading level0 row2\" >Fuel Consumption City (L/100 km)</th>\n",
       "      <td id=\"T_8d2ab_row2_col0\" class=\"data row2 col0\" >0.823131</td>\n",
       "      <td id=\"T_8d2ab_row2_col1\" class=\"data row2 col1\" >0.836298</td>\n",
       "      <td id=\"T_8d2ab_row2_col2\" class=\"data row2 col2\" >1.000000</td>\n",
       "      <td id=\"T_8d2ab_row2_col3\" class=\"data row2 col3\" >0.917553</td>\n",
       "      <td id=\"T_8d2ab_row2_col4\" class=\"data row2 col4\" >0.989096</td>\n",
       "      <td id=\"T_8d2ab_row2_col5\" class=\"data row2 col5\" >-0.925216</td>\n",
       "      <td id=\"T_8d2ab_row2_col6\" class=\"data row2 col6\" >0.961866</td>\n",
       "      <td id=\"T_8d2ab_row2_col7\" class=\"data row2 col7\" >-0.488333</td>\n",
       "    </tr>\n",
       "    <tr>\n",
       "      <th id=\"T_8d2ab_level0_row3\" class=\"row_heading level0 row3\" >Hwy (L/100 km)</th>\n",
       "      <td id=\"T_8d2ab_row3_col0\" class=\"data row3 col0\" >0.721784</td>\n",
       "      <td id=\"T_8d2ab_row3_col1\" class=\"data row3 col1\" >0.715005</td>\n",
       "      <td id=\"T_8d2ab_row3_col2\" class=\"data row3 col2\" >0.917553</td>\n",
       "      <td id=\"T_8d2ab_row3_col3\" class=\"data row3 col3\" >1.000000</td>\n",
       "      <td id=\"T_8d2ab_row3_col4\" class=\"data row3 col4\" >0.965899</td>\n",
       "      <td id=\"T_8d2ab_row3_col5\" class=\"data row3 col5\" >-0.888011</td>\n",
       "      <td id=\"T_8d2ab_row3_col6\" class=\"data row3 col6\" >0.933429</td>\n",
       "      <td id=\"T_8d2ab_row3_col7\" class=\"data row3 col7\" >-0.375993</td>\n",
       "    </tr>\n",
       "    <tr>\n",
       "      <th id=\"T_8d2ab_level0_row4\" class=\"row_heading level0 row4\" >Comb (L/100 km)</th>\n",
       "      <td id=\"T_8d2ab_row4_col0\" class=\"data row4 col0\" >0.801275</td>\n",
       "      <td id=\"T_8d2ab_row4_col1\" class=\"data row4 col1\" >0.807255</td>\n",
       "      <td id=\"T_8d2ab_row4_col2\" class=\"data row4 col2\" >0.989096</td>\n",
       "      <td id=\"T_8d2ab_row4_col3\" class=\"data row4 col3\" >0.965899</td>\n",
       "      <td id=\"T_8d2ab_row4_col4\" class=\"data row4 col4\" >1.000000</td>\n",
       "      <td id=\"T_8d2ab_row4_col5\" class=\"data row4 col5\" >-0.929672</td>\n",
       "      <td id=\"T_8d2ab_row4_col6\" class=\"data row4 col6\" >0.970086</td>\n",
       "      <td id=\"T_8d2ab_row4_col7\" class=\"data row4 col7\" >-0.456908</td>\n",
       "    </tr>\n",
       "    <tr>\n",
       "      <th id=\"T_8d2ab_level0_row5\" class=\"row_heading level0 row5\" >Comb (mpg)</th>\n",
       "      <td id=\"T_8d2ab_row5_col0\" class=\"data row5 col0\" >-0.712760</td>\n",
       "      <td id=\"T_8d2ab_row5_col1\" class=\"data row5 col1\" >-0.708713</td>\n",
       "      <td id=\"T_8d2ab_row5_col2\" class=\"data row5 col2\" >-0.925216</td>\n",
       "      <td id=\"T_8d2ab_row5_col3\" class=\"data row5 col3\" >-0.888011</td>\n",
       "      <td id=\"T_8d2ab_row5_col4\" class=\"data row5 col4\" >-0.929672</td>\n",
       "      <td id=\"T_8d2ab_row5_col5\" class=\"data row5 col5\" >1.000000</td>\n",
       "      <td id=\"T_8d2ab_row5_col6\" class=\"data row5 col6\" >-0.925642</td>\n",
       "      <td id=\"T_8d2ab_row5_col7\" class=\"data row5 col7\" >0.477262</td>\n",
       "    </tr>\n",
       "    <tr>\n",
       "      <th id=\"T_8d2ab_level0_row6\" class=\"row_heading level0 row6\" >CO2 Emissions (g/km)</th>\n",
       "      <td id=\"T_8d2ab_row6_col0\" class=\"data row6 col0\" >0.808221</td>\n",
       "      <td id=\"T_8d2ab_row6_col1\" class=\"data row6 col1\" >0.818873</td>\n",
       "      <td id=\"T_8d2ab_row6_col2\" class=\"data row6 col2\" >0.961866</td>\n",
       "      <td id=\"T_8d2ab_row6_col3\" class=\"data row6 col3\" >0.933429</td>\n",
       "      <td id=\"T_8d2ab_row6_col4\" class=\"data row6 col4\" >0.970086</td>\n",
       "      <td id=\"T_8d2ab_row6_col5\" class=\"data row6 col5\" >-0.925642</td>\n",
       "      <td id=\"T_8d2ab_row6_col6\" class=\"data row6 col6\" >1.000000</td>\n",
       "      <td id=\"T_8d2ab_row6_col7\" class=\"data row6 col7\" >-0.483682</td>\n",
       "    </tr>\n",
       "    <tr>\n",
       "      <th id=\"T_8d2ab_level0_row7\" class=\"row_heading level0 row7\" >Smog</th>\n",
       "      <td id=\"T_8d2ab_row7_col0\" class=\"data row7 col0\" >-0.387098</td>\n",
       "      <td id=\"T_8d2ab_row7_col1\" class=\"data row7 col1\" >-0.454243</td>\n",
       "      <td id=\"T_8d2ab_row7_col2\" class=\"data row7 col2\" >-0.488333</td>\n",
       "      <td id=\"T_8d2ab_row7_col3\" class=\"data row7 col3\" >-0.375993</td>\n",
       "      <td id=\"T_8d2ab_row7_col4\" class=\"data row7 col4\" >-0.456908</td>\n",
       "      <td id=\"T_8d2ab_row7_col5\" class=\"data row7 col5\" >0.477262</td>\n",
       "      <td id=\"T_8d2ab_row7_col6\" class=\"data row7 col6\" >-0.483682</td>\n",
       "      <td id=\"T_8d2ab_row7_col7\" class=\"data row7 col7\" >1.000000</td>\n",
       "    </tr>\n",
       "  </tbody>\n",
       "</table>\n"
      ],
      "text/plain": [
       "<pandas.io.formats.style.Styler at 0x234fea89a90>"
      ]
     },
     "execution_count": 16,
     "metadata": {},
     "output_type": "execute_result"
    }
   ],
   "source": [
    "corr = train.iloc[4:,:].corr(method='pearson')\n",
    "\n",
    "corr.style.background_gradient(cmap='coolwarm', axis=None)\n",
    "\n",
    "\n",
    "\n"
   ]
  },
  {
   "cell_type": "code",
   "execution_count": 17,
   "metadata": {},
   "outputs": [
    {
     "name": "stdout",
     "output_type": "stream",
     "text": [
      "<class 'pandas.core.frame.DataFrame'>\n",
      "RangeIndex: 586 entries, 0 to 585\n",
      "Data columns (total 14 columns):\n",
      " #   Column                            Non-Null Count  Dtype  \n",
      "---  ------                            --------------  -----  \n",
      " 0   id                                586 non-null    object \n",
      " 1   Make                              586 non-null    object \n",
      " 2   Model                             586 non-null    object \n",
      " 3   Vehicle Class                     586 non-null    object \n",
      " 4   Engine Size (L)                   586 non-null    float64\n",
      " 5   Cylinders                         586 non-null    int64  \n",
      " 6   Transmission                      586 non-null    object \n",
      " 7   Fuel Type                         586 non-null    object \n",
      " 8   Fuel Consumption City (L/100 km)  586 non-null    float64\n",
      " 9   Hwy (L/100 km)                    586 non-null    float64\n",
      " 10  Comb (L/100 km)                   586 non-null    float64\n",
      " 11  Comb (mpg)                        586 non-null    int64  \n",
      " 12  CO2 Emissions (g/km)              586 non-null    int64  \n",
      " 13  Smog                              586 non-null    int64  \n",
      "dtypes: float64(4), int64(4), object(6)\n",
      "memory usage: 64.2+ KB\n"
     ]
    },
    {
     "data": {
      "image/png": "[encoded data removed]",
      "text/plain": [
       "<Figure size 480x480 with 1 Axes>"
      ]
     },
     "metadata": {},
     "output_type": "display_data"
    }
   ],
   "source": [
    "plt.matshow(corr)\n",
    "train.info()"
   ]
  },
  {
   "cell_type": "code",
   "execution_count": 18,
   "metadata": {},
   "outputs": [
    {
     "data": {
      "text/plain": [
       "<matplotlib.collections.PathCollection at 0x234fee66ac0>"
      ]
     },
     "execution_count": 18,
     "metadata": {},
     "output_type": "execute_result"
    }
   ],
   "source": [
    "#plt.plot(train['CO2 Emissions (g/km)'],train['Comb (mpg)'])\n",
    "#ahora representame su linea de regresion\n",
    "\n",
    "plt.scatter(train['CO2 Emissions (g/km)'],train['Fuel Consumption City (L/100 km)'])\n",
    "\n",
    "#quiero el plot de todas las columnas con todas las columnas\n",
    "#como son 8 columnas, 8x8 = 64 plots\n"
   ]
  },
  {
   "cell_type": "code",
   "execution_count": null,
   "metadata": {},
   "outputs": [],
   "source": [
    "#una correlacion alta entre variables puede afectar a la prediccion ya que puede haber una relacion lineal entre ellas y al haber\n",
    "#una relacion lineal entre ellas puede afectar a la prediccion, debido a que si hay una relacion lineal entre ellas, una de ellas\n",
    "#un valor alto seria de 0,"
   ]
  },
  {
   "cell_type": "markdown",
   "metadata": {},
   "source": [
    "Con los asserts podemos ver que no es posible saber la clase del vehículo con la marca y el modelo, por lo que las tres variables son necesarias \n",
    "(por ahora)."
   ]
  },
  {
   "cell_type": "markdown",
   "metadata": {},
   "source": [
    "#### Engine Size, Cylinders y Transmission"
   ]
  },
  {
   "cell_type": "markdown",
   "metadata": {},
   "source": [
    "Hemos agrupado estas tres variables porque creemos que pueden estar relacionadas. Por ejemplo, si el número de cilindros es 4, el tamaño del motor"
   ]
  },
  {
   "cell_type": "code",
   "execution_count": null,
   "metadata": {},
   "outputs": [
    {
     "data": {
      "text/html": [
       "<div>\n",
       "<style scoped>\n",
       "    .dataframe tbody tr th:only-of-type {\n",
       "        vertical-align: middle;\n",
       "    }\n",
       "\n",
       "    .dataframe tbody tr th {\n",
       "        vertical-align: top;\n",
       "    }\n",
       "\n",
       "    .dataframe thead th {\n",
       "        text-align: right;\n",
       "    }\n",
       "</style>\n",
       "<table border=\"1\" class=\"dataframe\">\n",
       "  <thead>\n",
       "    <tr style=\"text-align: right;\">\n",
       "      <th></th>\n",
       "      <th>Engine Size (L)</th>\n",
       "      <th>Cylinders</th>\n",
       "      <th>Transmission</th>\n",
       "    </tr>\n",
       "  </thead>\n",
       "  <tbody>\n",
       "    <tr>\n",
       "      <th>0</th>\n",
       "      <td>2.0</td>\n",
       "      <td>4</td>\n",
       "      <td>AM7</td>\n",
       "    </tr>\n",
       "    <tr>\n",
       "      <th>1</th>\n",
       "      <td>2.0</td>\n",
       "      <td>4</td>\n",
       "      <td>AS6</td>\n",
       "    </tr>\n",
       "    <tr>\n",
       "      <th>2</th>\n",
       "      <td>2.9</td>\n",
       "      <td>6</td>\n",
       "      <td>AM8</td>\n",
       "    </tr>\n",
       "    <tr>\n",
       "      <th>3</th>\n",
       "      <td>2.0</td>\n",
       "      <td>4</td>\n",
       "      <td>AS6</td>\n",
       "    </tr>\n",
       "    <tr>\n",
       "      <th>4</th>\n",
       "      <td>5.2</td>\n",
       "      <td>12</td>\n",
       "      <td>A8</td>\n",
       "    </tr>\n",
       "  </tbody>\n",
       "</table>\n",
       "</div>"
      ],
      "text/plain": [
       "   Engine Size (L)  Cylinders Transmission\n",
       "0              2.0          4          AM7\n",
       "1              2.0          4          AS6\n",
       "2              2.9          6          AM8\n",
       "3              2.0          4          AS6\n",
       "4              5.2         12           A8"
      ]
     },
     "execution_count": 84,
     "metadata": {},
     "output_type": "execute_result"
    }
   ],
   "source": [
    "estudio_1 = train.iloc[:,4:7]\n",
    "estudio_1.head()"
   ]
  },
  {
   "cell_type": "code",
   "execution_count": null,
   "metadata": {},
   "outputs": [
    {
     "data": {
      "text/plain": [
       "array(['AM7', 'AS6', 'AM8', 'A8', 'AS8', 'M6', 'A10', 'AS10', 'A9', 'M7',\n",
       "       'AV8', 'AS9', 'AV', 'AM6', 'AS7', 'AV10', 'AV7', 'A6', 'AM9', 'M5',\n",
       "       'AV6', 'AS5', 'AV1'], dtype=object)"
      ]
     },
     "execution_count": 89,
     "metadata": {},
     "output_type": "execute_result"
    }
   ],
   "source": [
    "estudio_1['Engine Size (L)'].unique()\n",
    "estudio_1['Cylinders'].unique()\n",
    "estudio_1['Transmission'].unique()"
   ]
  },
  {
   "cell_type": "code",
   "execution_count": null,
   "metadata": {},
   "outputs": [],
   "source": [
    "assert (estudio_1[['Engine Size (L)','Cylinders']].value_counts()!=1).any()\n",
    "assert (estudio_1[['Engine Size (L)','Transmission']].value_counts()!=1).any()\n",
    "assert (estudio_1[['Cylinders','Transmission']].value_counts()!=1).any()"
   ]
  },
  {
   "cell_type": "code",
   "execution_count": null,
   "metadata": {},
   "outputs": [
    {
     "data": {
      "text/html": [
       "<div>\n",
       "<style scoped>\n",
       "    .dataframe tbody tr th:only-of-type {\n",
       "        vertical-align: middle;\n",
       "    }\n",
       "\n",
       "    .dataframe tbody tr th {\n",
       "        vertical-align: top;\n",
       "    }\n",
       "\n",
       "    .dataframe thead th {\n",
       "        text-align: right;\n",
       "    }\n",
       "</style>\n",
       "<table border=\"1\" class=\"dataframe\">\n",
       "  <thead>\n",
       "    <tr style=\"text-align: right;\">\n",
       "      <th></th>\n",
       "      <th>Make</th>\n",
       "      <th>Model</th>\n",
       "      <th>Vehicle Class</th>\n",
       "      <th>Engine Size (L)</th>\n",
       "      <th>Cylinders</th>\n",
       "      <th>Transmission</th>\n",
       "    </tr>\n",
       "  </thead>\n",
       "  <tbody>\n",
       "    <tr>\n",
       "      <th>0</th>\n",
       "      <td>Mercedes-Benz</td>\n",
       "      <td>A 250 4MATIC Hatch</td>\n",
       "      <td>Station wagon: Small</td>\n",
       "      <td>2.0</td>\n",
       "      <td>4</td>\n",
       "      <td>AM7</td>\n",
       "    </tr>\n",
       "    <tr>\n",
       "      <th>1</th>\n",
       "      <td>Mazda</td>\n",
       "      <td>Mazda3 5-Door</td>\n",
       "      <td>Mid-size</td>\n",
       "      <td>2.0</td>\n",
       "      <td>4</td>\n",
       "      <td>AS6</td>\n",
       "    </tr>\n",
       "    <tr>\n",
       "      <th>2</th>\n",
       "      <td>Porsche</td>\n",
       "      <td>Panamera 4 ST</td>\n",
       "      <td>Full-size</td>\n",
       "      <td>2.9</td>\n",
       "      <td>6</td>\n",
       "      <td>AM8</td>\n",
       "    </tr>\n",
       "    <tr>\n",
       "      <th>3</th>\n",
       "      <td>Mazda</td>\n",
       "      <td>CX-3 4WD</td>\n",
       "      <td>Compact</td>\n",
       "      <td>2.0</td>\n",
       "      <td>4</td>\n",
       "      <td>AS6</td>\n",
       "    </tr>\n",
       "    <tr>\n",
       "      <th>4</th>\n",
       "      <td>Aston Martin</td>\n",
       "      <td>DBS V12</td>\n",
       "      <td>Minicompact</td>\n",
       "      <td>5.2</td>\n",
       "      <td>12</td>\n",
       "      <td>A8</td>\n",
       "    </tr>\n",
       "  </tbody>\n",
       "</table>\n",
       "</div>"
      ],
      "text/plain": [
       "            Make               Model         Vehicle Class  Engine Size (L)  \\\n",
       "0  Mercedes-Benz  A 250 4MATIC Hatch  Station wagon: Small              2.0   \n",
       "1          Mazda       Mazda3 5-Door              Mid-size              2.0   \n",
       "2        Porsche       Panamera 4 ST             Full-size              2.9   \n",
       "3          Mazda            CX-3 4WD               Compact              2.0   \n",
       "4   Aston Martin             DBS V12           Minicompact              5.2   \n",
       "\n",
       "   Cylinders Transmission  \n",
       "0          4          AM7  \n",
       "1          4          AS6  \n",
       "2          6          AM8  \n",
       "3          4          AS6  \n",
       "4         12           A8  "
      ]
     },
     "execution_count": 91,
     "metadata": {},
     "output_type": "execute_result"
    }
   ],
   "source": [
    "# quiero unir estudio y estudio_1\n",
    "estudio_2 = pd.concat([estudio,estudio_1],axis=1)\n",
    "estudio_2.head()"
   ]
  },
  {
   "cell_type": "code",
   "execution_count": null,
   "metadata": {},
   "outputs": [],
   "source": [
    "#quiero comprobar si hay variables que pueden ser redundantes, es decir, por ejemplo con el mel y make saber engine size\n",
    "\n",
    "assert (estudio_2[['Transmission','Vehicle Class','Make','Engine Size (L)','Cylinders']].value_counts()!=1).any()"
   ]
  },
  {
   "cell_type": "code",
   "execution_count": null,
   "metadata": {},
   "outputs": [
    {
     "data": {
      "text/plain": [
       "Model                            Vehicle Class            Make       Engine Size (L)  Transmission\n",
       "Sierra FFV                       Pickup truck: Standard   GMC        5.3              A6              2\n",
       "Sierra 4WD FFV                   Pickup truck: Standard   GMC        5.3              A6              2\n",
       "Transit Connect Wagon LWB FFV    Special purpose vehicle  Ford       2.0              AS8             2\n",
       "F-150 4X4 FFV                    Pickup truck: Standard   Ford       3.3              AS10            2\n",
       "Sierra 4WD Mud Terrain Tire FFV  Pickup truck: Standard   GMC        5.3              A6              2\n",
       "                                                                                                     ..\n",
       "Corsair AWD                      SUV: Small               Lincoln    2.0              AS8             1\n",
       "                                                                     2.3              AS8             1\n",
       "Corvette                         Two-seater               Chevrolet  6.2              AS8             1\n",
       "Crosstrek AWD                    SUV: Small               Subaru     2.5              AV8             1\n",
       "Yukon XL 4WD (No Stop-Start)     SUV: Standard            GMC        5.3              A10             1\n",
       "Length: 581, dtype: int64"
      ]
     },
     "execution_count": 104,
     "metadata": {},
     "output_type": "execute_result"
    }
   ],
   "source": [
    "estudio_2[['Model','Vehicle Class','Make','Engine Size (L)','Transmission']].value_counts()\n"
   ]
  },
  {
   "cell_type": "code",
   "execution_count": null,
   "metadata": {},
   "outputs": [
    {
     "data": {
      "text/plain": [
       "array(['Mercedes-Benz', 'Mazda', 'Porsche', 'Aston Martin', 'Toyota',\n",
       "       'Hyundai', 'GMC', 'Ford', 'BMW', 'Audi', 'Dodge', 'FIAT',\n",
       "       'Alfa Romeo', 'Chevrolet', 'Land Rover', 'Kia', 'Infiniti',\n",
       "       'Maserati', 'Lexus', 'Lamborghini', 'Jaguar', 'Cadillac', 'Ram',\n",
       "       'Genesis', 'Jeep', 'Volvo', 'Honda', 'Lincoln', 'Acura',\n",
       "       'Chrysler', 'MINI', 'Volkswagen', 'Bentley', 'Subaru', 'Buick',\n",
       "       'Rolls-Royce', 'Nissan', 'Mitsubishi', 'Bugatti'], dtype=object)"
      ]
     },
     "execution_count": 64,
     "metadata": {},
     "output_type": "execute_result"
    }
   ],
   "source": [
    "estudio['Make'].unique()"
   ]
  },
  {
   "cell_type": "code",
   "execution_count": null,
   "metadata": {},
   "outputs": [
    {
     "data": {
      "text/plain": [
       "array(['Station wagon: Small', 'Mid-size', 'Full-size', 'Compact',\n",
       "       'Minicompact', 'SUV: Small', 'SUV: Standard',\n",
       "       'Special purpose vehicle', 'Pickup truck: Standard', 'Subcompact',\n",
       "       'Two-seater', 'Minivan', 'Pickup truck: Small',\n",
       "       'Station wagon: Mid-size'], dtype=object)"
      ]
     },
     "execution_count": 66,
     "metadata": {},
     "output_type": "execute_result"
    }
   ],
   "source": [
    "estudio['Vehicle Class'].unique()"
   ]
  },
  {
   "cell_type": "code",
   "execution_count": null,
   "metadata": {},
   "outputs": [
    {
     "data": {
      "text/plain": [
       "Model                                Vehicle Class         \n",
       "Sierra 4WD                           Pickup truck: Standard    4\n",
       "Camaro                               Subcompact                4\n",
       "Silverado 4WD Mud Terrain Tire       Pickup truck: Standard    4\n",
       "Sierra                               Pickup truck: Standard    3\n",
       "Corolla                              Compact                   3\n",
       "                                                              ..\n",
       "Explorer Timberline AWD              SUV: Standard             1\n",
       "Expedition Timberline 4X4            SUV: Standard             1\n",
       "Expedition 4X4 (Without Stop-Start)  SUV: Standard             1\n",
       "Escape Hybrid AWD                    SUV: Small                1\n",
       "Yukon XL 4WD (No Stop-Start)         SUV: Standard             1\n",
       "Length: 488, dtype: int64"
      ]
     },
     "execution_count": 69,
     "metadata": {},
     "output_type": "execute_result"
    }
   ],
   "source": [
    "#quiero estudiar si el modelo y vehicle class se repite en el dataset\n",
    "estudio[['Model','Vehicle Class']].value_counts()# esto"
   ]
  },
  {
   "cell_type": "code",
   "execution_count": null,
   "metadata": {},
   "outputs": [
    {
     "data": {
      "text/html": [
       "<div>\n",
       "<style scoped>\n",
       "    .dataframe tbody tr th:only-of-type {\n",
       "        vertical-align: middle;\n",
       "    }\n",
       "\n",
       "    .dataframe tbody tr th {\n",
       "        vertical-align: top;\n",
       "    }\n",
       "\n",
       "    .dataframe thead th {\n",
       "        text-align: right;\n",
       "    }\n",
       "</style>\n",
       "<table border=\"1\" class=\"dataframe\">\n",
       "  <thead>\n",
       "    <tr style=\"text-align: right;\">\n",
       "      <th></th>\n",
       "      <th>Make</th>\n",
       "      <th>Model</th>\n",
       "      <th>Vehicle Class</th>\n",
       "    </tr>\n",
       "  </thead>\n",
       "  <tbody>\n",
       "    <tr>\n",
       "      <th>12</th>\n",
       "      <td>GMC</td>\n",
       "      <td>Sierra 4WD</td>\n",
       "      <td>Pickup truck: Standard</td>\n",
       "    </tr>\n",
       "    <tr>\n",
       "      <th>85</th>\n",
       "      <td>GMC</td>\n",
       "      <td>Sierra 4WD</td>\n",
       "      <td>Pickup truck: Standard</td>\n",
       "    </tr>\n",
       "    <tr>\n",
       "      <th>271</th>\n",
       "      <td>GMC</td>\n",
       "      <td>Sierra 4WD</td>\n",
       "      <td>Pickup truck: Standard</td>\n",
       "    </tr>\n",
       "    <tr>\n",
       "      <th>420</th>\n",
       "      <td>GMC</td>\n",
       "      <td>Sierra 4WD</td>\n",
       "      <td>Pickup truck: Standard</td>\n",
       "    </tr>\n",
       "  </tbody>\n",
       "</table>\n",
       "</div>"
      ],
      "text/plain": [
       "    Make       Model           Vehicle Class\n",
       "12   GMC  Sierra 4WD  Pickup truck: Standard\n",
       "85   GMC  Sierra 4WD  Pickup truck: Standard\n",
       "271  GMC  Sierra 4WD  Pickup truck: Standard\n",
       "420  GMC  Sierra 4WD  Pickup truck: Standard"
      ]
     },
     "execution_count": 70,
     "metadata": {},
     "output_type": "execute_result"
    }
   ],
   "source": [
    "estudio[estudio['Model']=='Sierra 4WD']"
   ]
  },
  {
   "cell_type": "code",
   "execution_count": null,
   "metadata": {},
   "outputs": [
    {
     "data": {
      "image/png": "[encoded data removed]",
      "text/plain": [
       "<Figure size 2000x2000 with 81 Axes>"
      ]
     },
     "metadata": {},
     "output_type": "display_data"
    }
   ],
   "source": [
    "nearest_square = lambda number: np.power(np.round(np.sqrt(number)), 2)\n",
    "\n",
    "int_columns = train.select_dtypes(include=(int, float))\n",
    "sq = int(nearest_square(len(int_columns.columns)))\n",
    "\n",
    "int_columns.hist(figsize=(20, 20), layout=(sq, sq))\n",
    "\n",
    "clear_output()"
   ]
  },
  {
   "cell_type": "markdown",
   "metadata": {},
   "source": [
    "Si nos fijamos en el historial de 'Model Year', vemos que todas las entradas al dataset tienen el mismo dato en esa columna.\n",
    "\n",
    "Por tanto, concluimos que el año del modelo es irrelevante para la predicción del SMOG. En otras palabras, la ganancia de información de SMOG por MODEL YEAR es 0."
   ]
  },
  {
   "cell_type": "code",
   "execution_count": null,
   "metadata": {},
   "outputs": [
    {
     "data": {
      "text/plain": [
       "Index(['id', 'Model Year', 'Make', 'Model', 'Vehicle Class', 'Engine Size (L)',\n",
       "       'Cylinders', 'Transmission', 'Fuel Type',\n",
       "       'Fuel Consumption City (L/100 km)', 'Hwy (L/100 km)', 'Comb (L/100 km)',\n",
       "       'Comb (mpg)', 'CO2 Emissions (g/km)'],\n",
       "      dtype='object')"
      ]
     },
     "execution_count": 12,
     "metadata": {},
     "output_type": "execute_result"
    }
   ],
   "source": [
    "test_nolabel.columns"
   ]
  },
  {
   "cell_type": "code",
   "execution_count": null,
   "metadata": {},
   "outputs": [],
   "source": [
    "#quiero una tbala con los nombres de las columnas y los valores unicos de cada una\n",
    "columns = train.columns\n",
    "#Rango de valores de cada columna, excepto para las columnas con strings que pondremos unique e id no entra\n",
    "ranges = {column: train[column].unique() if train[column].dtype == 'O' else [train[column].min(), train[column].max()] for column in columns if column != 'id'}"
   ]
  },
  {
   "cell_type": "code",
   "execution_count": null,
   "metadata": {},
   "outputs": [
    {
     "data": {
      "text/plain": [
       "{'Model Year': [2022, 2022],\n",
       " 'Make': array(['Mercedes-Benz', 'Mazda', 'Porsche', 'Aston Martin', 'Toyota',\n",
       "        'Hyundai', 'GMC', 'Ford', 'BMW', 'Audi', 'Dodge', 'FIAT',\n",
       "        'Alfa Romeo', 'Chevrolet', 'Land Rover', 'Kia', 'Infiniti',\n",
       "        'Maserati', 'Lexus', 'Lamborghini', 'Jaguar', 'Cadillac', 'Ram',\n",
       "        'Genesis', 'Jeep', 'Volvo', 'Honda', 'Lincoln', 'Acura',\n",
       "        'Chrysler', 'MINI', 'Volkswagen', 'Bentley', 'Subaru', 'Buick',\n",
       "        'Rolls-Royce', 'Nissan', 'Mitsubishi', 'Bugatti'], dtype=object),\n",
       " 'Model': array(['A 250 4MATIC Hatch', 'Mazda3 5-Door', 'Panamera 4 ST', 'CX-3 4WD',\n",
       "        'DBS V12', 'RAV4 AWD LE', 'Elantra', 'Corolla',\n",
       "        'Yukon 4WD (No Stop-Start)', 'Transit Connect Wagon LWB FFV',\n",
       "        'M235i xDrive Gran Coupe', 'SQ8 quattro', 'Sierra 4WD',\n",
       "        'Charger AWD', 'Bronco Black Diamond 4WD', 'Ranger 4WD Tremor',\n",
       "        'Mustang Convertible (High Performance)',\n",
       "        'Yukon XL 4WD (No Stop-Start)', '500X AWD', 'Giulia Quadrifoglio',\n",
       "        'Camaro ZL1', 'Kona', 'Range Rover Velar P340',\n",
       "        'Silverado 4WD Mud Terrain Tire', 'Sorento AWD',\n",
       "        'GLS 450 4MATIC SUV', '911 Carrera S', 'QX50 AWD',\n",
       "        'New Range Rover P400 LWB', 'Range Rover Sport HST P400', 'Camaro',\n",
       "        'Quattroporte Trofeo', 'LC 500 Convertible', 'Huracan evo Spyder',\n",
       "        'Highlander AWD', 'E-PACE P250', 'Escalade 4WD (No Stop-Start)',\n",
       "        'Traverse AWD', 'NX 350 AWD F SPORT', '1500 4X4 eTorque',\n",
       "        '718 Cayman GT4', 'GV70 AWD', 'Sierra 4WD (No Stop-Start)',\n",
       "        '430i xDrive Cabriolet', 'X3 xDrive30i', '718 Boxster S',\n",
       "        'Forte 5', 'Sierra', 'M8 Coupe Competition', 'X3 M', 'Yukon',\n",
       "        'Grand Wagoneer 4X4', 'Sierra 4WD Mud Terrain Tire',\n",
       "        'M4 Competition Coupe M xDrive', 'Niro FE',\n",
       "        'M4 Competition Cabriolet M xDrive', 'F-150 Tremor 4X4', 'S60 B5',\n",
       "        'C-HR', 'Panamera 4 Executive', 'Defender 110 5.0L V8',\n",
       "        'Range Rover Sport P575 SVR', 'M440i xDrive Coupe', 'Giulia AWD',\n",
       "        'Panamera Turbo S Executive', 'R8 Spyder Performance',\n",
       "        'R8 Coupe Performance quattro', 'F-150 4X4 FFV', 'XT5 AWD',\n",
       "        '1500 EcoDiesel', 'New Range Rover P400', '911 GT3 Touring',\n",
       "        'M760i xDrive Sedan', 'Yukon XL', 'Civic Sedan', 'Terrain AWD',\n",
       "        'Corsair AWD', 'XC60 B6 AWD', 'Levante Modena', 'CX-9 4WD',\n",
       "        'Camry LE/SE', 'Sienna AWD', 'Canyon', 'RAV4 AWD TRD Off-Road',\n",
       "        'Challenger', 'F-150 Raptor 37 4X4 (Without Stop-Start)',\n",
       "        'Corolla Apex Edition', 'Stelvio AWD Quadrifoglio', 'NSX',\n",
       "        'F-PACE SVR', 'Pacifica AWD', 'Wrangler JL 4X4',\n",
       "        'Cooper S Convertible', 'John Cooper Works 3 Door',\n",
       "        '1500 HFE EcoDiesel', 'Silverado 4WD Custom Trail Boss',\n",
       "        'Camaro SS', 'Bronco Sasquatch 4WD', 'Camry XSE',\n",
       "        '718 Boxster GTS 4.0', 'TLX Type S (Performance Tire)', 'Trax',\n",
       "        'A4 Sedan 40 TFSI quattro', 'Mustang Mach 1',\n",
       "        'Silverado 4WD (No Stop-Start)', 'GLE 450 4MATIC Coupe',\n",
       "        'Corolla Cross', 'Passat', 'Defender 90 P300', 'GT',\n",
       "        'Yukon XL 4WD', 'Wrangler JL Unlimited 4X4', '911 Carrera 4 GTS',\n",
       "        'LS 500h AWD', 'M440i xDrive Cabriolet', 'Forte',\n",
       "        'Continental GT Speed', '718 Boxster', 'Bronco Badlands 4WD',\n",
       "        'Accord Sport/Touring', 'CT5', '430i xDrive Coupe',\n",
       "        'GLC 300 4MATIC Coupe', 'CR-V', 'Colorado 4WD', 'Charger (MDS)',\n",
       "        'Tahoe', 'Q50 AWD Red Sport', 'X4 xDrive30i',\n",
       "        '911 Carrera Cabriolet', 'Cherokee 4X4 Active Drive I',\n",
       "        '718 Cayman S', 'Defender 110 P300', 'X6 M', 'X3 M40i',\n",
       "        'Santa Fe AWD', 'AMG A 35 4MATIC Hatch', 'S8 Sedan quattro',\n",
       "        'Mazda3 4-Door 4WD', 'Legacy AWD', 'Transit Connect Wagon LWB',\n",
       "        'Challenger SRT Hellcat Widebody', 'RS 5 Sportback quattro',\n",
       "        'Mustang', 'Malibu', 'XC90 T6 AWD', '1500 Classic 4X4',\n",
       "        'Challenger Widebody (MDS)', 'AMG GLE 63 S 4MATIC+ SUV',\n",
       "        'Expedition Timberline 4X4', 'Maverick AWD', 'Tundra 4WD TRD',\n",
       "        'CT4-V', 'X5 M50i', 'Ascent AWD', 'S3 Sedan quattro',\n",
       "        'Mustang Convertible', 'Camry AWD XSE', 'Encore GX AWD',\n",
       "        'Palisade AWD', 'Sierra 4WD FFV', 'IS 500', 'F-150 FFV', 'DBX V8',\n",
       "        'Panamera Turbo S ST', '718 Cayman T',\n",
       "        'Sierra 4WD (With Sport Mode)',\n",
       "        'Wrangler JL Unlimited 4X4 Rubicon EcoDiesel', 'ES 350 F SPORT',\n",
       "        'Q7 45 TFSI quattro', 'Trailblazer', '911 Carrera 4S Cabriolet',\n",
       "        'CX-3 (SIL)', 'Cooper S 5 Door', 'Cayenne Turbo Coupe',\n",
       "        'Bronco Raptor 4WD', 'Range Rover P400',\n",
       "        'Aventador Ultimae Roadster', 'Impreza 5-Door AWD', 'DB11 V12',\n",
       "        'X6 M Competition', 'F-150 FFV (Without Stop-Start)', 'Pacifica',\n",
       "        '911 Carrera 4 GTS Cabriolet', 'Tundra', 'Colorado ZR2 4WD',\n",
       "        'X3 M Competition', 'Range Rover Velar P400', 'Escape Hybrid AWD',\n",
       "        'Cooper S Countryman ALL4', 'AMG GLE 63 S 4MATIC+ Coupe',\n",
       "        'E 450 4MATIC Cabriolet', 'Mazda3 5-Door (SIL)', 'GR86',\n",
       "        'Gladiator 4X4 Rubicon EcoDiesel', 'Taos', 'RS 5 Coupe quattro',\n",
       "        'Impreza 4-Door AWD', 'CT5-V', 'Ghost Black Badge', 'Blazer',\n",
       "        'DB11 V8', 'RS 7 Sportback quattro', 'Atlas 4MOTION',\n",
       "        'Compass 4X4', 'Mazda3 5-Door 4WD', 'Tucson AWD',\n",
       "        'AMG GLA 35 4MATIC SUV', 'Silverado 4WD ZR2',\n",
       "        'A5 Coupe 45 TFSI quattro', 'Qashqai',\n",
       "        'Accord Hybrid Sport/Touring', 'RAV4', 'Transit Connect Van FFV',\n",
       "        'Suburban', 'Q5 Sportback 45 TFSI quattro', 'Tundra 4WD',\n",
       "        'G90 AWD', 'Kona AWD', 'Tundra Hybrid 4WD', 'Cayenne',\n",
       "        'GLE 450 4MATIC SUV', 'Cayenne S Coupe', 'Panamera 4',\n",
       "        'F-TYPE P450 Coupe AWD', 'Venza AWD', '911 Carrera GTS',\n",
       "        'Defender 110 P400', 'Tundra Hybrid 4WD TRD PRO', 'Escalade 4WD',\n",
       "        'RAV4 (Stop/Start)', 'CT4-V Blackwing', 'Mazda3 4-Door Turbo 4WD',\n",
       "        'AMG E 53 4MATIC+ Cabriolet', 'X2 xDrive28i', 'Spark', 'MX-5',\n",
       "        'M8 Coupe', 'Yukon 4WD', 'Yukon (No Stop-Start)',\n",
       "        'Cooper Convertible', 'New Range Rover P530', 'Pathfinder 4WD',\n",
       "        'X4 M Competition', 'S5 Coupe quattro', 'GR Supra 3.0',\n",
       "        'Silverado 4WD FFV', 'CX-5 4WD (Cylinder Deactivation)',\n",
       "        '911 Targa 4S', 'Murano AWD', 'TLX Type S', 'Q5 45 TFSI quattro',\n",
       "        'Passport AWD', 'CX-3', '300 AWD',\n",
       "        'Expedition 4X4 (Without Stop-Start)', 'Cooper 3 Door',\n",
       "        'Huracan evo Coupe AWD', 'RC 350 AWD', 'AMG GLE 53 4MATIC+ SUV',\n",
       "        'CLA 250 4MATIC Coupe', 'Challenger AWD', 'IS 350 AWD', 'Escape',\n",
       "        'Sierra 4WD Mud Terrain Tire (No Stop-Start)', 'CT4-V AWD',\n",
       "        'Rogue AWD', 'Ghibli Modena AWD', '1500 Classic', 'Niro', 'Sentra',\n",
       "        'Q60 AWD', 'CT4 AWD', 'CT4', 'CLS 450 4MATIC Coupe', 'Corolla XLE',\n",
       "        'Metris Cargo Van', 'CX-5 Turbo 4WD', 'IONIQ', 'X5 M Competition',\n",
       "        'Cayenne S', 'IS 300', 'Envision', 'Sequoia 4WD', 'Silverado',\n",
       "        'IS 300 AWD', 'Bronco 4WD', 'EcoSport AWD', 'X5 M', 'Colorado',\n",
       "        'Silverado 4WD', 'Civic Hatchback', 'Trailblazer AWD', 'Terrain',\n",
       "        'Frontier 4WD', 'Tacoma 4WD D-Cab TRD Off-Road/PRO',\n",
       "        'Outlander 4WD', 'X7 xDrive40i', 'Navigator 4X4',\n",
       "        'Sierra 4WD Mud Terrain Tire FFV', '911 Carrera GTS Cabriolet',\n",
       "        'RVR 4WD', 'Silverado 4WD Mud Terrain Tire (No DFM)',\n",
       "        'Ghibli Trofeo', 'Outback AWD', 'Cooper S 3 Door', '718 Cayman',\n",
       "        '4Runner 4WD', 'RC F', 'Canyon 4WD', 'Cherokee', '911 Carrera 4',\n",
       "        'F-PACE P250', 'X2 M35i', 'AMG GLC 43 4MATIC SUV', 'Suburban 4WD',\n",
       "        'Panamera 4S ST', 'GX 460', 'Mazda3 5-Door Turbo 4WD', 'G80 AWD',\n",
       "        'Jetta GLI', 'Suburban 4WD (No Stop-Start)', 'Rogue',\n",
       "        'AMG A 35 4MATIC Sedan', 'F-150', 'Quattroporte Modena',\n",
       "        'Sierra 4WD Mud Terrain Tire (No DFM)', 'Prius AWD',\n",
       "        'E 450 4MATIC All-Terrain Wagon', 'Ranger 4WD', 'Challenger (MDS)',\n",
       "        'John Cooper Works Clubman ALL4', 'RX 450h AWD',\n",
       "        'Silverado 4WD Mud Terrain Tire (No Stop-Start)', 'RAV4 AWD',\n",
       "        'Mustang (High Performance)', 'F-TYPE R Coupe AWD',\n",
       "        'Ghibli Modena', 'Tiguan R-Line 4MOTION', 'Camry Hybrid LE',\n",
       "        'Crosstrek AWD', 'NX 350 AWD', 'Cayenne GTS', 'Levante Trofeo',\n",
       "        '911 Turbo', 'Seltos AWD', 'RAV4 Hybrid AWD',\n",
       "        'Defender 90 5.0L V8', 'M3 Sedan', 'Tahoe 4WD',\n",
       "        'AMG GT 53 4MATIC+ Coupe', 'CT5-V Blackwing',\n",
       "        'Grand Cherokee WK 4X4', 'Q5 40 TFSI quattro', 'XT6 AWD',\n",
       "        'CX-30 4WD', 'Cayenne Turbo', '911 Turbo Cabriolet',\n",
       "        'GR Supra 2.0', 'Cooper Countryman ALL4',\n",
       "        'M440i xDrive Gran Coupe', 'Sportage AWD', 'Urus',\n",
       "        'AMG GLB 35 4MATIC SUV', 'Elantra N', 'Rio', 'Tacoma 4WD',\n",
       "        'Sierra FFV', '718 Cayman GTS 4.0', '911 Turbo S', 'RDX SH-AWD',\n",
       "        'Levante GT', 'Ghost EWB', 'LC 500', 'Cooper S Clubman ALL4',\n",
       "        'S 500 4MATIC SWB Sedan', 'AMG E 53 4MATIC+ Sedan', 'M5 CS',\n",
       "        '911 Carrera S Cabriolet', 'Huracan evo Spyder AWD',\n",
       "        'Sierra 4WD (No DFM)', 'F-TYPE P450 Coupe', 'RS 6 Avant quattro',\n",
       "        'A8 L Sedan 55 TFSI quattro', '718 Boxster T', 'Chiron Pur Sport',\n",
       "        'A5 Sportback 45 TFSI quattro', '1500', 'Suburban (No Stop-Start)',\n",
       "        'Q60 AWD Red Sport', 'Sentra SR', 'GV80 AWD', 'A 220 4MATIC Sedan',\n",
       "        'Range Rover SVAutobiography', 'F-PACE P400', 'Encore',\n",
       "        'TT Coupe 45 TFSI quattro', 'Santa Cruz AWD', 'Quattroporte GT',\n",
       "        'X6 M50i', 'Golf GTI', 'Grand Cherokee 4X4', 'Cayenne Turbo GT',\n",
       "        'TTS Coupe quattro', 'Stelvio AWD', 'CT5 AWD',\n",
       "        'Q8 55 TFSI quattro', 'QX60 AWD', 'Acadia', 'S5 Cabriolet quattro',\n",
       "        'F-150 Tremor 4X4 (Without Stop-Start)', 'Mirage',\n",
       "        'GLS 600 4MATIC Maybach SUV', 'Metris Passenger Van', 'Edge AWD',\n",
       "        'C 300 4MATIC Cabriolet', '300', 'S 580 4MATIC LWB Sedan',\n",
       "        'Ridgeline AWD', 'XC60 B5 AWD', '1500 4X4', 'Charger', 'Seltos',\n",
       "        'Cooper 5 Door', 'C 300 4MATIC Coupe', 'Sonata', '911 Targa 4',\n",
       "        'M8 Gran Coupe', 'Stinger AWD', 'MDX SH-AWD', 'Corolla Hatchback',\n",
       "        'Soul', 'Alpina B7', 'Silverado 4WD (With Sport Mode)',\n",
       "        'Q3 45 TFSI quattro', 'Versa', 'Yukon XL (No Stop-Start)',\n",
       "        'Pilot AWD TrailSport', 'M4 Competition Coupe', 'F-150 Hybrid 4X4',\n",
       "        '4Runner 4WD (Part-Time 4WD) ', 'Tahoe 4WD (No Stop-Start)',\n",
       "        'Stelvio', 'Range Rover Velar P250', 'Charger Widebody (MDS)',\n",
       "        'XT5', 'Macan S', 'V60 CC T5 AWD', 'MC20', '911 GT3', 'Venue',\n",
       "        'Jetta', 'F-TYPE R Convertible AWD', 'Cayenne Coupe',\n",
       "        'Telluride AWD', 'Phantom', 'Sportage', 'AMG G 63 SUV',\n",
       "        'AMG SL 63 4MATIC+ Roadster', 'AMG CLA 45 4MATIC Coupe',\n",
       "        'SQ5 quattro', 'Santa Fe Hybrid', 'Sorento Hybrid AWD',\n",
       "        '1500 eTorque', 'Eclipse Cross 4WD', 'A3 Sedan 40 TFSI quattro',\n",
       "        'Durango AWD', 'Corvette', '911 Carrera 4S', 'QX55 AWD',\n",
       "        'Rogue AWD SL/Platinum', 'Explorer Timberline AWD',\n",
       "        'Mazda3 4-Door', 'X7 M50i', 'Cullinan Black Badge',\n",
       "        'M550i xDrive Sedan', 'M3 Competition Sedan M xDrive',\n",
       "        'Elantra (ISG)', 'F-150 4X4 FFV (Without Stop-Start)',\n",
       "        'Silverado 4WD (No DFM)', 'X5 xDrive40i', 'LC 500h', 'Vantage V8',\n",
       "        'C 300 4MATIC Sedan', 'Flying Spur', 'M8 Gran Coupe Competition',\n",
       "        '1500 4X4 EcoDiesel', 'M8 Cabriolet Competition'], dtype=object),\n",
       " 'Vehicle Class': array(['Station wagon: Small', 'Mid-size', 'Full-size', 'Compact',\n",
       "        'Minicompact', 'SUV: Small', 'SUV: Standard',\n",
       "        'Special purpose vehicle', 'Pickup truck: Standard', 'Subcompact',\n",
       "        'Two-seater', 'Minivan', 'Pickup truck: Small',\n",
       "        'Station wagon: Mid-size'], dtype=object),\n",
       " 'Engine Size (L)': [1.2, 8.0],\n",
       " 'Cylinders': [3, 16],\n",
       " 'Transmission': array(['AM7', 'AS6', 'AM8', 'A8', 'AS8', 'M6', 'A10', 'AS10', 'A9', 'M7',\n",
       "        'AV8', 'AS9', 'AV', 'AM6', 'AS7', 'AV10', 'AV7', 'A6', 'AM9', 'M5',\n",
       "        'AV6', 'AS5', 'AV1'], dtype=object),\n",
       " 'Fuel Type': array(['Z', 'X', 'E', 'D'], dtype=object),\n",
       " 'Fuel Consumption City (L/100 km)': [4.3, 30.3],\n",
       " 'Hwy (L/100 km)': [4.1, 20.9],\n",
       " 'Comb (L/100 km)': [4.2, 26.1],\n",
       " 'Comb (mpg)': [11, 67],\n",
       " 'CO2 Emissions (g/km)': [99, 608],\n",
       " 'Smog': [0, 4]}"
      ]
     },
     "execution_count": 38,
     "metadata": {},
     "output_type": "execute_result"
    }
   ],
   "source": [
    "ranges"
   ]
  },
  {
   "cell_type": "markdown",
   "metadata": {},
   "source": [
    "| Variables | Rango de valores | Definición |\n",
    "| --- | --- | --- |\n",
    "| {} | 1-10000 | Identificador de la muestra |\n",
    "| ```\n",
    "columns[1]``` | 2014 | Año del modelo |\n",
    "quiero añadir [columns[1]] en la tabla de arriba para que se vea el nombre de la columna para ello "
   ]
  },
  {
   "cell_type": "code",
   "execution_count": null,
   "metadata": {},
   "outputs": [],
   "source": []
  },
  {
   "cell_type": "markdown",
   "metadata": {},
   "source": []
  },
  {
   "cell_type": "markdown",
   "metadata": {},
   "source": []
  },
  {
   "cell_type": "markdown",
   "metadata": {},
   "source": []
  }
 ],
 "metadata": {
  "kernelspec": {
   "display_name": "Python 3",
   "language": "python",
   "name": "python3"
  },
  "language_info": {
   "codemirror_mode": {
    "name": "ipython",
    "version": 3
   },
   "file_extension": ".py",
   "mimetype": "text/x-python",
   "name": "python",
   "nbconvert_exporter": "python",
   "pygments_lexer": "ipython3",
   "version": "3.9.7"
  }
 },
 "nbformat": 4,
 "nbformat_minor": 2
}
