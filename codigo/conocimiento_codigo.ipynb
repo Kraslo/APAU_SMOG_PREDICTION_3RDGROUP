{
 "cells": [
  {
   "cell_type": "markdown",
   "metadata": {},
   "source": [
    "# Conocimiento de código"
   ]
  },
  {
   "cell_type": "markdown",
   "metadata": {},
   "source": [
    "## Librerías y funciones"
   ]
  },
  {
   "cell_type": "code",
   "execution_count": 28,
   "metadata": {},
   "outputs": [],
   "source": [
    "import pandas as pd\n",
    "import numpy as np\n",
    "import os\n",
    "\n",
    "\n",
    "# 27/10/2023\n",
    "import matplotlib as plt"
   ]
  },
  {
   "cell_type": "markdown",
   "metadata": {},
   "source": [
    "## Lectura de datos"
   ]
  },
  {
   "cell_type": "markdown",
   "metadata": {},
   "source": [
    "Vamos a primero comprender los disntintos datasets que nos han facilitado el concurso. Para ello, vamos a cargar los datos y a ver qué información contienen."
   ]
  },
  {
   "cell_type": "code",
   "execution_count": 3,
   "metadata": {},
   "outputs": [],
   "source": [
    "directorio = '../apau-smog-prediction/'\n",
    "lista = os.listdir(directorio)\n",
    "for i in lista:\n",
    "    exec(i.split('.')[0] + ' = pd.read_csv(directorio + i)')"
   ]
  },
  {
   "cell_type": "markdown",
   "metadata": {},
   "source": [
    "\n",
    "- sample_subsimmision, ejemplo de cómo debe ser el fichero de salida (la predicción)\n",
    "- test_nolabel, datos de test sin etiquetar (podemos observar que no tenemos la columna de la etiqueta -Smog-)\n",
    "- train, datos de entrenamiento \n",
    "\n"
   ]
  },
  {
   "cell_type": "code",
   "execution_count": 4,
   "metadata": {},
   "outputs": [
    {
     "data": {
      "text/html": [
       "<div>\n",
       "<style scoped>\n",
       "    .dataframe tbody tr th:only-of-type {\n",
       "        vertical-align: middle;\n",
       "    }\n",
       "\n",
       "    .dataframe tbody tr th {\n",
       "        vertical-align: top;\n",
       "    }\n",
       "\n",
       "    .dataframe thead th {\n",
       "        text-align: right;\n",
       "    }\n",
       "</style>\n",
       "<table border=\"1\" class=\"dataframe\">\n",
       "  <thead>\n",
       "    <tr style=\"text-align: right;\">\n",
       "      <th></th>\n",
       "      <th>id</th>\n",
       "      <th>Predicted</th>\n",
       "    </tr>\n",
       "  </thead>\n",
       "  <tbody>\n",
       "    <tr>\n",
       "      <th>0</th>\n",
       "      <td>2be023f9102</td>\n",
       "      <td>2</td>\n",
       "    </tr>\n",
       "    <tr>\n",
       "      <th>1</th>\n",
       "      <td>a320ba7de7b</td>\n",
       "      <td>3</td>\n",
       "    </tr>\n",
       "    <tr>\n",
       "      <th>2</th>\n",
       "      <td>2879e8fa078</td>\n",
       "      <td>0</td>\n",
       "    </tr>\n",
       "    <tr>\n",
       "      <th>3</th>\n",
       "      <td>a561b6ee65b</td>\n",
       "      <td>2</td>\n",
       "    </tr>\n",
       "    <tr>\n",
       "      <th>4</th>\n",
       "      <td>94c225dd8e9</td>\n",
       "      <td>1</td>\n",
       "    </tr>\n",
       "  </tbody>\n",
       "</table>\n",
       "</div>"
      ],
      "text/plain": [
       "            id  Predicted\n",
       "0  2be023f9102          2\n",
       "1  a320ba7de7b          3\n",
       "2  2879e8fa078          0\n",
       "3  a561b6ee65b          2\n",
       "4  94c225dd8e9          1"
      ]
     },
     "execution_count": 4,
     "metadata": {},
     "output_type": "execute_result"
    }
   ],
   "source": [
    "sample_submission.head()"
   ]
  },
  {
   "cell_type": "code",
   "execution_count": 20,
   "metadata": {},
   "outputs": [
    {
     "data": {
      "text/html": [
       "<div>\n",
       "<style scoped>\n",
       "    .dataframe tbody tr th:only-of-type {\n",
       "        vertical-align: middle;\n",
       "    }\n",
       "\n",
       "    .dataframe tbody tr th {\n",
       "        vertical-align: top;\n",
       "    }\n",
       "\n",
       "    .dataframe thead th {\n",
       "        text-align: right;\n",
       "    }\n",
       "</style>\n",
       "<table border=\"1\" class=\"dataframe\">\n",
       "  <thead>\n",
       "    <tr style=\"text-align: right;\">\n",
       "      <th></th>\n",
       "      <th>id</th>\n",
       "      <th>Model Year</th>\n",
       "      <th>Make</th>\n",
       "      <th>Model</th>\n",
       "      <th>Vehicle Class</th>\n",
       "      <th>Engine Size (L)</th>\n",
       "      <th>Cylinders</th>\n",
       "      <th>Transmission</th>\n",
       "      <th>Fuel Type</th>\n",
       "      <th>Fuel Consumption City (L/100 km)</th>\n",
       "      <th>Hwy (L/100 km)</th>\n",
       "      <th>Comb (L/100 km)</th>\n",
       "      <th>Comb (mpg)</th>\n",
       "      <th>CO2 Emissions (g/km)</th>\n",
       "    </tr>\n",
       "  </thead>\n",
       "  <tbody>\n",
       "    <tr>\n",
       "      <th>0</th>\n",
       "      <td>2be023f9102</td>\n",
       "      <td>2022</td>\n",
       "      <td>Jeep</td>\n",
       "      <td>Wagoneer 4X4</td>\n",
       "      <td>SUV: Standard</td>\n",
       "      <td>5.7</td>\n",
       "      <td>8</td>\n",
       "      <td>A8</td>\n",
       "      <td>X</td>\n",
       "      <td>15.6</td>\n",
       "      <td>11.7</td>\n",
       "      <td>13.8</td>\n",
       "      <td>20</td>\n",
       "      <td>323</td>\n",
       "    </tr>\n",
       "    <tr>\n",
       "      <th>1</th>\n",
       "      <td>a320ba7de7b</td>\n",
       "      <td>2022</td>\n",
       "      <td>Porsche</td>\n",
       "      <td>718 Boxster</td>\n",
       "      <td>Two-seater</td>\n",
       "      <td>2.0</td>\n",
       "      <td>4</td>\n",
       "      <td>M6</td>\n",
       "      <td>Z</td>\n",
       "      <td>11.7</td>\n",
       "      <td>8.9</td>\n",
       "      <td>10.5</td>\n",
       "      <td>27</td>\n",
       "      <td>245</td>\n",
       "    </tr>\n",
       "    <tr>\n",
       "      <th>2</th>\n",
       "      <td>2879e8fa078</td>\n",
       "      <td>2022</td>\n",
       "      <td>Chrysler</td>\n",
       "      <td>Grand Caravan</td>\n",
       "      <td>Minivan</td>\n",
       "      <td>3.6</td>\n",
       "      <td>6</td>\n",
       "      <td>A9</td>\n",
       "      <td>X</td>\n",
       "      <td>12.4</td>\n",
       "      <td>8.4</td>\n",
       "      <td>10.6</td>\n",
       "      <td>27</td>\n",
       "      <td>249</td>\n",
       "    </tr>\n",
       "    <tr>\n",
       "      <th>3</th>\n",
       "      <td>a561b6ee65b</td>\n",
       "      <td>2022</td>\n",
       "      <td>Kia</td>\n",
       "      <td>Sorento AWD</td>\n",
       "      <td>SUV: Small</td>\n",
       "      <td>2.5</td>\n",
       "      <td>4</td>\n",
       "      <td>AM8</td>\n",
       "      <td>X</td>\n",
       "      <td>10.9</td>\n",
       "      <td>8.7</td>\n",
       "      <td>9.9</td>\n",
       "      <td>29</td>\n",
       "      <td>234</td>\n",
       "    </tr>\n",
       "    <tr>\n",
       "      <th>4</th>\n",
       "      <td>94c225dd8e9</td>\n",
       "      <td>2022</td>\n",
       "      <td>Bentley</td>\n",
       "      <td>Continental GT</td>\n",
       "      <td>Subcompact</td>\n",
       "      <td>4.0</td>\n",
       "      <td>8</td>\n",
       "      <td>AM8</td>\n",
       "      <td>Z</td>\n",
       "      <td>14.9</td>\n",
       "      <td>9.0</td>\n",
       "      <td>12.2</td>\n",
       "      <td>23</td>\n",
       "      <td>287</td>\n",
       "    </tr>\n",
       "  </tbody>\n",
       "</table>\n",
       "</div>"
      ],
      "text/plain": [
       "            id  Model Year      Make           Model  Vehicle Class  \\\n",
       "0  2be023f9102        2022      Jeep    Wagoneer 4X4  SUV: Standard   \n",
       "1  a320ba7de7b        2022   Porsche     718 Boxster     Two-seater   \n",
       "2  2879e8fa078        2022  Chrysler   Grand Caravan        Minivan   \n",
       "3  a561b6ee65b        2022       Kia     Sorento AWD     SUV: Small   \n",
       "4  94c225dd8e9        2022   Bentley  Continental GT     Subcompact   \n",
       "\n",
       "   Engine Size (L)  Cylinders Transmission Fuel Type  \\\n",
       "0              5.7          8           A8         X   \n",
       "1              2.0          4           M6         Z   \n",
       "2              3.6          6           A9         X   \n",
       "3              2.5          4          AM8         X   \n",
       "4              4.0          8          AM8         Z   \n",
       "\n",
       "   Fuel Consumption City (L/100 km)  Hwy (L/100 km)  Comb (L/100 km)  \\\n",
       "0                              15.6            11.7             13.8   \n",
       "1                              11.7             8.9             10.5   \n",
       "2                              12.4             8.4             10.6   \n",
       "3                              10.9             8.7              9.9   \n",
       "4                              14.9             9.0             12.2   \n",
       "\n",
       "   Comb (mpg)  CO2 Emissions (g/km)  \n",
       "0          20                   323  \n",
       "1          27                   245  \n",
       "2          27                   249  \n",
       "3          29                   234  \n",
       "4          23                   287  "
      ]
     },
     "execution_count": 20,
     "metadata": {},
     "output_type": "execute_result"
    }
   ],
   "source": [
    "test_nolabel.head()"
   ]
  },
  {
   "cell_type": "code",
   "execution_count": 21,
   "metadata": {},
   "outputs": [
    {
     "data": {
      "text/html": [
       "<div>\n",
       "<style scoped>\n",
       "    .dataframe tbody tr th:only-of-type {\n",
       "        vertical-align: middle;\n",
       "    }\n",
       "\n",
       "    .dataframe tbody tr th {\n",
       "        vertical-align: top;\n",
       "    }\n",
       "\n",
       "    .dataframe thead th {\n",
       "        text-align: right;\n",
       "    }\n",
       "</style>\n",
       "<table border=\"1\" class=\"dataframe\">\n",
       "  <thead>\n",
       "    <tr style=\"text-align: right;\">\n",
       "      <th></th>\n",
       "      <th>id</th>\n",
       "      <th>Model Year</th>\n",
       "      <th>Make</th>\n",
       "      <th>Model</th>\n",
       "      <th>Vehicle Class</th>\n",
       "      <th>Engine Size (L)</th>\n",
       "      <th>Cylinders</th>\n",
       "      <th>Transmission</th>\n",
       "      <th>Fuel Type</th>\n",
       "      <th>Fuel Consumption City (L/100 km)</th>\n",
       "      <th>Hwy (L/100 km)</th>\n",
       "      <th>Comb (L/100 km)</th>\n",
       "      <th>Comb (mpg)</th>\n",
       "      <th>CO2 Emissions (g/km)</th>\n",
       "      <th>Smog</th>\n",
       "    </tr>\n",
       "  </thead>\n",
       "  <tbody>\n",
       "    <tr>\n",
       "      <th>0</th>\n",
       "      <td>ab44e9bec15</td>\n",
       "      <td>2022</td>\n",
       "      <td>Mercedes-Benz</td>\n",
       "      <td>A 250 4MATIC Hatch</td>\n",
       "      <td>Station wagon: Small</td>\n",
       "      <td>2.0</td>\n",
       "      <td>4</td>\n",
       "      <td>AM7</td>\n",
       "      <td>Z</td>\n",
       "      <td>10.0</td>\n",
       "      <td>7.0</td>\n",
       "      <td>8.7</td>\n",
       "      <td>32</td>\n",
       "      <td>202</td>\n",
       "      <td>2</td>\n",
       "    </tr>\n",
       "    <tr>\n",
       "      <th>1</th>\n",
       "      <td>45926762371</td>\n",
       "      <td>2022</td>\n",
       "      <td>Mazda</td>\n",
       "      <td>Mazda3 5-Door</td>\n",
       "      <td>Mid-size</td>\n",
       "      <td>2.0</td>\n",
       "      <td>4</td>\n",
       "      <td>AS6</td>\n",
       "      <td>X</td>\n",
       "      <td>8.6</td>\n",
       "      <td>6.7</td>\n",
       "      <td>7.7</td>\n",
       "      <td>37</td>\n",
       "      <td>181</td>\n",
       "      <td>4</td>\n",
       "    </tr>\n",
       "    <tr>\n",
       "      <th>2</th>\n",
       "      <td>e9be56e153f</td>\n",
       "      <td>2022</td>\n",
       "      <td>Porsche</td>\n",
       "      <td>Panamera 4 ST</td>\n",
       "      <td>Full-size</td>\n",
       "      <td>2.9</td>\n",
       "      <td>6</td>\n",
       "      <td>AM8</td>\n",
       "      <td>Z</td>\n",
       "      <td>12.8</td>\n",
       "      <td>10.2</td>\n",
       "      <td>11.7</td>\n",
       "      <td>24</td>\n",
       "      <td>274</td>\n",
       "      <td>2</td>\n",
       "    </tr>\n",
       "    <tr>\n",
       "      <th>3</th>\n",
       "      <td>077092760df</td>\n",
       "      <td>2022</td>\n",
       "      <td>Mazda</td>\n",
       "      <td>CX-3 4WD</td>\n",
       "      <td>Compact</td>\n",
       "      <td>2.0</td>\n",
       "      <td>4</td>\n",
       "      <td>AS6</td>\n",
       "      <td>X</td>\n",
       "      <td>8.6</td>\n",
       "      <td>7.4</td>\n",
       "      <td>8.1</td>\n",
       "      <td>35</td>\n",
       "      <td>189</td>\n",
       "      <td>1</td>\n",
       "    </tr>\n",
       "    <tr>\n",
       "      <th>4</th>\n",
       "      <td>c1c2579b795</td>\n",
       "      <td>2022</td>\n",
       "      <td>Aston Martin</td>\n",
       "      <td>DBS V12</td>\n",
       "      <td>Minicompact</td>\n",
       "      <td>5.2</td>\n",
       "      <td>12</td>\n",
       "      <td>A8</td>\n",
       "      <td>Z</td>\n",
       "      <td>16.4</td>\n",
       "      <td>10.7</td>\n",
       "      <td>13.8</td>\n",
       "      <td>20</td>\n",
       "      <td>324</td>\n",
       "      <td>1</td>\n",
       "    </tr>\n",
       "  </tbody>\n",
       "</table>\n",
       "</div>"
      ],
      "text/plain": [
       "            id  Model Year           Make               Model  \\\n",
       "0  ab44e9bec15        2022  Mercedes-Benz  A 250 4MATIC Hatch   \n",
       "1  45926762371        2022          Mazda       Mazda3 5-Door   \n",
       "2  e9be56e153f        2022        Porsche       Panamera 4 ST   \n",
       "3  077092760df        2022          Mazda            CX-3 4WD   \n",
       "4  c1c2579b795        2022   Aston Martin             DBS V12   \n",
       "\n",
       "          Vehicle Class  Engine Size (L)  Cylinders Transmission Fuel Type  \\\n",
       "0  Station wagon: Small              2.0          4          AM7         Z   \n",
       "1              Mid-size              2.0          4          AS6         X   \n",
       "2             Full-size              2.9          6          AM8         Z   \n",
       "3               Compact              2.0          4          AS6         X   \n",
       "4           Minicompact              5.2         12           A8         Z   \n",
       "\n",
       "   Fuel Consumption City (L/100 km)  Hwy (L/100 km)  Comb (L/100 km)  \\\n",
       "0                              10.0             7.0              8.7   \n",
       "1                               8.6             6.7              7.7   \n",
       "2                              12.8            10.2             11.7   \n",
       "3                               8.6             7.4              8.1   \n",
       "4                              16.4            10.7             13.8   \n",
       "\n",
       "   Comb (mpg)  CO2 Emissions (g/km)  Smog  \n",
       "0          32                   202     2  \n",
       "1          37                   181     4  \n",
       "2          24                   274     2  \n",
       "3          35                   189     1  \n",
       "4          20                   324     1  "
      ]
     },
     "execution_count": 21,
     "metadata": {},
     "output_type": "execute_result"
    }
   ],
   "source": [
    "train.head()"
   ]
  },
  {
   "cell_type": "markdown",
   "metadata": {},
   "source": [
    "## Limpieza de datos"
   ]
  },
  {
   "cell_type": "markdown",
   "metadata": {},
   "source": [
    "La limpieza de datos se va a llevar a cabo sobre dataset de entrenamiento y de test. Dicha limpieza consiste en:\n",
    "1. Encontrar valores nulos y estudiar si se pueden eliminar o rellenar con algún valor\n",
    "2. Descubrir outliers y estudiar si se pueden eliminar o rellenar con algún valor\n",
    "3. Estudio de variables que puedan ser buenos predictores\n",
    "\n",
    "\n",
    "\n",
    "\n"
   ]
  },
  {
   "cell_type": "markdown",
   "metadata": {},
   "source": [
    "Primero vamos a encotrar los valores nulos:"
   ]
  },
  {
   "cell_type": "code",
   "execution_count": 26,
   "metadata": {},
   "outputs": [
    {
     "name": "stdout",
     "output_type": "stream",
     "text": [
      "NaN? - ID                                          False\n",
      "NaN? - MODEL YEAR                                  False\n",
      "NaN? - MAKE                                        False\n",
      "NaN? - MODEL                                       False\n",
      "NaN? - VEHICLE CLASS                               False\n",
      "NaN? - ENGINE SIZE (L)                             False\n",
      "NaN? - CYLINDERS                                   False\n",
      "NaN? - TRANSMISSION                                False\n",
      "NaN? - FUEL TYPE                                   False\n",
      "NaN? - FUEL CONSUMPTION CITY (L/100 KM)            False\n",
      "NaN? - HWY (L/100 KM)                              False\n",
      "NaN? - COMB (L/100 KM)                             False\n",
      "NaN? - COMB (MPG)                                  False\n",
      "NaN? - CO2 EMISSIONS (G/KM)                        False\n",
      "NaN? - SMOG                                        False\n"
     ]
    }
   ],
   "source": [
    "columns = train.columns\n",
    "\n",
    "for column in columns:\n",
    "    text = f'NaN? - {column.upper()}'\n",
    "    isNa = train[column].isna().any()\n",
    "    print(f'{text.ljust(50)} {isNa}')"
   ]
  },
  {
   "cell_type": "markdown",
   "metadata": {},
   "source": [
    "Vemos que no hay un valor NaN en todo el dataset, por lo que no es necesario rellenar ningún dato.\n",
    "\n",
    "Ahora, visualicemos con histogramas todos los datos que sean de tipo entero:"
   ]
  },
  {
   "cell_type": "code",
   "execution_count": 52,
   "metadata": {},
   "outputs": [
    {
     "data": {
      "text/plain": [
       "array([[<Axes: title={'center': 'Model Year'}>,\n",
       "        <Axes: title={'center': 'Cylinders'}>,\n",
       "        <Axes: title={'center': 'Comb (mpg)'}>,\n",
       "        <Axes: title={'center': 'CO2 Emissions (g/km)'}>],\n",
       "       [<Axes: title={'center': 'Smog'}>, <Axes: >, <Axes: >, <Axes: >],\n",
       "       [<Axes: >, <Axes: >, <Axes: >, <Axes: >],\n",
       "       [<Axes: >, <Axes: >, <Axes: >, <Axes: >]], dtype=object)"
      ]
     },
     "execution_count": 52,
     "metadata": {},
     "output_type": "execute_result"
    },
    {
     "data": {
      "image/png": "[encoded data removed]",
      "text/plain": [
       "<Figure size 2000x2000 with 16 Axes>"
      ]
     },
     "metadata": {},
     "output_type": "display_data"
    }
   ],
   "source": [
    "nearest_square = lambda number: np.power(np.round(np.sqrt(number)), 2)\n",
    "\n",
    "int_columns = train.select_dtypes(include=int)\n",
    "sq = int(nearest_square(len(int_columns.columns)))\n",
    "\n",
    "int_columns.hist(figsize=(20, 20), layout=(sq, sq))"
   ]
  },
  {
   "cell_type": "markdown",
   "metadata": {},
   "source": [
    "Si nos fijamos en el historial de 'Model Year', vemos que todas las entradas al dataset tienen el mismo dato en esa columna.\n",
    "\n",
    "Por tanto, concluimos que el año del modelo es irrelevante para la predicción del SMOG. En otras palabras, la ganancia de información de SMOG por MODEL YEAR es 0."
   ]
  }
 ],
 "metadata": {
  "kernelspec": {
   "display_name": "Python 3",
   "language": "python",
   "name": "python3"
  },
  "language_info": {
   "codemirror_mode": {
    "name": "ipython",
    "version": 3
   },
   "file_extension": ".py",
   "mimetype": "text/x-python",
   "name": "python",
   "nbconvert_exporter": "python",
   "pygments_lexer": "ipython3",
   "version": "3.11.6"
  }
 },
 "nbformat": 4,
 "nbformat_minor": 2
}
